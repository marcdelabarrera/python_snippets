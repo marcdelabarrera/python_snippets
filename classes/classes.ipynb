{
 "cells": [
  {
   "cell_type": "markdown",
   "metadata": {},
   "source": [
    "### Classes"
   ]
  },
  {
   "cell_type": "markdown",
   "metadata": {},
   "source": [
    "`Foo` is a *class*, `foo = Foo()` is a class *instance*, `atr` is a class atribute, and `fun` is a class method."
   ]
  },
  {
   "cell_type": "code",
   "execution_count": 1,
   "metadata": {},
   "outputs": [],
   "source": [
    "class Foo():\n",
    "    def __init__(self):\n",
    "        self.attribute = 1\n",
    "    \n",
    "    def __call__(self,x):\n",
    "        return x\n",
    "    \n",
    "    def __str__(self):\n",
    "        return 'Class Foo with attribute {}'.format(self.attribute)\n",
    "    \n",
    "    def __repr__(self):\n",
    "        return 'Foo()'\n",
    "\n",
    "    def fun(self,x):\n",
    "        return self.attribute*x\n",
    "\n",
    "    @property\n",
    "    def dynamic_attribute(self):\n",
    "        return self.attribute+1"
   ]
  },
  {
   "cell_type": "code",
   "execution_count": 2,
   "metadata": {},
   "outputs": [
    {
     "data": {
      "text/plain": [
       "3"
      ]
     },
     "metadata": {},
     "output_type": "display_data"
    },
    {
     "data": {
      "text/plain": [
       "{'attribute': 1, 'other_attribute': True}"
      ]
     },
     "metadata": {},
     "output_type": "display_data"
    },
    {
     "data": {
      "text/plain": [
       "False"
      ]
     },
     "metadata": {},
     "output_type": "display_data"
    },
    {
     "data": {
      "text/plain": [
       "Foo()"
      ]
     },
     "metadata": {},
     "output_type": "display_data"
    },
    {
     "name": "stdout",
     "output_type": "stream",
     "text": [
      "Class Foo with attribute 1\n"
     ]
    },
    {
     "data": {
      "text/plain": [
       "'Class Foo with attribute 1'"
      ]
     },
     "metadata": {},
     "output_type": "display_data"
    }
   ],
   "source": [
    "foo=Foo()\n",
    "foo.other_attribute = True\n",
    "display(foo(3))\n",
    "display(foo.__dict__)\n",
    "display(hasattr(foo,'atr'))\n",
    "display(foo)\n",
    "print(foo)\n",
    "display(str(foo))"
   ]
  },
  {
   "cell_type": "code",
   "execution_count": 3,
   "metadata": {},
   "outputs": [
    {
     "name": "stdout",
     "output_type": "stream",
     "text": [
      "2\n"
     ]
    }
   ],
   "source": [
    "print(Foo().dynamic_attribute)"
   ]
  },
  {
   "cell_type": "markdown",
   "metadata": {},
   "source": [
    "`__new__` creates a class instance but does not initialize it (it does not call `__init__`) "
   ]
  },
  {
   "cell_type": "code",
   "execution_count": 4,
   "metadata": {},
   "outputs": [],
   "source": [
    "class Foo():\n",
    "    def __init__(self, x):\n",
    "        print('Class initialized')\n",
    "        self.x = x\n",
    "\n",
    "    def fun(self):\n",
    "        return 1\n",
    "\n",
    "    def __new__(cls, *args):\n",
    "        print('New is called')\n",
    "        return object.__new__(cls) "
   ]
  },
  {
   "cell_type": "code",
   "execution_count": 5,
   "metadata": {},
   "outputs": [
    {
     "name": "stdout",
     "output_type": "stream",
     "text": [
      "New is called\n",
      "Class initialized\n"
     ]
    },
    {
     "data": {
      "text/plain": [
       "1"
      ]
     },
     "execution_count": 5,
     "metadata": {},
     "output_type": "execute_result"
    }
   ],
   "source": [
    "foo = Foo(2)\n",
    "foo.fun()"
   ]
  },
  {
   "cell_type": "code",
   "execution_count": 7,
   "metadata": {},
   "outputs": [
    {
     "name": "stdout",
     "output_type": "stream",
     "text": [
      "New is called\n",
      "1\n"
     ]
    },
    {
     "ename": "AttributeError",
     "evalue": "'Foo' object has no attribute 'x'",
     "output_type": "error",
     "traceback": [
      "\u001b[1;31m---------------------------------------------------------------------------\u001b[0m",
      "\u001b[1;31mAttributeError\u001b[0m                            Traceback (most recent call last)",
      "\u001b[1;32m~\\AppData\\Local\\Temp/ipykernel_11472/1027403388.py\u001b[0m in \u001b[0;36m<module>\u001b[1;34m\u001b[0m\n\u001b[0;32m      1\u001b[0m \u001b[0mfoo\u001b[0m \u001b[1;33m=\u001b[0m \u001b[0mFoo\u001b[0m\u001b[1;33m.\u001b[0m\u001b[0m__new__\u001b[0m\u001b[1;33m(\u001b[0m\u001b[0mFoo\u001b[0m\u001b[1;33m)\u001b[0m\u001b[1;33m\u001b[0m\u001b[1;33m\u001b[0m\u001b[0m\n\u001b[0;32m      2\u001b[0m \u001b[0mprint\u001b[0m\u001b[1;33m(\u001b[0m\u001b[0mfoo\u001b[0m\u001b[1;33m.\u001b[0m\u001b[0mfun\u001b[0m\u001b[1;33m(\u001b[0m\u001b[1;33m)\u001b[0m\u001b[1;33m)\u001b[0m\u001b[1;33m\u001b[0m\u001b[1;33m\u001b[0m\u001b[0m\n\u001b[1;32m----> 3\u001b[1;33m \u001b[0mprint\u001b[0m\u001b[1;33m(\u001b[0m\u001b[0mfoo\u001b[0m\u001b[1;33m.\u001b[0m\u001b[0mx\u001b[0m\u001b[1;33m)\u001b[0m\u001b[1;33m\u001b[0m\u001b[1;33m\u001b[0m\u001b[0m\n\u001b[0m",
      "\u001b[1;31mAttributeError\u001b[0m: 'Foo' object has no attribute 'x'"
     ]
    }
   ],
   "source": [
    "foo = Foo.__new__(Foo)\n",
    "print(foo.fun())"
   ]
  },
  {
   "cell_type": "markdown",
   "metadata": {},
   "source": [
    "**Inheritance**\n",
    "\n",
    "Use `cls.__bases__` to check direct inheritance and `cls.__mro__` to check all inheritances."
   ]
  },
  {
   "cell_type": "code",
   "execution_count": 75,
   "metadata": {},
   "outputs": [],
   "source": [
    "class ClassA:\n",
    "    def __init__(self):\n",
    "        print('Init of class A')\n",
    "\n",
    "    def foo(self):\n",
    "        print('Foo in class A')\n",
    "\n",
    "class ClassB(ClassA):\n",
    "    pass\n",
    "\n",
    "class ClassC(ClassB):\n",
    "    def __init__(self):\n",
    "        print('Init of class C')\n",
    "        super().__init__()\n",
    "    pass"
   ]
  },
  {
   "cell_type": "code",
   "execution_count": 81,
   "metadata": {},
   "outputs": [
    {
     "data": {
      "text/plain": [
       "<__main__.ClassA at 0x1f40f783e20>"
      ]
     },
     "execution_count": 81,
     "metadata": {},
     "output_type": "execute_result"
    }
   ],
   "source": [
    "object.__new__(ClassA)"
   ]
  },
  {
   "cell_type": "code",
   "execution_count": 76,
   "metadata": {},
   "outputs": [
    {
     "name": "stdout",
     "output_type": "stream",
     "text": [
      "(<class '__main__.ClassC'>, <class '__main__.ClassB'>, <class '__main__.ClassA'>, <class 'object'>)\n",
      "(<class '__main__.ClassB'>,)\n"
     ]
    }
   ],
   "source": [
    "print(ClassC.__mro__)\n",
    "print(ClassC.__bases__)\n"
   ]
  },
  {
   "cell_type": "code",
   "execution_count": 77,
   "metadata": {},
   "outputs": [
    {
     "data": {
      "text/plain": [
       "<function __main__.ClassA.foo(self)>"
      ]
     },
     "execution_count": 77,
     "metadata": {},
     "output_type": "execute_result"
    }
   ],
   "source": [
    "ClassC.foo"
   ]
  },
  {
   "cell_type": "code",
   "execution_count": 78,
   "metadata": {},
   "outputs": [
    {
     "name": "stdout",
     "output_type": "stream",
     "text": [
      "Init of class C\n",
      "Init of class A\n"
     ]
    },
    {
     "data": {
      "text/plain": [
       "<__main__.ClassC at 0x1f40f7aca60>"
      ]
     },
     "execution_count": 78,
     "metadata": {},
     "output_type": "execute_result"
    }
   ],
   "source": [
    "ClassC()"
   ]
  },
  {
   "cell_type": "markdown",
   "metadata": {},
   "source": [
    "**Class Methods**\n",
    "\n",
    "`@classmethod` takes the class as first argument (by convention we use `cls`) "
   ]
  },
  {
   "cell_type": "code",
   "execution_count": 21,
   "metadata": {},
   "outputs": [],
   "source": [
    "class Foo():\n",
    "    x = 3\n",
    "    @classmethod\n",
    "    def change_x(cls, x_new): \n",
    "        cls.x = x_new"
   ]
  },
  {
   "cell_type": "code",
   "execution_count": 22,
   "metadata": {},
   "outputs": [
    {
     "name": "stdout",
     "output_type": "stream",
     "text": [
      "3 3\n"
     ]
    }
   ],
   "source": [
    "Foo\n",
    "foo = Foo()\n",
    "print(Foo.x, foo.x)"
   ]
  },
  {
   "cell_type": "code",
   "execution_count": 23,
   "metadata": {},
   "outputs": [
    {
     "data": {
      "text/plain": [
       "5"
      ]
     },
     "execution_count": 23,
     "metadata": {},
     "output_type": "execute_result"
    }
   ],
   "source": [
    "Foo.change_x(5)\n",
    "foo.x"
   ]
  },
  {
   "cell_type": "markdown",
   "metadata": {},
   "source": [
    "**Static Methods**\n",
    "\n",
    "`@staticmethod` does not take the instance of a class neither the class as argument."
   ]
  },
  {
   "cell_type": "code",
   "execution_count": 30,
   "metadata": {},
   "outputs": [],
   "source": [
    "class Foo():\n",
    "    def fun(self, x): #We're not using self anywhere\n",
    "        print(x)\n",
    "\n",
    "    @staticmethod\n",
    "    def fun_static(x):\n",
    "        print(x)\n",
    "\n",
    "   "
   ]
  },
  {
   "cell_type": "code",
   "execution_count": 31,
   "metadata": {},
   "outputs": [
    {
     "name": "stdout",
     "output_type": "stream",
     "text": [
      "2\n",
      "2\n"
     ]
    }
   ],
   "source": [
    "Foo().fun('2')\n",
    "Foo().fun_static('2')"
   ]
  },
  {
   "cell_type": "markdown",
   "metadata": {},
   "source": [
    "**Decorators**"
   ]
  },
  {
   "cell_type": "code",
   "execution_count": 138,
   "metadata": {},
   "outputs": [],
   "source": [
    "def decorator(func):\n",
    "    def wrapper(*args, **kwargs):\n",
    "        print('Inside wrapper')\n",
    "        return func(*args, **kwargs)\n",
    "    return wrapper"
   ]
  },
  {
   "cell_type": "code",
   "execution_count": 141,
   "metadata": {},
   "outputs": [],
   "source": [
    "@decorator\n",
    "def foo(a):\n",
    "    print('Here')\n",
    "    print(a)\n",
    "    return a+3"
   ]
  },
  {
   "cell_type": "code",
   "execution_count": 142,
   "metadata": {},
   "outputs": [
    {
     "name": "stdout",
     "output_type": "stream",
     "text": [
      "Inside wrapper\n",
      "Here\n",
      "3\n"
     ]
    },
    {
     "data": {
      "text/plain": [
       "6"
      ]
     },
     "execution_count": 142,
     "metadata": {},
     "output_type": "execute_result"
    }
   ],
   "source": [
    "foo(3)"
   ]
  },
  {
   "cell_type": "code",
   "execution_count": null,
   "metadata": {},
   "outputs": [],
   "source": []
  },
  {
   "cell_type": "code",
   "execution_count": 2,
   "metadata": {},
   "outputs": [
    {
     "name": "stdout",
     "output_type": "stream",
     "text": [
      "This is a class with a long name\n"
     ]
    },
    {
     "data": {
      "text/plain": [
       "<__main__.LongNameClass at 0x1aa54cc4eb0>"
      ]
     },
     "execution_count": 2,
     "metadata": {},
     "output_type": "execute_result"
    }
   ],
   "source": [
    "class LongNameClass:\n",
    "    def __init__(self):\n",
    "        print('This is a class with a long name')\n",
    "        \n",
    "ShortName = LongNameClass\n",
    "\n",
    "ShortName()"
   ]
  },
  {
   "cell_type": "code",
   "execution_count": null,
   "metadata": {},
   "outputs": [],
   "source": []
  }
 ],
 "metadata": {
  "kernelspec": {
   "display_name": "Python 3.10.6 64-bit",
   "language": "python",
   "name": "python3"
  },
  "language_info": {
   "codemirror_mode": {
    "name": "ipython",
    "version": 3
   },
   "file_extension": ".py",
   "mimetype": "text/x-python",
   "name": "python",
   "nbconvert_exporter": "python",
   "pygments_lexer": "ipython3",
   "version": "3.10.6"
  },
  "orig_nbformat": 4,
  "vscode": {
   "interpreter": {
    "hash": "d18f7005fc2c8fe4eb58f7d7cc5b45c2a267e69313ade3fbf0c464a72a083ce2"
   }
  }
 },
 "nbformat": 4,
 "nbformat_minor": 2
}
