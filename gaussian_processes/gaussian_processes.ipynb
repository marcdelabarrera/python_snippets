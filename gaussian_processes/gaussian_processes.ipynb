{
 "cells": [
  {
   "cell_type": "code",
   "execution_count": 3,
   "metadata": {},
   "outputs": [],
   "source": [
    "from sklearn.gaussian_process import GaussianProcessRegressor\n",
    "import numpy as np\n",
    "import matplotlib.pyplot as plt\n",
    "from sklearn.gaussian_process.kernels import RBF"
   ]
  },
  {
   "cell_type": "markdown",
   "metadata": {},
   "source": [
    "# Gaussian Processes"
   ]
  },
  {
   "cell_type": "markdown",
   "metadata": {},
   "source": [
    "## Unidimensional GP"
   ]
  },
  {
   "cell_type": "code",
   "execution_count": 8,
   "metadata": {},
   "outputs": [
    {
     "data": {
      "text/plain": [
       "GaussianProcessRegressor(kernel=RBF(length_scale=0.5))"
      ]
     },
     "execution_count": 8,
     "metadata": {},
     "output_type": "execute_result"
    }
   ],
   "source": [
    "f=lambda x: np.sin(x)\n",
    "x=np.linspace(0,10)\n",
    "x_train=np.random.uniform(0,10,(15,1)) #gaussian process wants a 2D array\n",
    "y_train=f(x_train)\n",
    "kernel=RBF(length_scale=0.5,length_scale_bounds=(1e-5,1e8))\n",
    "gp=GaussianProcessRegressor(normalize_y=False,kernel=kernel)\n",
    "\n",
    "gp.fit(x_train,y_train)"
   ]
  },
  {
   "cell_type": "code",
   "execution_count": 9,
   "metadata": {},
   "outputs": [
    {
     "name": "stderr",
     "output_type": "stream",
     "text": [
      "C:\\Users\\MBBar\\AppData\\Local\\Temp/ipykernel_13840/1517058035.py:8: UserWarning: Matplotlib is currently using module://matplotlib_inline.backend_inline, which is a non-GUI backend, so cannot show the figure.\n",
      "  fig.show()\n"
     ]
    },
    {
     "data": {
      "image/png": "[encoded data removed]",
      "text/plain": [
       "<Figure size 432x288 with 1 Axes>"
      ]
     },
     "metadata": {
      "needs_background": "light"
     },
     "output_type": "display_data"
    }
   ],
   "source": [
    "x_test=np.random.uniform(0,10,(20,1))\n",
    "y_test=gp.predict(x_test)\n",
    "fig,ax=plt.subplots()\n",
    "ax.plot(x,f(x))\n",
    "ax.scatter(x_train,y_train,c='b',s=50,alpha=1,label='train')\n",
    "ax.scatter(x_test,y_test,c='orange',alpha=1,label='test')\n",
    "ax.legend()\n",
    "fig.show()"
   ]
  },
  {
   "cell_type": "markdown",
   "metadata": {},
   "source": [
    "## Two dimensional GP"
   ]
  },
  {
   "cell_type": "code",
   "execution_count": 12,
   "metadata": {},
   "outputs": [],
   "source": [
    "%matplotlib widget\n",
    "from mpl_toolkits.mplot3d import Axes3D"
   ]
  },
  {
   "cell_type": "code",
   "execution_count": null,
   "metadata": {},
   "outputs": [],
   "source": [
    "#f=lambda x: np.sin(x[0])*np.cos(x[1])\n",
    "f = lambda x: x[0]*x[1]\n",
    "X=np.mgrid[-5:5:50j,-5:5:50j]\n",
    "Y = f(X)\n",
    "n_train = 50\n",
    "x_train=np.random.uniform(-5,5,(n_train,2)) #gaussian process wants a 2D array\n",
    "x_train = np.append(x_train,np.array([[5,5],[5,-5],[-5,5],[-5,-5]]),axis=0)\n",
    "y_train=f(x_train.T)\n",
    "kernel=RBF(length_scale=0.5,length_scale_bounds=(1e-5,1e8))\n",
    "gp=GaussianProcessRegressor(kernel=kernel)\n",
    "gp.fit(x_train,y_train)\n",
    "n_test = 1000\n",
    "x_test=np.random.uniform(-5,5,(n_test,2))\n",
    "y_test=gp.predict(x_test)\n",
    "\n",
    "\n",
    "fig = plt.figure()\n",
    "ax = plt.axes(projection='3d')\n",
    "ax.plot_surface(X[0], X[1], Y,alpha=0.3,cmap='viridis')\n",
    "ax.scatter3D(x_train[:,0],x_train[:,1],y_train,c='orange')\n",
    "ax.scatter3D(x_test[:,0],x_test[:,1],y_test,c='blue')\n",
    "fig.show()"
   ]
  },
  {
   "cell_type": "code",
   "execution_count": null,
   "metadata": {},
   "outputs": [],
   "source": [
    "fig = plt.figure()\n",
    "ax = plt.axes(projection='3d')\n",
    "ax.scatter3D(x_test[:,0],x_test[:,1],np.log10(np.abs(y_test-f(x_test.T))),c='red')\n",
    "fig.show()"
   ]
  },
  {
   "cell_type": "code",
   "execution_count": null,
   "metadata": {},
   "outputs": [],
   "source": []
  },
  {
   "cell_type": "markdown",
   "metadata": {},
   "source": [
    "# 3D GP"
   ]
  },
  {
   "cell_type": "code",
   "execution_count": 7,
   "metadata": {},
   "outputs": [
    {
     "name": "stderr",
     "output_type": "stream",
     "text": [
      "C:\\Users\\MBBar\\AppData\\Local\\Temp/ipykernel_5384/2437874251.py:14: UserWarning: Matplotlib is currently using module://matplotlib_inline.backend_inline, which is a non-GUI backend, so cannot show the figure.\n",
      "  fig.show()\n"
     ]
    },
    {
     "data": {
      "image/png": "[encoded data removed]",
      "text/plain": [
       "<Figure size 432x288 with 1 Axes>"
      ]
     },
     "metadata": {
      "needs_background": "light"
     },
     "output_type": "display_data"
    }
   ],
   "source": [
    "f = lambda x: x[:,0]*x[:,1]*x[:,2]\n",
    "n_train = 2000\n",
    "x_train=np.random.uniform(-5,5,(n_train,3)) \n",
    "y_train=f(x_train)\n",
    "kernel=RBF(length_scale=1,length_scale_bounds=(1e-5,1e8))\n",
    "gp=GaussianProcessRegressor(kernel=kernel)\n",
    "gp.fit(x_train,y_train)\n",
    "n_test = 2000\n",
    "x_test=np.random.uniform(-5,5,(n_test,3))\n",
    "y_test=gp.predict(x_test)\n",
    "\n",
    "fig,ax=plt.subplots()\n",
    "ax.hist(np.log10(np.abs(y_test-f(x_test))),bins=100)\n",
    "fig.show()"
   ]
  },
  {
   "cell_type": "code",
   "execution_count": 30,
   "metadata": {},
   "outputs": [
    {
     "data": {
      "text/plain": [
       "array([ 2.97991034e-01,  2.04029016e+00,  7.85003390e+00, -1.83695672e+00,\n",
       "        5.10021010e+00,  3.24437923e+00, -2.41492583e+00, -1.19237370e+00,\n",
       "       -1.87744030e+01,  5.89030828e+00, -3.20852228e+00,  4.11873925e+00,\n",
       "       -1.57867767e+00,  1.17612371e+00,  1.62325934e+01, -3.80619809e+00,\n",
       "       -1.12840143e+01, -9.55501098e+00, -2.74898064e+00,  2.22445103e+00,\n",
       "       -2.42442555e+01,  5.11858328e+00, -3.24888158e-01, -4.68259537e-01,\n",
       "       -1.88433681e+01, -1.94077082e+01, -1.65366418e+00, -5.62224045e+00,\n",
       "       -2.40370569e+00,  1.03575440e+01, -1.45827084e+00,  6.77232557e+00,\n",
       "       -2.00783361e+00, -8.26229802e-01,  2.85733894e+01, -1.01449513e+00,\n",
       "       -2.12720134e+00, -4.37894508e+00, -8.64710990e-01, -1.13435521e+00,\n",
       "        1.56137482e+01, -1.37919019e+00, -1.03031932e+01, -1.04628560e+01,\n",
       "       -1.84087588e+00,  5.85731745e-01,  2.26692193e+00,  1.83948994e+01,\n",
       "        3.79360486e-01,  9.22503295e+00,  3.79957285e+01,  4.90573029e-02,\n",
       "        7.69327518e+00,  1.00222814e+00,  1.43971541e+01, -2.27769401e+00,\n",
       "       -4.27175562e+00,  4.93861616e+00,  1.26399194e+01,  1.49700213e+00,\n",
       "       -2.93864527e+00,  7.40573672e+00, -2.14284232e+00,  1.99782835e+01,\n",
       "        2.43050472e+00, -1.87458728e+01, -2.43577825e+00, -1.05395052e+01,\n",
       "       -9.51099852e-01,  5.62963939e+00, -1.66650507e+00,  3.77631407e+01,\n",
       "       -6.10053129e+00, -7.77097810e+00, -1.35839730e+01,  4.21101112e+00,\n",
       "       -2.81294521e+00, -8.82174627e+00, -2.06617034e+01, -2.30710121e+01,\n",
       "       -1.86146509e-01, -2.15108114e-01, -2.21940515e+01,  5.77661997e+00,\n",
       "       -9.78129235e+00,  1.11748362e+01, -1.46914113e+01,  2.40384155e+00,\n",
       "       -3.16409211e+00,  1.79488374e+01,  2.73768070e+00, -3.85005979e-01,\n",
       "       -3.67421638e+00,  4.63247552e-01, -2.24541077e+00,  9.25937189e-02,\n",
       "       -8.45885051e-01, -2.23668880e-01, -2.83477800e+00, -2.21151708e+00,\n",
       "        1.53156296e+00,  4.19561064e-01,  2.49791242e+00,  5.70166109e+00,\n",
       "        7.06408177e-02,  7.03669432e+00,  1.16895271e+01,  2.99756412e+00,\n",
       "        2.19558816e+01,  2.11885238e+00, -3.38408434e+00,  1.98327524e+01,\n",
       "       -2.32149478e+01,  1.50781212e+01,  8.91432269e-01,  1.62260188e+00,\n",
       "       -1.40558046e+00, -1.66884806e+01, -8.23301744e+00, -2.06272151e+00,\n",
       "       -1.72201482e+01,  4.56411669e+00, -7.71777706e-01, -2.41518294e+01,\n",
       "       -9.01572126e-02, -3.89790003e+00, -8.94846865e+00,  9.64021524e+00,\n",
       "        1.43874393e+00,  1.87842740e+01, -9.15956705e+00,  1.84360492e+01,\n",
       "        3.39687000e+00,  3.79622591e+01,  8.98401232e-01, -2.56325778e+00,\n",
       "        3.36264730e+01, -6.94587073e+00,  4.67976103e-01,  1.88903835e+01,\n",
       "        2.41524878e+01, -5.54010879e+00,  3.48210660e+01,  9.79399232e+00,\n",
       "       -8.11775268e+00, -5.33083811e+00,  3.49322592e-01,  1.50775739e+01,\n",
       "        5.35600192e-01, -3.73435904e+00,  2.13587682e+01, -1.02164238e+01,\n",
       "       -1.87516081e+01, -4.61287232e+00, -1.53764972e+01,  2.25892427e+00,\n",
       "        3.42091114e-01, -1.10500053e+00, -8.05043960e-01,  7.05170748e+00,\n",
       "        3.96992866e-02, -1.28078751e+01, -8.34894132e-01, -2.09135887e+00,\n",
       "       -6.19105027e+00, -6.12971746e+00,  5.03531397e+00,  4.54694106e-01,\n",
       "        1.40397545e+01,  1.33070968e-01,  1.81082396e+00,  1.94690392e+00,\n",
       "        3.75687583e-01, -1.46890742e+00, -4.89472517e+00,  3.26070076e+00,\n",
       "        1.32136733e+01, -2.82128984e+00, -1.30566129e-01,  9.19285036e-01,\n",
       "        1.03418694e+00,  4.30724285e+00, -1.70388631e+01,  4.70975801e+01,\n",
       "       -1.38852100e+01, -1.92786198e+00, -7.62021492e+00, -3.65976428e-01,\n",
       "        1.44894201e+01, -5.23598822e+00, -3.61916478e+00, -2.81692689e-01,\n",
       "        2.51179138e-01,  2.95200751e+00,  4.58235252e+00, -1.61038635e+01,\n",
       "        1.48006497e+01,  2.57166094e+00,  3.47200587e+00,  1.51659870e+01,\n",
       "       -1.67764205e+01, -1.21715790e+01,  1.99477017e+01,  7.92290962e+00,\n",
       "        1.68383171e+01, -7.92031199e+00,  8.14984315e+00,  1.35574039e+01,\n",
       "        5.68107618e+00,  6.73665586e-01,  2.71202839e+01, -1.49465617e-01,\n",
       "        4.43275593e-01,  3.98357090e+00,  3.66499907e-01,  5.18476642e+00,\n",
       "        4.64963348e+01,  9.59016098e+00,  2.23417876e-01,  5.90875852e+00,\n",
       "        1.60530950e+01, -5.87418758e+00,  9.95113230e-01, -1.39543417e+00,\n",
       "        2.43824569e+00,  1.03522028e+01,  3.41417975e+01,  6.27419890e+00,\n",
       "        4.01306159e+00, -9.00861328e+00,  2.26141003e+00, -1.80973342e+01,\n",
       "        2.47346000e+01,  2.11363620e+00, -1.12840040e+01, -9.94514642e+00,\n",
       "       -1.39611452e+01,  4.85770700e+01,  7.08134408e+00, -9.87388666e+00,\n",
       "        3.53565213e+00,  5.05827542e+01,  2.53010528e+00,  7.28066074e+00,\n",
       "        5.57915941e+00,  7.11012763e+00, -1.48251250e+00,  1.27044382e+01,\n",
       "        4.49047103e+01,  8.96993447e+00,  4.29150003e+01,  2.63152745e+01,\n",
       "       -7.86701026e+00, -8.47056288e-01, -5.38749968e+00, -8.26589752e-01,\n",
       "       -3.26805827e+00,  1.31478117e+00, -2.27276046e+00,  4.27783893e+00,\n",
       "        2.81721625e+00, -3.71561856e-01,  1.27316163e+01,  9.03955685e-01,\n",
       "        1.11966080e+00,  1.46906347e+00, -2.82202583e+00, -2.39048867e+00,\n",
       "        6.59347007e-01,  3.05545038e+00,  3.59157285e+00,  2.98272947e+00,\n",
       "        1.51734931e+00,  4.38004118e+00, -2.32721605e-01, -1.87456229e+00,\n",
       "       -1.06195856e+01, -1.41342773e+00,  8.15186750e-01,  1.08388983e+00,\n",
       "        2.60024050e+00,  2.69280646e+01, -1.76914218e+00,  7.91088059e+00,\n",
       "       -2.67655172e-01,  4.56724095e+00, -1.16924787e+00, -5.28650999e-01,\n",
       "       -2.14191324e+00,  6.67288757e+00,  1.16717763e+01, -5.93528350e+00,\n",
       "       -3.17962258e+00, -1.15219629e+01,  5.03732910e+01, -2.02881055e+01,\n",
       "       -2.29220508e+01,  1.28209747e+01, -1.58799766e+01, -9.47984295e-02,\n",
       "        4.41292426e-01, -2.00823851e-01, -9.90897501e+00, -6.08411194e+00,\n",
       "        8.32087186e-01,  1.72139369e+01, -4.91493126e+00, -8.14135953e+00,\n",
       "       -3.41232917e+00,  1.24353284e+00,  3.17820315e+00, -5.06421306e+00,\n",
       "       -2.04325538e+00, -3.38345879e+00,  2.74129258e+01,  1.42709160e+00,\n",
       "       -1.02331543e+01, -4.51570645e-02, -2.41736282e+00,  3.80889347e-01,\n",
       "       -9.38006996e+00,  2.20017224e+01,  6.09068964e-01, -6.06459293e+00,\n",
       "       -2.70597071e+00, -1.58445178e+00, -5.57062024e-01,  9.32627024e+00,\n",
       "       -1.98372984e+01,  2.55821398e+00,  7.06960617e+00,  8.14715141e+00,\n",
       "        3.01872110e+01,  1.42447863e+01, -2.28581588e+00,  4.47673212e-01,\n",
       "        3.49680245e-01,  1.31514766e+01, -5.26270762e+00, -5.67379793e-01,\n",
       "        1.11025121e+01, -1.53116647e+01, -6.20252028e+00, -7.30404439e-01,\n",
       "        2.74423012e+00,  9.36141045e+00, -1.05290525e+00,  1.13156005e+00,\n",
       "        7.15086082e-01, -5.88191352e+00,  1.26848088e+01, -6.33443430e+00,\n",
       "       -8.24984365e+00, -1.38600034e+01, -2.69732702e+00, -2.08215114e+00,\n",
       "        3.51358717e+00,  9.32528999e+00,  4.53560892e+00,  7.53733377e+00,\n",
       "        2.49194724e+00,  3.03064738e-01,  1.88992574e+00,  1.21940897e+00,\n",
       "        1.85720264e+01, -1.75710784e+01,  4.67103809e-01,  7.60054354e+00,\n",
       "        3.70433945e+01,  2.63381103e+00,  2.03602210e+01, -1.29639068e+00,\n",
       "        1.18808396e+00, -1.29823844e+00, -1.24656293e+01,  4.35852668e-01,\n",
       "        2.88938403e+00,  3.56296811e+01, -1.31537104e+01,  9.54277700e-02,\n",
       "        3.38153785e-01,  4.19208945e-01,  4.15124237e+00, -3.55711872e+00,\n",
       "        3.46240942e-01, -7.91592531e+00, -3.39274089e+00,  5.54014151e-02,\n",
       "       -1.55911101e+00,  3.00311652e+00,  4.43216973e+00,  2.91194252e+00,\n",
       "       -3.75055505e+00,  1.10421273e+01, -1.81110808e+00, -2.52862676e-01,\n",
       "       -1.52515809e+00, -1.36402436e+01, -3.72364209e+00,  4.16801456e+00,\n",
       "       -7.91703138e+00,  8.23362073e-01, -2.37159034e+00,  9.24165661e-01,\n",
       "       -1.50045666e+00,  9.50860132e+00, -1.94883846e+00, -9.02061940e-01,\n",
       "       -8.61595675e+00,  2.40988086e+00,  2.21298522e-01,  1.12781511e+01,\n",
       "        3.41409639e+01, -3.57719466e+00, -8.49110208e+00,  2.86052729e+00,\n",
       "       -1.57351016e+01, -1.78501128e+00, -8.30801612e+00, -2.61249762e-02,\n",
       "        5.62941899e+00,  6.62531060e+00, -4.75990921e+00, -8.68651835e+00,\n",
       "       -1.28242258e+01,  5.06117673e+00,  1.68206325e+00, -4.11461048e+00,\n",
       "       -3.76277595e-02,  8.79815089e-01, -7.40908116e-01,  3.22555882e+01,\n",
       "        2.32629793e+01, -2.40945185e+00,  5.52104280e-01, -4.88608043e+00,\n",
       "       -1.50766869e+01,  2.81504136e+01,  1.26325831e+00, -5.41474638e+00,\n",
       "        5.73574831e+00, -1.55136625e+01, -1.41979847e+00,  2.50183689e+00,\n",
       "        3.38217768e+00,  4.88501628e+00,  8.08417623e+00,  2.17289588e+01,\n",
       "        1.17627286e+01, -5.42103059e+00, -1.48231765e+00, -5.58262212e+00,\n",
       "       -2.44031781e+00,  3.70649110e-01, -7.01082421e-01,  7.74591251e+00,\n",
       "        1.50401046e+01, -4.92348968e+00,  2.50625157e+00,  5.64959749e+00,\n",
       "       -2.45219235e+00,  6.00576066e-01,  6.93656318e+00, -2.80692966e+00,\n",
       "        3.68279317e+00,  8.85394693e-01,  1.37908758e+01,  3.67823532e+00,\n",
       "       -7.67901272e+00, -1.34328573e+01,  5.13564116e+00,  7.88203016e+00,\n",
       "        5.44316099e+00,  2.97355756e+00,  5.88115920e-01, -7.44539864e+00,\n",
       "       -4.31700818e+00, -5.59817824e+00, -2.02929301e+01,  1.90855799e+01,\n",
       "        2.51146093e+00,  3.21511149e+00,  1.09400996e+00, -4.90773344e+00,\n",
       "        8.34779800e+00, -1.16284080e+01,  2.00694490e+01, -1.63773965e+00,\n",
       "       -2.86911862e+00, -1.69870478e+00,  1.31946382e+01,  2.13898749e-01,\n",
       "       -3.58348989e+00,  7.65060065e+00,  2.31306251e-01, -4.55628884e+00,\n",
       "        1.30192708e+01, -3.77559244e+00, -1.95771876e+00, -8.18492849e-01,\n",
       "        1.53420149e+00,  7.17660605e+00, -1.47006723e+01,  3.37944250e-01,\n",
       "       -2.12781636e+00, -1.44575892e+00,  4.44947976e+01, -5.75826732e-03,\n",
       "        6.12166854e+00,  6.45652051e+00, -2.39887804e+00, -2.18695000e+01,\n",
       "        2.95782871e+00,  2.30763530e+00, -2.09392092e+01,  2.25166190e+00,\n",
       "        5.12846375e+00, -9.43871219e-01, -4.39485798e-01, -5.64074062e-01,\n",
       "        4.13803071e-01, -1.45853551e+01, -6.97162394e+00, -3.21352620e+00,\n",
       "        1.43307398e-01,  5.56516404e+00,  1.71519903e+00,  1.46051798e+01,\n",
       "       -5.46832773e+00, -6.37280068e+00,  5.25866651e+01, -1.48955276e+00,\n",
       "       -1.90540818e+01, -1.03778598e+00, -2.73380550e+00,  1.20944130e+01,\n",
       "        1.00529025e+01, -1.44703571e+00,  2.13273932e+00, -1.36730971e+01,\n",
       "       -6.60880155e+00,  2.20457325e+00, -2.64889734e-01, -1.59066042e+00,\n",
       "       -5.33447086e-01,  2.49926281e+00,  5.02868149e+01,  5.35128574e+00,\n",
       "        7.88693713e+00,  1.05456330e+00, -1.59410480e+00, -7.69668416e+00,\n",
       "       -1.63681424e+01, -5.20950639e-01,  1.91978255e+00,  2.92088612e+01,\n",
       "       -4.25354183e+00,  1.10834880e+01, -5.52157749e-01, -4.60160746e-02,\n",
       "       -4.30544550e+00,  2.26635032e+01, -1.75310531e+00,  1.82641347e+00,\n",
       "        3.84594252e+00,  1.48317900e+01,  5.17490077e-01,  2.94810561e+00,\n",
       "        2.61054689e-01,  3.42813652e+01,  4.80244351e+00,  1.00984853e+01,\n",
       "       -5.96375577e+00, -3.30919116e+00,  6.19044841e+00,  8.97196938e+00,\n",
       "        2.37567294e+01, -5.61857934e+00,  2.63159795e-02,  9.28286500e+00,\n",
       "        3.98494678e+00,  4.14973225e-01,  1.17656800e+01,  7.57654823e+00,\n",
       "       -2.49613824e+00,  7.17301369e+00, -1.36113949e+01, -9.49472526e-01,\n",
       "       -5.59815802e+00, -1.82503457e+00, -4.16938219e+00, -5.50668692e+00,\n",
       "       -6.58879743e+00,  3.39511038e+00,  7.50434779e+00,  4.66720466e+00,\n",
       "       -1.48368934e+01, -9.39017185e+00, -3.98498580e+00, -7.12654806e+00,\n",
       "       -1.37236725e+01, -1.57099794e+01,  1.31614618e+01,  1.52894517e+00,\n",
       "        2.84974528e+00,  9.88431947e+00, -3.51145138e+00,  9.17006624e+00,\n",
       "        4.03235675e+00,  1.90935461e+01, -3.63749096e+00, -1.99064968e+01,\n",
       "        1.39923605e-01,  1.35003296e+00,  1.99351559e+00, -2.09569867e+00,\n",
       "       -1.02694909e+01,  5.83446463e+00, -2.96723969e+00, -2.06068659e+00,\n",
       "       -1.54423051e+01, -3.15051847e-02,  6.95347213e+00, -6.87702972e+00,\n",
       "        4.30151925e-01, -5.15226399e-01, -2.15896471e+00, -8.14695918e-01,\n",
       "       -6.24591513e+00,  6.91236167e+00, -9.87013112e-01, -5.73058531e-01,\n",
       "        2.42293911e+01, -9.37209772e+00, -1.97678706e+01, -1.08029847e+01,\n",
       "        5.42404649e+00,  3.04545559e+00,  1.69567883e+00,  2.34402311e-01,\n",
       "        2.62519457e+01,  5.05139621e+00, -1.20179627e+01,  6.48185153e+00,\n",
       "        1.07416050e+01,  4.26551912e-01,  2.57193532e+00,  1.77159173e+00,\n",
       "       -1.43501443e+01, -1.35936861e+01, -1.75713723e+01, -6.96012269e+00,\n",
       "        9.43593432e-01,  2.00355524e+00,  7.04438361e-01, -1.16080084e+01,\n",
       "        3.18445843e-01,  2.68921415e+00, -7.69209721e-01, -9.48966078e+00,\n",
       "        1.60831365e+00,  2.33776103e+00,  7.73829448e-01,  1.16941644e+01,\n",
       "        5.27625606e+00, -4.99261218e-01,  1.94987792e+01,  2.23242574e+01,\n",
       "       -1.69355193e+01,  1.81820022e+01, -1.09813672e+01,  1.71013282e+01,\n",
       "       -5.24207909e+00,  1.47042342e+01, -2.73338140e+00, -1.18290547e+01,\n",
       "       -7.46991660e-01,  1.41783831e+01,  4.92570766e+00,  1.02432732e+01,\n",
       "        1.16649994e+01, -6.01809629e+00,  7.89800474e+00, -1.11708524e+01,\n",
       "        1.67545732e-01, -4.79338175e+00,  2.19203130e+00,  3.79582395e+01,\n",
       "        2.47835645e+00,  5.76997450e+00,  2.95313353e+00, -5.73014955e+00,\n",
       "        3.84806884e+00,  3.07288513e-01,  4.55968998e-01, -4.47497831e-01,\n",
       "        7.82694888e-01,  1.01129573e+00,  2.65312547e+00, -1.37343920e+01,\n",
       "        6.35122722e+00,  4.81111610e+00,  7.52359284e+00,  6.83633647e-01,\n",
       "       -1.41726600e+00,  6.83959409e-01,  3.00700170e+00, -1.39526012e+01,\n",
       "        3.23950092e+00, -3.54865010e+00, -1.30227466e+00,  4.66435902e+00,\n",
       "       -8.93571490e+00, -7.41006078e+00,  1.17847476e+01,  7.43282245e+00,\n",
       "        4.27978205e+00, -5.22268249e+00,  8.85299142e+00,  2.63628798e+00,\n",
       "        2.32401396e+00,  4.07259648e+00,  5.60730687e+00,  4.66699440e+00,\n",
       "       -7.40461392e+00,  1.70989593e+01,  1.17437724e+01,  1.03179916e+01,\n",
       "       -6.55513614e-01,  3.56774577e-02, -1.16312727e+00, -7.07821691e+00,\n",
       "        7.28345555e-02, -2.38309176e+00,  1.44670452e+00,  3.15073584e-02,\n",
       "        4.17387797e+00,  1.00312652e+01, -6.77670443e+00,  2.24873041e+00,\n",
       "        3.94915171e+01, -1.10448777e+01,  1.78972566e+01, -1.68266977e+01,\n",
       "        9.47536525e+00, -1.02519812e+01,  6.92326554e-02, -5.92755584e+00,\n",
       "       -1.75694478e+00,  2.81583576e+00,  5.16203573e+00,  7.38666017e+00,\n",
       "       -1.92787816e+00,  1.32149187e+00,  6.88666543e+00, -1.52817150e+01,\n",
       "        1.72423745e+00, -5.80870439e-01, -4.43310771e+00, -1.27380473e+00,\n",
       "       -3.23067827e+00, -6.91518777e-01,  5.42334056e+00, -8.64972294e+00,\n",
       "       -1.69424500e+01, -2.41642682e+01,  2.09880334e+01, -4.94455050e+00,\n",
       "        5.93307254e+00, -2.47234640e+00,  4.62775860e+00,  8.48250460e+00,\n",
       "       -1.84252468e-01, -4.01621139e+00,  1.37889965e+01,  5.61553302e+00,\n",
       "        2.39390421e+00,  1.04890392e+00, -2.41283193e+00, -7.92265993e-01,\n",
       "        9.25469724e+00,  1.80301049e+00,  3.78953516e+00,  1.60318357e+00,\n",
       "       -9.41469358e-01, -3.28433937e-01, -6.72844860e+00, -1.11123808e+00,\n",
       "        4.37100233e-01,  2.66245535e+01, -1.59094539e-01, -1.36226093e+00,\n",
       "        2.27542772e+00,  3.45620102e+00,  2.98407144e+00, -2.19568634e+00,\n",
       "        8.67946532e+00,  8.87824112e+00, -7.12682522e+00, -1.07754192e+01,\n",
       "        5.64603874e-01, -4.03703958e-01,  1.64670525e+00,  1.92001295e+01,\n",
       "       -4.32214273e+00,  3.17197619e+00, -5.05998343e+00, -1.05134690e+00,\n",
       "       -1.28794983e+00,  4.17393450e+00,  7.28876102e+00, -5.44879644e+00,\n",
       "        9.51170500e+00, -1.36156205e+01, -1.86036218e+00,  2.21795865e-01,\n",
       "       -2.11595399e+00, -7.27149460e+00, -6.39810302e-01, -9.83814922e+00,\n",
       "       -2.04503989e+01,  4.44014513e+01,  2.98647682e+00, -4.95612339e+00,\n",
       "       -4.77480718e-01,  1.25166752e+01, -9.28967731e+00, -5.18060864e+00,\n",
       "       -1.28071048e+00,  1.01507459e+01,  8.28305493e-01,  5.32705059e-01,\n",
       "        1.29504236e+01, -5.31788615e+00, -2.52964932e+01, -5.01311928e+00,\n",
       "        1.25617035e+01, -7.90382159e+00, -3.02893063e+00,  3.94870189e+00,\n",
       "       -6.12219800e+00, -1.80720109e+00,  1.08424038e+01, -2.27343501e+00,\n",
       "        1.38445757e+00,  4.84365907e-01, -1.14612112e+00, -1.05378066e+01,\n",
       "       -5.38503367e-01,  1.14567523e-02, -7.28411786e+00,  9.52270342e+00,\n",
       "       -5.81711862e-01,  3.01597976e+00,  2.60086803e+01,  3.47739066e+01,\n",
       "        9.90236868e+00,  1.51160648e+01,  1.23149339e+01,  1.09471022e+01,\n",
       "        4.96370339e+00,  1.23564694e+01, -5.35956990e+00,  1.46851451e+01,\n",
       "       -4.92425082e+00,  1.42102469e+00, -4.08082116e-02,  4.29791035e+00,\n",
       "       -6.56104251e-01, -1.68856692e+01, -8.86453312e+00, -6.33669580e+00,\n",
       "        4.76149254e-01, -7.75244559e+00, -2.21130299e+01, -1.15672357e+01,\n",
       "       -7.26846110e+00,  6.89120166e-01, -6.27529797e+00, -4.43026581e+00,\n",
       "        2.20888296e+00,  2.46748052e+00,  6.80983551e-01, -1.09530619e+00,\n",
       "        8.71493792e+00, -1.46951448e+01, -4.13432794e+00, -3.92660601e+00,\n",
       "       -5.73939459e-01,  1.11348392e+01,  7.43461335e+00,  3.23041239e+00,\n",
       "       -3.90832715e+00,  1.08908618e+00,  3.19474696e+00, -8.67115362e-01,\n",
       "        1.47981092e+01,  1.02411530e+01,  8.99454351e+00, -1.00152842e+00,\n",
       "        4.29154771e+00,  1.80440271e+00, -5.14876589e-01,  2.43467377e+01,\n",
       "       -2.64894520e+00,  1.12718936e+01,  8.67663590e-01, -2.44867388e+00,\n",
       "        1.07608938e+00, -2.85686914e+00,  9.21841570e+00,  1.27524058e+00,\n",
       "       -9.23727968e+00, -1.36181225e+00, -8.02894199e+00,  4.13558401e+00,\n",
       "        8.72631542e+00, -3.75671981e+00,  1.61980065e+01, -7.21279796e-01,\n",
       "       -5.03300521e+00, -1.14046629e+00,  3.95944550e+00, -6.73697830e+00,\n",
       "        5.13060466e+00,  1.64228713e+01,  3.21023201e+01, -4.12592983e+00,\n",
       "        2.91997226e+01, -4.09112827e-01,  4.83297909e+00,  2.11920265e+01,\n",
       "       -1.25921112e+01,  2.68886487e+01, -4.79270658e+00,  1.35253329e+01,\n",
       "        8.07906445e+00, -8.09287686e+00, -9.52075545e-01, -1.04081133e+01,\n",
       "        6.32900716e-02,  2.29195504e+01,  3.45012280e-01, -3.56393674e+00,\n",
       "       -3.23462927e+00, -1.39163589e+01, -2.39613291e+00, -7.74788160e+00,\n",
       "       -7.70655482e-01,  7.91371868e+00,  4.69185015e+00,  2.20220070e-01,\n",
       "       -5.67581156e-01,  2.95186016e-01, -2.62224340e+00, -8.89664492e+00,\n",
       "        6.39555374e-01,  3.91787233e+00, -1.05674094e-01,  1.78977251e-01,\n",
       "       -7.50529676e+00,  1.00420201e+01,  1.03096159e+00, -9.34011801e-01,\n",
       "        1.93733305e+00, -4.53043016e+00,  2.79562938e-01,  2.03256770e+01,\n",
       "        2.26201405e+00,  2.97320236e+00,  3.35793171e+01,  6.09022159e-01,\n",
       "        3.46998360e+01,  3.79577336e+00,  7.51636475e+00,  2.28169198e+00,\n",
       "       -5.14533036e+00, -1.91957040e-01, -6.50579450e+00,  1.38908953e+01,\n",
       "       -5.63166261e-01,  2.86392201e-01, -1.02875800e+00, -8.08602513e+00,\n",
       "       -7.61573612e+00,  7.41684429e-01, -1.40765872e+01, -8.60585980e+00,\n",
       "        1.47747436e+01, -6.03524635e-01, -1.70566093e+01,  7.11749669e+00,\n",
       "       -4.26545689e+00, -1.32050689e+01,  3.64813909e+00,  8.09376979e+00,\n",
       "       -1.48928121e-01,  1.77340138e+00,  8.20106795e+00,  1.33538653e+01])"
      ]
     },
     "execution_count": 30,
     "metadata": {},
     "output_type": "execute_result"
    }
   ],
   "source": []
  }
 ],
 "metadata": {
  "kernelspec": {
   "display_name": "Python 3.9.13 64-bit (windows store)",
   "language": "python",
   "name": "python3"
  },
  "language_info": {
   "codemirror_mode": {
    "name": "ipython",
    "version": 3
   },
   "file_extension": ".py",
   "mimetype": "text/x-python",
   "name": "python",
   "nbconvert_exporter": "python",
   "pygments_lexer": "ipython3",
   "version": "3.9.13"
  },
  "orig_nbformat": 4,
  "vscode": {
   "interpreter": {
    "hash": "b6211d3380c6fc8b8ff7c7eb49b32c9b972fb045d7b218033824c523dbcd32c9"
   }
  }
 },
 "nbformat": 4,
 "nbformat_minor": 2
}
