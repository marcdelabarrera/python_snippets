{
 "cells": [
  {
   "cell_type": "code",
   "execution_count": 1,
   "metadata": {},
   "outputs": [],
   "source": [
    "import sympy as sym\n",
    "import numpy as np\n",
    "from sympy import symbols, Eq\n",
    "from sympy.abc import alpha, beta, theta, sigma, rho, phi, mu, nu, kappa\n",
    "import matplotlib.pyplot as plt"
   ]
  },
  {
   "cell_type": "code",
   "execution_count": 4,
   "metadata": {},
   "outputs": [
    {
     "data": {
      "text/latex": [
       "$\\displaystyle a + b = c$"
      ],
      "text/plain": [
       "Eq(a + b, c)"
      ]
     },
     "execution_count": 4,
     "metadata": {},
     "output_type": "execute_result"
    }
   ],
   "source": [
    "a,b,c= symbols('a,b,c')\n",
    "eq = Eq(a+b,c)\n",
    "eq"
   ]
  },
  {
   "cell_type": "code",
   "execution_count": 16,
   "metadata": {},
   "outputs": [
    {
     "data": {
      "text/latex": [
       "$\\displaystyle a + b = c$"
      ],
      "text/plain": [
       "Eq(a + b, c)"
      ]
     },
     "execution_count": 16,
     "metadata": {},
     "output_type": "execute_result"
    }
   ],
   "source": [
    "def f(vars, eq):\n",
    "    d={i:symbols(i) for i in vars.split(',')}\n",
    "    eq=Eq(*[eval(i,d) for i in eq.split('=')])    \n",
    "    return eq\n",
    "\n",
    "f(vars ='a,b,c',eq='a+b=c')"
   ]
  },
  {
   "cell_type": "markdown",
   "metadata": {},
   "source": [
    "# Sims 1999"
   ]
  },
  {
   "cell_type": "markdown",
   "metadata": {},
   "source": [
    "$$\\Gamma_0 y_t=\\Gamma_1 y_{t-1}+C+\\Psi z_t+\\Pi\\eta_t$$"
   ]
  },
  {
   "cell_type": "code",
   "execution_count": 243,
   "metadata": {},
   "outputs": [],
   "source": [
    "def gensys(Gamma0:sym.Matrix, Gamma1:sym.Matrix, \n",
    "                 C:sym.Matrix=None, Psi:sym.Matrix=None, \n",
    "                 Eta:sym.Matrix=None,\n",
    "                 out:str = 'np.array')->tuple:\n",
    "    return_Theta_c = True\n",
    "    if C is None:\n",
    "        C, return_Theta_c = sym.zeros(Gamma0.rows,1), False\n",
    "    if Eta is None:\n",
    "        Eta = sym.zeros(Gamma0.rows,1)\n",
    "    Gamma0_inv=Gamma0.inv()\n",
    "    Gamma1, C, Psi, Eta = Gamma0_inv@Gamma1, Gamma0_inv@C, Gamma0_inv@Psi, Gamma0_inv@Eta \n",
    "    P, Lambda = Gamma1.diagonalize()\n",
    "    ind = list(np.argsort(np.abs(np.diag(np.abs(Lambda)))))\n",
    "    Lambda = sym.diag(*[Lambda[i,i] for i in ind])\n",
    "    P=P.permute_cols(ind)  \n",
    "    #P*Lambda*P.inv()=Gamma1 check \n",
    "    P_inv = P.inv()\n",
    "    n_s = len([Lambda[i,i] for i in range(Lambda.rows) if np.abs(Lambda[i,i])>1])\n",
    "    n_u = Lambda.rows-n_s\n",
    "    Lambda_S=Lambda[:n_s,:n_s]\n",
    "    Lambda_U=Lambda[n_s:,n_s:]\n",
    "    Theta_1 = P[:,:n_s]*Lambda_S*P_inv[:n_s,:]\n",
    "    Theta_c = (P[:,:n_s]*P_inv[:n_s,:]+P[:,n_s:]*(sym.eye(n_u)-Lambda_U)*P_inv[n_s:,:])*C\n",
    "    Phi = P_inv[:n_s,:]*Eta*(P_inv[n_s:,:]*Eta).inv()\n",
    "    Theta_z = (P[:,:n_s]*P_inv[:n_s,:]-P[:,:n_s]*Phi*P_inv[n_s:,:])*Psi\n",
    "    Theta_1 = Theta_1.as_real_imag()[0]\n",
    "    Theta_c = Theta_c.as_real_imag()[0]\n",
    "    Theta_z = Theta_z.as_real_imag()[0]\n",
    "    if out=='np.array':\n",
    "        Theta_1 = np.array(Theta_1).astype(np.float64)\n",
    "        Theta_c = np.array(Theta_c).astype(np.float64)\n",
    "        Theta_z = np.array(Theta_z).astype(np.float64) \n",
    "    if return_Theta_c:\n",
    "        return Theta_1, Theta_c, Theta_z\n",
    "    else:\n",
    "        return Theta_1, Theta_z"
   ]
  },
  {
   "cell_type": "code",
   "execution_count": 244,
   "metadata": {},
   "outputs": [],
   "source": [
    "def gensys(Gamma0:sym.Matrix, Gamma1:sym.Matrix, \n",
    "                 C:sym.Matrix=None, Psi:sym.Matrix=None, \n",
    "                 Eta:sym.Matrix=None,\n",
    "                 out:str = 'np.array')->tuple:\n",
    "    return_Theta_c = True\n",
    "    if C is None:\n",
    "        C, return_Theta_c = sym.zeros(Gamma0.rows,1), False\n",
    "    if Eta is None:\n",
    "        Eta = sym.zeros(Gamma0.rows,1)\n",
    "    Gamma0_inv=Gamma0.inv()\n",
    "    Gamma1, C, Psi, Eta = Gamma0_inv@Gamma1, Gamma0_inv@C, Gamma0_inv@Psi, Gamma0_inv@Eta \n",
    "    P, Lambda = Gamma1.diagonalize()\n",
    "    ind = list(np.argsort(np.abs(np.diag(np.abs(Lambda)))))\n",
    "    Lambda = sym.diag(*[Lambda[i,i] for i in ind])\n",
    "    n_s = len([Lambda[i,i] for i in range(Lambda.rows) if np.abs(Lambda[i,i])<1])\n",
    "    n_u = Lambda.rows-n_s\n",
    "    \n",
    "    P=P.permute_cols(ind)  \n",
    "    P = np.array(P).astype(np.complex128) \n",
    "    P_inv = np.linalg.inv(P)\n",
    "\n",
    "    Lambda_S=Lambda[:n_s,:n_s]\n",
    "    Lambda_U=Lambda[n_s:,n_s:]\n",
    "    Theta_1 = P[:,:n_s]@Lambda_S@P_inv[:n_s,:]\n",
    "    Theta_c = (P[:,:n_s]@P_inv[:n_s,:]+P[:,n_s:]@(sym.eye(n_u)-Lambda_U)@P_inv[n_s:,:])@C\n",
    "    Phi = P_inv[:n_s,:]@Eta@(P_inv[n_s:,:]@Eta).inv()\n",
    "    Theta_z = (P[:,:n_s]@P_inv[:n_s,:]-P[:,:n_s]@Phi@P_inv[n_s:,:])@Psi\n",
    "    Theta_1 = np.real(np.array(Theta_1).astype(np.complex64))\n",
    "    Theta_c = np.real(np.array(Theta_c).astype(np.complex64))\n",
    "    Theta_z = np.real(np.array(Theta_z).astype(np.complex64)) \n",
    "    #Theta_1 = Theta_1.as_real_imag()[0]\n",
    "    #Theta_c = Theta_c.as_real_imag()[0]\n",
    "    #Theta_z = Theta_z.as_real_imag()[0]\n",
    "    #if out=='np.array':\n",
    "    #    Theta_1 = np.array(Theta_1).astype(np.float64)\n",
    "    #    Theta_c = np.array(Theta_c).astype(np.float64)\n",
    "    #    Theta_z = np.array(Theta_z).astype(np.float64) \n",
    "    if return_Theta_c:\n",
    "        return Theta_1, Theta_c, Theta_z\n",
    "    else:\n",
    "        return Theta_1, Theta_z"
   ]
  },
  {
   "cell_type": "code",
   "execution_count": 245,
   "metadata": {},
   "outputs": [],
   "source": [
    "def get_matrices(equations, var, var_, z, eta):\n",
    "    Gamma0,_ = sym.linear_eq_to_matrix([is_curve,nkpc, exp_y, exp_pi, v_ar], var)\n",
    "    Gamma1,_ = sym.linear_eq_to_matrix(_,var_)\n",
    "    Psi, _ = sym.linear_eq_to_matrix(_, z)\n",
    "    Eta, C = sym.linear_eq_to_matrix(_, eta)\n",
    "    Psi = -Psi\n",
    "    C = -C\n",
    "    return Gamma0, Gamma1, Psi, Eta, C"
   ]
  },
  {
   "cell_type": "code",
   "execution_count": 26,
   "metadata": {},
   "outputs": [],
   "source": [
    "class Gensys:\n",
    "    def __init__(self,parameters:str, variables:str, shocks:str,equations):\n",
    "        ''' \n",
    "        variables: str\n",
    "        string of variables separated by commas.\n",
    "        '''\n",
    "        self.vars = {v:symbols(v) for v in variables.replace(\" \", \"\").split(',')}\n",
    "        self.n_var = len(self.vars)\n",
    "        self.shocks = {s:symbols(s) for s in shocks.replace(\" \", \"\").split(',')}\n",
    "        self.n_shocks = len(self.shocks)\n",
    "        self.parameters = {p:symbols(p) for p in parameters.replace(\" \", \"\").split(',')}\n",
    "        self.symbolic_system = None\n",
    "        self.numeric_system = None\n",
    "        self.matrix_solution = None\n",
    "        self.calibration = None\n",
    "        #self.equations = {Eq(*[eval(i) for i in eq.split('=')]) for eq in equations}\n",
    "        pass\n",
    "\n",
    "\n",
    "\n",
    "\n",
    "    def get_matrices(self,equations, var, var_, z, eta):\n",
    "        Gamma0,_ = sym.linear_eq_to_matrix(equations, var)\n",
    "        Gamma1,_ = sym.linear_eq_to_matrix(_,var_)\n",
    "        Psi, _ = sym.linear_eq_to_matrix(_, z)\n",
    "        Eta, C = sym.linear_eq_to_matrix(_, eta)\n",
    "        Psi = -Psi\n",
    "        C = -C\n",
    "        self.symbolic_system={'Gamma0':Gamma0, 'Gamma1':Gamma1,'Psi':Psi, 'Eta':Eta, 'C':C}\n",
    "        pass\n",
    "        \n",
    "    def calibrate(self,calibration):\n",
    "        self.calibration = calibration\n",
    "        Gamma0 = self.symbolic_system['Gamma0'].subs(calibration)\n",
    "        Gamma1 = self.symbolic_system['Gamma1'].subs(calibration)\n",
    "        Psi = self.symbolic_system['Psi'].subs(calibration)\n",
    "        C = self.symbolic_system['C'].subs(calibration)\n",
    "        self.numeric_system = {'Gamma0':Gamma0, 'Gamma1':Gamma1,'Psi':Psi, 'Eta':Eta, 'C':C}\n",
    "        pass\n",
    "\n",
    "    def solve(self):\n",
    "        return self._solve(**self.numeric_system)\n",
    "     \n",
    "    def _solve(self, Gamma0, Gamma1, Psi, Eta, C):\n",
    "        Gamma0_inv=Gamma0.inv()\n",
    "        Gamma1, C, Psi, Eta = Gamma0_inv@Gamma1, Gamma0_inv@C, Gamma0_inv@Psi, Gamma0_inv@Eta \n",
    "        P, Lambda = Gamma1.diagonalize()\n",
    "        ind = list(np.argsort(np.abs(np.diag(np.abs(Lambda)))))\n",
    "        Lambda = sym.diag(*[Lambda[i,i] for i in ind])\n",
    "        n_s = len([Lambda[i,i] for i in range(Lambda.rows) if np.abs(Lambda[i,i])<1])\n",
    "        n_u = Lambda.rows-n_s        \n",
    "        P=P.permute_cols(ind)  \n",
    "        P = np.array(P).astype(np.complex128) \n",
    "        P_inv = np.linalg.inv(P)\n",
    "        Lambda_S=Lambda[:n_s,:n_s]\n",
    "        Lambda_U=Lambda[n_s:,n_s:]\n",
    "        Theta_1 = P[:,:n_s]@Lambda_S@P_inv[:n_s,:]\n",
    "        Theta_c = (P[:,:n_s]@P_inv[:n_s,:]+P[:,n_s:]@(sym.eye(n_u)-Lambda_U)@P_inv[n_s:,:])@C\n",
    "        Phi = P_inv[:n_s,:]@Eta@(P_inv[n_s:,:]@Eta).inv()\n",
    "        Theta_z = (P[:,:n_s]@P_inv[:n_s,:]-P[:,:n_s]@Phi@P_inv[n_s:,:])@Psi\n",
    "        Theta_1 = np.real(np.array(Theta_1).astype(np.complex64))\n",
    "        Theta_c = np.real(np.array(Theta_c).astype(np.complex64))\n",
    "        Theta_z = np.real(np.array(Theta_z).astype(np.complex64)) \n",
    "        self.matrix_solution={'Theta_1':Theta_1,'Theta_c':Theta_c, 'Theta_z':Theta_z}\n",
    "    \n",
    "    def impulse_response(self, z:np.array, T:int = 25):\n",
    "        '''\n",
    "        z: initial shock\n",
    "        '''\n",
    "        n_var = self.n_var\n",
    "        Theta_1 = self.matrix_solution['Theta_1']\n",
    "        Theta_c = self.matrix_solution['Theta_c']\n",
    "        Theta_z = self.matrix_solution['Theta_z']\n",
    "        z_t = np.zeros((T,self.n_shocks))\n",
    "        z_t[:,0] = z\n",
    "        y_t = np.zeros((T,n_var))\n",
    "        t=np.arange(0,T)\n",
    "        for i in range(1,T):\n",
    "            y_t[i]=(Theta_1@y_t[[i-1]].T+Theta_z@z_t[[i]].T).flatten()\n",
    "\n",
    "        max_cols=3\n",
    "        fig,ax=plt.subplots(nrows=(n_var-1)//max_cols+1,ncols=min(n_var,max_cols), figsize=(10,10))\n",
    "        for i in range(n_var):\n",
    "            ax[i//max_cols,i%max_cols].plot(t,y_t[:,i])\n",
    "        fig.show()"
   ]
  },
  {
   "cell_type": "code",
   "execution_count": 27,
   "metadata": {},
   "outputs": [],
   "source": [
    "g=Gensys('kappa','y, pi','eps_p',0)"
   ]
  },
  {
   "cell_type": "code",
   "execution_count": 25,
   "metadata": {},
   "outputs": [
    {
     "data": {
      "text/latex": [
       "$\\displaystyle y$"
      ],
      "text/plain": [
       "y"
      ]
     },
     "execution_count": 25,
     "metadata": {},
     "output_type": "execute_result"
    }
   ],
   "source": [
    "g.vars['y']"
   ]
  },
  {
   "cell_type": "code",
   "execution_count": 369,
   "metadata": {},
   "outputs": [],
   "source": [
    "E_y, E_pi, y_, pi_ = symbols('E_{t-1}y_t,E_{t-1}\\pi^p_t, y_{t-1}, \\pi_{t-1}')\n",
    "Ey1, Epi1, y, pi = symbols('E_ty_{t+1},E_t\\pi^p_{t+1}, y_t, \\pi_t')\n",
    "phi_y, phi_p =symbols('\\phi_y, \\phi_p')\n",
    "lam = symbols('\\lambda')\n",
    "eta_y, eta_pi = symbols('\\eta_y, \\eta_{\\pi}')\n",
    "v, v_ = symbols('v_t, v_{t-1}')\n",
    "rho_v = symbols('\\\\rho_v')\n",
    "eps_v = symbols('\\epsilon_v')"
   ]
  },
  {
   "cell_type": "code",
   "execution_count": 370,
   "metadata": {},
   "outputs": [],
   "source": [
    "i = rho+phi_p*pi+phi_y*y+v"
   ]
  },
  {
   "cell_type": "code",
   "execution_count": 371,
   "metadata": {},
   "outputs": [],
   "source": [
    "equations = [\n",
    " 'y=Ey1-1/sigma*(rho+phi_p*pi+phi_y*y+v-Epi1-rho)',\n",
    " 'pi=beta*Epi1+kappa*y',\n",
    " 'y=E_y+eta_y',\n",
    " 'pi=E_pi+eta_pi',\n",
    " 'v=rho_v*v_+eps_v'\n",
    "]"
   ]
  },
  {
   "cell_type": "code",
   "execution_count": 372,
   "metadata": {},
   "outputs": [],
   "source": [
    "rhs,lhs = equations[0].split('=')"
   ]
  },
  {
   "cell_type": "code",
   "execution_count": 373,
   "metadata": {},
   "outputs": [
    {
     "data": {
      "text/plain": [
       "['y', 'Ey1-1/sigma*(rho+phi_p*pi+phi_y*y+v-Epi1-rho)']"
      ]
     },
     "execution_count": 373,
     "metadata": {},
     "output_type": "execute_result"
    }
   ],
   "source": [
    "equations[0].split('=')"
   ]
  },
  {
   "cell_type": "code",
   "execution_count": 374,
   "metadata": {},
   "outputs": [
    {
     "data": {
      "text/plain": [
       "['y', 'Ey1-1/sigma*(rho+phi_p*pi+phi_y*y+v-Epi1-rho)']"
      ]
     },
     "execution_count": 374,
     "metadata": {},
     "output_type": "execute_result"
    }
   ],
   "source": [
    "[i for i in equations[0].split('=')]"
   ]
  },
  {
   "cell_type": "code",
   "execution_count": 375,
   "metadata": {},
   "outputs": [
    {
     "data": {
      "text/latex": [
       "$\\displaystyle y_{t} = E_ty_{t+1} - \\frac{- E_t\\pi^p_{t+1} + \\phi_{p} \\pi_{t} + \\phi_{y} y_{t} + v_{t}}{\\sigma}$"
      ],
      "text/plain": [
       "Eq(y_t, E_ty_{t+1} - (-E_t\\pi^p_{t+1} + \\phi_p*\\pi_t + \\phi_y*y_t + v_t)/sigma)"
      ]
     },
     "execution_count": 375,
     "metadata": {},
     "output_type": "execute_result"
    }
   ],
   "source": [
    "Eq(*[eval(i) for i in equations[0].split('=')])"
   ]
  },
  {
   "cell_type": "code",
   "execution_count": 376,
   "metadata": {},
   "outputs": [
    {
     "data": {
      "text/plain": [
       "[Eq(y_t, E_ty_{t+1} - (-E_t\\pi^p_{t+1} + \\phi_p*\\pi_t + \\phi_y*y_t + v_t)/sigma),\n",
       " Eq(\\pi_t, E_t\\pi^p_{t+1}*beta + kappa*y_t),\n",
       " Eq(y_t, E_{t-1}y_t + \\eta_y),\n",
       " Eq(\\pi_t, E_{t-1}\\pi^p_t + \\eta_{\\pi}),\n",
       " Eq(v_t, \\epsilon_v + \\rho_v*v_{t-1})]"
      ]
     },
     "execution_count": 376,
     "metadata": {},
     "output_type": "execute_result"
    }
   ],
   "source": [
    "[Eq(*[eval(i) for i in eq.split('=')]) for eq in equations]"
   ]
  },
  {
   "cell_type": "code",
   "execution_count": 377,
   "metadata": {},
   "outputs": [
    {
     "data": {
      "text/latex": [
       "$\\displaystyle y_{t} = E_ty_{t+1} - \\frac{- E_t\\pi^p_{t+1} + \\phi_{p} \\pi_{t} + \\phi_{y} y_{t} + v_{t}}{\\sigma}$"
      ],
      "text/plain": [
       "Eq(y_t, E_ty_{t+1} - (-E_t\\pi^p_{t+1} + \\phi_p*\\pi_t + \\phi_y*y_t + v_t)/sigma)"
      ]
     },
     "execution_count": 377,
     "metadata": {},
     "output_type": "execute_result"
    }
   ],
   "source": [
    "Eq(eval(rhs),eval(lhs))"
   ]
  },
  {
   "cell_type": "code",
   "execution_count": 378,
   "metadata": {},
   "outputs": [
    {
     "ename": "SympifyError",
     "evalue": "SympifyError: 'y'",
     "output_type": "error",
     "traceback": [
      "\u001b[1;31m---------------------------------------------------------------------------\u001b[0m",
      "\u001b[1;31mSympifyError\u001b[0m                              Traceback (most recent call last)",
      "\u001b[1;32m~\\AppData\\Local\\Temp/ipykernel_3648/95405749.py\u001b[0m in \u001b[0;36m<module>\u001b[1;34m\u001b[0m\n\u001b[1;32m----> 1\u001b[1;33m \u001b[0mEq\u001b[0m\u001b[1;33m(\u001b[0m\u001b[0mrhs\u001b[0m\u001b[1;33m,\u001b[0m\u001b[0mlhs\u001b[0m\u001b[1;33m)\u001b[0m\u001b[1;33m\u001b[0m\u001b[1;33m\u001b[0m\u001b[0m\n\u001b[0m",
      "\u001b[1;32m~\\AppData\\Local\\Packages\\PythonSoftwareFoundation.Python.3.9_qbz5n2kfra8p0\\LocalCache\\local-packages\\Python39\\site-packages\\sympy\\core\\relational.py\u001b[0m in \u001b[0;36m__new__\u001b[1;34m(cls, lhs, rhs, **options)\u001b[0m\n\u001b[0;32m    501\u001b[0m             \u001b[0mrhs\u001b[0m \u001b[1;33m=\u001b[0m \u001b[1;36m0\u001b[0m\u001b[1;33m\u001b[0m\u001b[1;33m\u001b[0m\u001b[0m\n\u001b[0;32m    502\u001b[0m         \u001b[0mevaluate\u001b[0m \u001b[1;33m=\u001b[0m \u001b[0moptions\u001b[0m\u001b[1;33m.\u001b[0m\u001b[0mpop\u001b[0m\u001b[1;33m(\u001b[0m\u001b[1;34m'evaluate'\u001b[0m\u001b[1;33m,\u001b[0m \u001b[0mglobal_parameters\u001b[0m\u001b[1;33m.\u001b[0m\u001b[0mevaluate\u001b[0m\u001b[1;33m)\u001b[0m\u001b[1;33m\u001b[0m\u001b[1;33m\u001b[0m\u001b[0m\n\u001b[1;32m--> 503\u001b[1;33m         \u001b[0mlhs\u001b[0m \u001b[1;33m=\u001b[0m \u001b[0m_sympify\u001b[0m\u001b[1;33m(\u001b[0m\u001b[0mlhs\u001b[0m\u001b[1;33m)\u001b[0m\u001b[1;33m\u001b[0m\u001b[1;33m\u001b[0m\u001b[0m\n\u001b[0m\u001b[0;32m    504\u001b[0m         \u001b[0mrhs\u001b[0m \u001b[1;33m=\u001b[0m \u001b[0m_sympify\u001b[0m\u001b[1;33m(\u001b[0m\u001b[0mrhs\u001b[0m\u001b[1;33m)\u001b[0m\u001b[1;33m\u001b[0m\u001b[1;33m\u001b[0m\u001b[0m\n\u001b[0;32m    505\u001b[0m         \u001b[1;32mif\u001b[0m \u001b[0mevaluate\u001b[0m\u001b[1;33m:\u001b[0m\u001b[1;33m\u001b[0m\u001b[1;33m\u001b[0m\u001b[0m\n",
      "\u001b[1;32m~\\AppData\\Local\\Packages\\PythonSoftwareFoundation.Python.3.9_qbz5n2kfra8p0\\LocalCache\\local-packages\\Python39\\site-packages\\sympy\\core\\sympify.py\u001b[0m in \u001b[0;36m_sympify\u001b[1;34m(a)\u001b[0m\n\u001b[0;32m    503\u001b[0m \u001b[1;33m\u001b[0m\u001b[0m\n\u001b[0;32m    504\u001b[0m     \"\"\"\n\u001b[1;32m--> 505\u001b[1;33m     \u001b[1;32mreturn\u001b[0m \u001b[0msympify\u001b[0m\u001b[1;33m(\u001b[0m\u001b[0ma\u001b[0m\u001b[1;33m,\u001b[0m \u001b[0mstrict\u001b[0m\u001b[1;33m=\u001b[0m\u001b[1;32mTrue\u001b[0m\u001b[1;33m)\u001b[0m\u001b[1;33m\u001b[0m\u001b[1;33m\u001b[0m\u001b[0m\n\u001b[0m\u001b[0;32m    506\u001b[0m \u001b[1;33m\u001b[0m\u001b[0m\n\u001b[0;32m    507\u001b[0m \u001b[1;33m\u001b[0m\u001b[0m\n",
      "\u001b[1;32m~\\AppData\\Local\\Packages\\PythonSoftwareFoundation.Python.3.9_qbz5n2kfra8p0\\LocalCache\\local-packages\\Python39\\site-packages\\sympy\\core\\sympify.py\u001b[0m in \u001b[0;36msympify\u001b[1;34m(a, locals, convert_xor, strict, rational, evaluate)\u001b[0m\n\u001b[0;32m    431\u001b[0m \u001b[1;33m\u001b[0m\u001b[0m\n\u001b[0;32m    432\u001b[0m     \u001b[1;32mif\u001b[0m \u001b[0mstrict\u001b[0m\u001b[1;33m:\u001b[0m\u001b[1;33m\u001b[0m\u001b[1;33m\u001b[0m\u001b[0m\n\u001b[1;32m--> 433\u001b[1;33m         \u001b[1;32mraise\u001b[0m \u001b[0mSympifyError\u001b[0m\u001b[1;33m(\u001b[0m\u001b[0ma\u001b[0m\u001b[1;33m)\u001b[0m\u001b[1;33m\u001b[0m\u001b[1;33m\u001b[0m\u001b[0m\n\u001b[0m\u001b[0;32m    434\u001b[0m \u001b[1;33m\u001b[0m\u001b[0m\n\u001b[0;32m    435\u001b[0m     \u001b[1;32mif\u001b[0m \u001b[0miterable\u001b[0m\u001b[1;33m(\u001b[0m\u001b[0ma\u001b[0m\u001b[1;33m)\u001b[0m\u001b[1;33m:\u001b[0m\u001b[1;33m\u001b[0m\u001b[1;33m\u001b[0m\u001b[0m\n",
      "\u001b[1;31mSympifyError\u001b[0m: SympifyError: 'y'"
     ]
    }
   ],
   "source": [
    "Eq(rhs,lhs)"
   ]
  },
  {
   "cell_type": "code",
   "execution_count": 379,
   "metadata": {},
   "outputs": [
    {
     "data": {
      "text/plain": [
       "<__main__.Gensys at 0x2548eb12310>"
      ]
     },
     "execution_count": 379,
     "metadata": {},
     "output_type": "execute_result"
    }
   ],
   "source": [
    "parameters = 'phi_y phi_p lam eta_y eta_pi rho_v beta sigma rho kappa'\n",
    "variables = 'Ey1 Epi1 y pi v'\n",
    "shocks = 'eps_v'\n",
    "Gensys(parameters, variables, shocks,equations)"
   ]
  },
  {
   "cell_type": "markdown",
   "metadata": {},
   "source": [
    "## Galí Sticky Prices"
   ]
  },
  {
   "cell_type": "markdown",
   "metadata": {},
   "source": [
    "**Define simbolic variables**"
   ]
  },
  {
   "cell_type": "code",
   "execution_count": 28,
   "metadata": {},
   "outputs": [],
   "source": [
    "E_y, E_pi, y_, pi_ = symbols('E_{t-1}y_t,E_{t-1}\\pi^p_t, y_{t-1}, \\pi_{t-1}')\n",
    "Ey1, Epi1, y, pi = symbols('E_ty_{t+1},E_t\\pi^p_{t+1}, y_t, \\pi_t')\n",
    "phi_y, phi_p =symbols('\\phi_y, \\phi_p')\n",
    "lam = symbols('\\lambda')\n",
    "eta_y, eta_pi = symbols('\\eta_y, \\eta_{\\pi}')\n",
    "v, v_ = symbols('v_t, v_{t-1}')\n",
    "rho_v = symbols('\\\\rho_v')\n",
    "eps_v = symbols('\\epsilon_v')"
   ]
  },
  {
   "cell_type": "markdown",
   "metadata": {},
   "source": [
    "**Define static equations**"
   ]
  },
  {
   "cell_type": "code",
   "execution_count": 29,
   "metadata": {},
   "outputs": [],
   "source": [
    "i = rho+phi_p*pi+phi_y*y+v"
   ]
  },
  {
   "cell_type": "markdown",
   "metadata": {},
   "source": [
    "**Define system equations**"
   ]
  },
  {
   "cell_type": "code",
   "execution_count": 30,
   "metadata": {},
   "outputs": [],
   "source": [
    "is_curve = Eq(y, Ey1-1/sigma*(i-Epi1-rho))\n",
    "nkpc = Eq(pi, beta*Epi1+kappa*y)\n",
    "exp_y = Eq(y, E_y+eta_y)\n",
    "exp_pi = Eq(pi, E_pi+eta_pi)\n",
    "v_ar=Eq(v, rho_v*v_+eps_v)"
   ]
  },
  {
   "cell_type": "markdown",
   "metadata": {},
   "source": [
    "**Define Variables, lags, shocks and expectation errors**"
   ]
  },
  {
   "cell_type": "code",
   "execution_count": 31,
   "metadata": {},
   "outputs": [],
   "source": [
    "var  = Ey1, Epi1, y, pi, v\n",
    "var_ = E_y, E_pi, y_, pi_, v_\n",
    "z = eps_v,\n",
    "eta = eta_y, eta_pi"
   ]
  },
  {
   "cell_type": "markdown",
   "metadata": {},
   "source": [
    "**Write the system in matrix form**"
   ]
  },
  {
   "cell_type": "code",
   "execution_count": 32,
   "metadata": {},
   "outputs": [
    {
     "ename": "NameError",
     "evalue": "name 'get_matrices' is not defined",
     "output_type": "error",
     "traceback": [
      "\u001b[1;31m---------------------------------------------------------------------------\u001b[0m",
      "\u001b[1;31mNameError\u001b[0m                                 Traceback (most recent call last)",
      "\u001b[1;32m~\\AppData\\Local\\Temp/ipykernel_27860/1428393223.py\u001b[0m in \u001b[0;36m<module>\u001b[1;34m\u001b[0m\n\u001b[1;32m----> 1\u001b[1;33m \u001b[0mGamma0\u001b[0m\u001b[1;33m,\u001b[0m\u001b[0mGamma1\u001b[0m\u001b[1;33m,\u001b[0m \u001b[0mPsi\u001b[0m\u001b[1;33m,\u001b[0m \u001b[0mEta\u001b[0m\u001b[1;33m,\u001b[0m \u001b[0mC\u001b[0m \u001b[1;33m=\u001b[0m  \u001b[0mget_matrices\u001b[0m\u001b[1;33m(\u001b[0m\u001b[1;33m[\u001b[0m\u001b[0mis_curve\u001b[0m\u001b[1;33m,\u001b[0m\u001b[0mnkpc\u001b[0m\u001b[1;33m,\u001b[0m \u001b[0mexp_y\u001b[0m\u001b[1;33m,\u001b[0m \u001b[0mexp_pi\u001b[0m\u001b[1;33m,\u001b[0m \u001b[0mv_ar\u001b[0m\u001b[1;33m]\u001b[0m\u001b[1;33m,\u001b[0m \u001b[0mvar\u001b[0m\u001b[1;33m,\u001b[0m \u001b[0mvar_\u001b[0m\u001b[1;33m,\u001b[0m \u001b[0mz\u001b[0m\u001b[1;33m,\u001b[0m \u001b[0meta\u001b[0m\u001b[1;33m)\u001b[0m\u001b[1;33m\u001b[0m\u001b[1;33m\u001b[0m\u001b[0m\n\u001b[0m",
      "\u001b[1;31mNameError\u001b[0m: name 'get_matrices' is not defined"
     ]
    }
   ],
   "source": [
    "Gamma0,Gamma1, Psi, Eta, C =  get_matrices([is_curve,nkpc, exp_y, exp_pi, v_ar], var, var_, z, eta)"
   ]
  },
  {
   "cell_type": "code",
   "execution_count": 385,
   "metadata": {},
   "outputs": [],
   "source": [
    "g=Gensys(0,0,0,0)\n",
    "g.matrices = g.get_matrices([is_curve,nkpc, exp_y, exp_pi, v_ar], var, var_, z, eta)"
   ]
  },
  {
   "cell_type": "markdown",
   "metadata": {},
   "source": [
    "**Calibrate numerically**"
   ]
  },
  {
   "cell_type": "code",
   "execution_count": 386,
   "metadata": {},
   "outputs": [],
   "source": [
    "calibration={'beta':0.99, 'phi':5, 'alpha':1/4, 'eps':9,\n",
    "             '\\phi_p':1.5, '\\phi_y':0.5/4,'\\\\rho_v':0.5,\n",
    "             'sigma':1,\n",
    "              'theta':3/4}\n",
    "calibration['Theta']=(1-calibration['alpha'])/(1-calibration['alpha']+calibration['alpha']*calibration['eps'])\n",
    "calibration['lambda']=(1-calibration['theta'])*(1-calibration['beta']*calibration['theta'])/calibration['theta']*calibration['Theta']\n",
    "calibration['kappa']=calibration['lambda']*(calibration['sigma']+(calibration['phi']+calibration['alpha'])/(1-calibration['alpha']))\n",
    "\n",
    "Gamma0 = Gamma0.subs(calibration)\n",
    "Gamma1 = Gamma1.subs(calibration)\n",
    "Psi = Psi.subs(calibration)"
   ]
  },
  {
   "cell_type": "code",
   "execution_count": 387,
   "metadata": {},
   "outputs": [],
   "source": [
    "g.calibrate(calibration)"
   ]
  },
  {
   "cell_type": "code",
   "execution_count": 388,
   "metadata": {},
   "outputs": [],
   "source": [
    "g.solve()"
   ]
  },
  {
   "cell_type": "code",
   "execution_count": 389,
   "metadata": {},
   "outputs": [
    {
     "name": "stderr",
     "output_type": "stream",
     "text": [
      "C:\\Users\\MBBar\\AppData\\Local\\Temp/ipykernel_3648/3162096931.py:78: UserWarning: Matplotlib is currently using module://matplotlib_inline.backend_inline, which is a non-GUI backend, so cannot show the figure.\n",
      "  fig.show()\n"
     ]
    },
    {
     "data": {
      "image/png": "[encoded data removed]",
      "text/plain": [
       "<Figure size 720x720 with 6 Axes>"
      ]
     },
     "metadata": {
      "needs_background": "light"
     },
     "output_type": "display_data"
    }
   ],
   "source": [
    "g.impulse_response(z=np.array(-0.25))"
   ]
  },
  {
   "cell_type": "markdown",
   "metadata": {},
   "source": [
    "**Solve the system**"
   ]
  },
  {
   "cell_type": "code",
   "execution_count": 119,
   "metadata": {},
   "outputs": [],
   "source": [
    "Theta_1, Theta_z = gensys(Gamma0=Gamma0, Gamma1=Gamma1, Psi=Psi, Eta=Eta)"
   ]
  },
  {
   "cell_type": "markdown",
   "metadata": {},
   "source": [
    "**Impulse Responses**"
   ]
  },
  {
   "cell_type": "code",
   "execution_count": 121,
   "metadata": {},
   "outputs": [],
   "source": [
    "T=15\n",
    "z_t = np.zeros((T,len(z)))\n",
    "y_t = np.zeros((T,len(var)))\n",
    "y_ = np.array([0,0,0,0,0])\n",
    "t=np.arange(0,T)\n",
    "y_t[0] = y_\n",
    "z_t[:,0] = 0.25\n",
    "for i in range(1,T):\n",
    "    y_t[i]=(Theta_1@y_t[[i-1]].T+Theta_z@z_t[[i]].T).flatten()"
   ]
  },
  {
   "cell_type": "code",
   "execution_count": 124,
   "metadata": {},
   "outputs": [
    {
     "name": "stderr",
     "output_type": "stream",
     "text": [
      "C:\\Users\\MBBar\\AppData\\Local\\Temp/ipykernel_2592/2350625629.py:6: UserWarning: Matplotlib is currently using module://matplotlib_inline.backend_inline, which is a non-GUI backend, so cannot show the figure.\n",
      "  fig.show()\n"
     ]
    },
    {
     "data": {
      "image/png": "[encoded data removed]",
      "text/plain": [
       "<Figure size 720x720 with 4 Axes>"
      ]
     },
     "metadata": {
      "needs_background": "light"
     },
     "output_type": "display_data"
    }
   ],
   "source": [
    "fig,ax=plt.subplots(nrows=2,ncols=2, figsize=(10,10))\n",
    "ax[0,0].plot(t,y_t[:,0])\n",
    "ax[0,1].plot(t,y_t[:,1])\n",
    "ax[1,0].plot(t,y_t[:,2])\n",
    "ax[1,1].plot(t,y_t[:,3])\n",
    "fig.show()"
   ]
  },
  {
   "cell_type": "markdown",
   "metadata": {},
   "source": [
    "## Sticky wages (Chapter 6)"
   ]
  },
  {
   "cell_type": "code",
   "execution_count": null,
   "metadata": {},
   "outputs": [],
   "source": []
  },
  {
   "cell_type": "code",
   "execution_count": null,
   "metadata": {},
   "outputs": [],
   "source": [
    "calibration={'beta':0.99, 'phi':5, 'alpha':1/4, 'eps_p':9,\n",
    "             '\\phi_p':1.5,'\\phi_w':0.125, '\\phi_y':0.5/4,\n",
    "             'eps_w':4.5, 'sigma':1,\n",
    "              'theta_p':3/4,'theta_w':3/4}"
   ]
  },
  {
   "cell_type": "code",
   "execution_count": null,
   "metadata": {},
   "outputs": [],
   "source": [
    "class StickyWageNK():\n",
    "    def __init__(self):\n",
    "        self.calibration = None\n",
    "    def calibrate(self, calibration: dict):\n",
    "        theta_w = calibration['theta_w']\n",
    "        theta_p = calibration['theta_p']\n",
    "        beta = calibration['beta']\n",
    "        phi = calibration['phi']\n",
    "        eps_w = calibration['eps_w']\n",
    "        eps_p = calibration['eps_w']\n",
    "        alpha = calibration['alpha']\n",
    "        sigma = calibration['sigma']\n",
    "        calibration['\\lambda_w']=(1-theta_w)*(1-beta*theta_w)/(theta_w*(1+eps_w*phi))\n",
    "        calibration['\\lambda_p']=(1-theta_p)*(1-beta*theta_p)/(theta_p)*(1-alpha)/(1-alpha+alpha*eps_p)\n",
    "        calibration['chi_p'] = alpha*calibration['\\lambda_p']/(1-alpha)\n",
    "        calibration['chi_w'] = calibration['\\lambda_w']*(sigma+phi/(1-alpha))\n",
    "        self.calibration = calibration"
   ]
  },
  {
   "cell_type": "code",
   "execution_count": null,
   "metadata": {},
   "outputs": [],
   "source": [
    "economy=StickyWageNK()\n",
    "economy.calibrate(calibration)"
   ]
  },
  {
   "cell_type": "code",
   "execution_count": null,
   "metadata": {},
   "outputs": [],
   "source": [
    "calibration = economy.calibration"
   ]
  },
  {
   "cell_type": "code",
   "execution_count": null,
   "metadata": {},
   "outputs": [],
   "source": [
    "Gamma0 = Gamma0.subs(calibration)\n",
    "Gamma1 = Gamma1.subs(calibration)\n",
    "C = C.subs(calibration)\n",
    "Psi = Psi.subs(calibration)"
   ]
  },
  {
   "cell_type": "code",
   "execution_count": null,
   "metadata": {},
   "outputs": [],
   "source": [
    "Theta_1, Theta_c, Theta_z = solve_system(Gamma0, Gamma1, C, Psi, Eta)"
   ]
  },
  {
   "cell_type": "markdown",
   "metadata": {},
   "source": [
    "**Solve Impulse Response**"
   ]
  },
  {
   "cell_type": "markdown",
   "metadata": {},
   "source": [
    "## Galí Sticky wages and sticky prices"
   ]
  },
  {
   "cell_type": "code",
   "execution_count": 2,
   "metadata": {},
   "outputs": [],
   "source": [
    "y,pi_p, pi_w, w_ = symbols('y_t,\\pi^p_t,\\pi_t^w,\\omega_{t-1}')\n",
    "y1,pi_p1, pi_w1, w = symbols('E_ty_{t+1},E_t\\pi^p_{t+1},E_t\\pi_{t+1}^w,\\omega_t')\n",
    "\n",
    "phi_y, phi_p, phi_w=symbols('\\phi_y, \\phi_p, \\phi_w')\n",
    "lam_p, lam_w = symbols('\\lambda_p, \\lambda_w')\n",
    "chi_p, chi_w = symbols('chi_p, chi_w')\n",
    "\n",
    "v, Delta_w = symbols('v, \\Delta\\omega_t^n')"
   ]
  },
  {
   "cell_type": "code",
   "execution_count": 3,
   "metadata": {},
   "outputs": [],
   "source": [
    "i = rho+phi_p*pi_p+phi_w*pi_w+phi_y*y+v"
   ]
  },
  {
   "cell_type": "code",
   "execution_count": 4,
   "metadata": {},
   "outputs": [],
   "source": [
    "is_curve = Eq(y, y1-1/sigma*(i-pi_p1-rho))\n",
    "real_wage = Eq(w, w_+pi_w-pi_p-Delta_w)\n",
    "price_nkpc = Eq(pi_w, beta*pi_w1+chi_w*y-lam_w*w)\n",
    "wage_nkpc = Eq(pi_p, beta*pi_p1+chi_p*y+lam_p*w)"
   ]
  },
  {
   "cell_type": "code",
   "execution_count": 5,
   "metadata": {},
   "outputs": [],
   "source": [
    "var  = y1,pi_p1, pi_w1, w\n",
    "var_ = y,pi_p, pi_w, w_\n",
    "z = v, Delta_w"
   ]
  },
  {
   "cell_type": "code",
   "execution_count": 6,
   "metadata": {},
   "outputs": [],
   "source": [
    "Gamma0,_ = sym.linear_eq_to_matrix([is_curve,real_wage,price_nkpc,wage_nkpc], var)\n",
    "Gamma1,_ = sym.linear_eq_to_matrix(_,var_)\n",
    "Psi, C = sym.linear_eq_to_matrix(_, z)\n",
    "Eta = sym.Matrix([[1,0,0,0],[0,0,1,0],[0,0,0,1]]).T"
   ]
  },
  {
   "cell_type": "code",
   "execution_count": 7,
   "metadata": {},
   "outputs": [],
   "source": [
    "calibration={'beta':0.99, 'phi':5, 'alpha':1/4, 'eps_p':9,\n",
    "             '\\phi_p':1.5,'\\phi_w':0.125, '\\phi_y':0.5/4,\n",
    "             'eps_w':4.5, 'sigma':1,\n",
    "              'theta_p':3/4,'theta_w':3/4}"
   ]
  },
  {
   "cell_type": "code",
   "execution_count": 8,
   "metadata": {},
   "outputs": [],
   "source": [
    "class StickyWageNK():\n",
    "    def __init__(self):\n",
    "        self.calibration = None\n",
    "    def calibrate(self, calibration: dict):\n",
    "        theta_w = calibration['theta_w']\n",
    "        theta_p = calibration['theta_p']\n",
    "        beta = calibration['beta']\n",
    "        phi = calibration['phi']\n",
    "        eps_w = calibration['eps_w']\n",
    "        eps_p = calibration['eps_w']\n",
    "        alpha = calibration['alpha']\n",
    "        sigma = calibration['sigma']\n",
    "        calibration['\\lambda_w']=(1-theta_w)*(1-beta*theta_w)/(theta_w*(1+eps_w*phi))\n",
    "        calibration['\\lambda_p']=(1-theta_p)*(1-beta*theta_p)/(theta_p)*(1-alpha)/(1-alpha+alpha*eps_p)\n",
    "        calibration['chi_p'] = alpha*calibration['\\lambda_p']/(1-alpha)\n",
    "        calibration['chi_w'] = calibration['\\lambda_w']*(sigma+phi/(1-alpha))\n",
    "        self.calibration = calibration"
   ]
  },
  {
   "cell_type": "code",
   "execution_count": 9,
   "metadata": {},
   "outputs": [],
   "source": [
    "economy=StickyWageNK()\n",
    "economy.calibrate(calibration)"
   ]
  },
  {
   "cell_type": "code",
   "execution_count": 10,
   "metadata": {},
   "outputs": [],
   "source": [
    "calibration = economy.calibration"
   ]
  },
  {
   "cell_type": "code",
   "execution_count": 11,
   "metadata": {},
   "outputs": [],
   "source": [
    "Gamma0 = Gamma0.subs(calibration)\n",
    "Gamma1 = Gamma1.subs(calibration)\n",
    "C = C.subs(calibration)\n",
    "Psi = Psi.subs(calibration)"
   ]
  },
  {
   "cell_type": "code",
   "execution_count": 12,
   "metadata": {},
   "outputs": [],
   "source": [
    "def solve_system(Gamma0:sym.Matrix, Gamma1:sym.Matrix, C:sym.Matrix, Psi:sym.Matrix, Eta:sym.Matrix,\n",
    "                 out:str = 'np.array')->tuple:\n",
    "    if np.abs(Gamma0.det())<1e-10:\n",
    "        raise ValueError('Gamma0 is not invertible')\n",
    "    Gamma0_inv=Gamma0.inv()\n",
    "    Gamma1, C, Psi, Eta = Gamma0_inv@Gamma1, Gamma0_inv@C, Gamma0_inv@Psi, Gamma0_inv@Eta \n",
    "    P, Lambda = Gamma1.diagonalize()\n",
    "    ind = list(np.argsort(np.abs(np.diag(np.abs(Lambda)))))\n",
    "    Lambda = sym.diag(*[Lambda[i,i] for i in ind])\n",
    "    P=P.permute_cols(ind)\n",
    "    P_inv = P.inv()\n",
    "    n_s = len([Lambda[i,i] for i in range(Lambda.rows) if np.abs(Lambda[i,i])<1])\n",
    "    n_u = Lambda.rows-n_s\n",
    "    Lambda_S=Lambda[:n_s,:n_s]\n",
    "    Lambda_U=Lambda[n_s:,n_s:]\n",
    "    Theta_1 = P[:,:n_s]*Lambda_S*P_inv[:n_s,:]\n",
    "    Theta_c = (P[:,:n_s]*P_inv[:n_s,:]+P[:,n_s:]*(sym.eye(n_u)-Lambda_U)*P_inv[n_s:,:])*C\n",
    "    Phi = P_inv[:n_s,:]*Eta*(P_inv[n_s:,:]*Eta).inv()\n",
    "    Theta_z = (P[:,:n_s]*P_inv[:n_s,:]-P[:,:n_s]*Phi*P_inv[n_s:,:])*Psi\n",
    "    Theta_1 = Theta_1.as_real_imag()[0]\n",
    "    Theta_c = Theta_c.as_real_imag()[0]\n",
    "    Theta_z = Theta_z.as_real_imag()[0]\n",
    "    if out=='np.array':\n",
    "        Theta_1 = np.array(Theta_1).astype(np.float64)\n",
    "        Theta_c = np.array(Theta_c).astype(np.float64)\n",
    "        Theta_z = np.array(Theta_z).astype(np.float64)\n",
    "\n",
    "    return Theta_1, Theta_c, Theta_z"
   ]
  },
  {
   "cell_type": "code",
   "execution_count": 13,
   "metadata": {},
   "outputs": [],
   "source": [
    "Theta_1, Theta_c, Theta_z = solve_system(Gamma0, Gamma1, C, Psi, Eta)"
   ]
  },
  {
   "cell_type": "markdown",
   "metadata": {},
   "source": [
    "**Solve Impulse Response**"
   ]
  },
  {
   "cell_type": "code",
   "execution_count": 15,
   "metadata": {},
   "outputs": [],
   "source": [
    "T=15"
   ]
  },
  {
   "cell_type": "code",
   "execution_count": 16,
   "metadata": {},
   "outputs": [],
   "source": [
    "z_t = np.zeros((T,len(z)))\n",
    "y_t = np.zeros((T,len(var)))"
   ]
  },
  {
   "cell_type": "code",
   "execution_count": 24,
   "metadata": {},
   "outputs": [],
   "source": [
    "y_ = np.array([0,0,0,0])\n",
    "rho_v = 0.5\n",
    "t=np.arange(0,T)\n",
    "v=0.25*np.exp(-rho_v*t)"
   ]
  },
  {
   "cell_type": "code",
   "execution_count": 25,
   "metadata": {},
   "outputs": [],
   "source": [
    "y_t[0] = y_\n",
    "z_t[:,0] = v"
   ]
  },
  {
   "cell_type": "code",
   "execution_count": 51,
   "metadata": {},
   "outputs": [
    {
     "data": {
      "text/plain": [
       "array([[ 0.00000000e+00, -2.65591105e-01],\n",
       "       [ 3.46944695e-18,  1.29902103e-01],\n",
       "       [ 0.00000000e+00, -5.41866996e-02],\n",
       "       [ 2.77555756e-17,  1.00000000e+00]])"
      ]
     },
     "execution_count": 51,
     "metadata": {},
     "output_type": "execute_result"
    }
   ],
   "source": [
    "Theta_z"
   ]
  },
  {
   "cell_type": "code",
   "execution_count": 50,
   "metadata": {},
   "outputs": [
    {
     "data": {
      "text/plain": [
       "array([[0.00000000e+00],\n",
       "       [5.26081487e-19],\n",
       "       [0.00000000e+00],\n",
       "       [4.20865190e-18]])"
      ]
     },
     "execution_count": 50,
     "metadata": {},
     "output_type": "execute_result"
    }
   ],
   "source": [
    "Theta_z@z_t[[1]].T"
   ]
  },
  {
   "cell_type": "code",
   "execution_count": 40,
   "metadata": {},
   "outputs": [],
   "source": [
    "\n",
    "output = np.zeros((T,len(y_)))\n",
    "output[0]=y_\n",
    "\n",
    "for i in range(1,T):\n",
    "    y_t[i]=(Theta_1@y_t[[i-1]].T+Theta_c+Theta_z@z_t[[i]].T).flatten()"
   ]
  },
  {
   "cell_type": "code",
   "execution_count": 48,
   "metadata": {},
   "outputs": [
    {
     "name": "stderr",
     "output_type": "stream",
     "text": [
      "C:\\Users\\MBBar\\AppData\\Local\\Temp/ipykernel_18856/2350625629.py:6: UserWarning: Matplotlib is currently using module://matplotlib_inline.backend_inline, which is a non-GUI backend, so cannot show the figure.\n",
      "  fig.show()\n"
     ]
    },
    {
     "data": {
      "image/png": "[encoded data removed]",
      "text/plain": [
       "<Figure size 720x720 with 4 Axes>"
      ]
     },
     "metadata": {
      "needs_background": "light"
     },
     "output_type": "display_data"
    }
   ],
   "source": [
    "fig,ax=plt.subplots(nrows=2,ncols=2, figsize=(10,10))\n",
    "ax[0,0].plot(t,y_t[:,0])\n",
    "ax[0,1].plot(t,y_t[:,1])\n",
    "ax[1,0].plot(t,y_t[:,2])\n",
    "ax[1,1].plot(t,y_t[:,3])\n",
    "fig.show()"
   ]
  }
 ],
 "metadata": {
  "kernelspec": {
   "display_name": "Python 3.9.13 64-bit (windows store)",
   "language": "python",
   "name": "python3"
  },
  "language_info": {
   "codemirror_mode": {
    "name": "ipython",
    "version": 3
   },
   "file_extension": ".py",
   "mimetype": "text/x-python",
   "name": "python",
   "nbconvert_exporter": "python",
   "pygments_lexer": "ipython3",
   "version": "3.9.13"
  },
  "orig_nbformat": 4,
  "vscode": {
   "interpreter": {
    "hash": "b6211d3380c6fc8b8ff7c7eb49b32c9b972fb045d7b218033824c523dbcd32c9"
   }
  }
 },
 "nbformat": 4,
 "nbformat_minor": 2
}
