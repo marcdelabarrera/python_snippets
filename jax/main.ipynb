{
 "cells": [
  {
   "cell_type": "code",
   "execution_count": 6,
   "metadata": {},
   "outputs": [],
   "source": [
    "import jax\n",
    "from jax import grad\n",
    "import jax.numpy as jnp\n",
    "import jax.random\n",
    "from jaxlib.xla_extension import DeviceArray\n",
    "from jax._src.basearray import Array\n",
    "import numpy as np\n",
    "from functools import partial\n",
    "import matplotlib.pyplot as plt"
   ]
  },
  {
   "cell_type": "markdown",
   "metadata": {},
   "source": [
    "# JAX"
   ]
  },
  {
   "cell_type": "markdown",
   "metadata": {},
   "source": [
    "### Gradient"
   ]
  },
  {
   "cell_type": "code",
   "execution_count": 3,
   "metadata": {},
   "outputs": [
    {
     "name": "stderr",
     "output_type": "stream",
     "text": [
      "No GPU/TPU found, falling back to CPU. (Set TF_CPP_MIN_LOG_LEVEL=0 and rerun for more info.)\n"
     ]
    },
    {
     "name": "stdout",
     "output_type": "stream",
     "text": [
      "0.5\n"
     ]
    }
   ],
   "source": [
    "alpha=1/2\n",
    "def f(x):\n",
    "    return x**alpha\n",
    "print(grad(f)(1.))"
   ]
  },
  {
   "attachments": {},
   "cell_type": "markdown",
   "metadata": {},
   "source": [
    "Gradient of the CES"
   ]
  },
  {
   "cell_type": "code",
   "execution_count": 7,
   "metadata": {},
   "outputs": [
    {
     "data": {
      "text/plain": [
       "Array([0.51635367, 0.48230636], dtype=float32)"
      ]
     },
     "execution_count": 7,
     "metadata": {},
     "output_type": "execute_result"
    }
   ],
   "source": [
    "def CES(x, alpha, sigma, nu:float=1, theta:float=1):\n",
    "    return theta*jnp.sum(alpha*x**((sigma-1)/sigma))**(nu*sigma/(sigma-1))\n",
    "theta = 1\n",
    "sigma = 1.2\n",
    "nu = 0.9\n",
    "alpha = jnp.array([0.3,0.7])\n",
    "x = jnp.array([0.5,1.5], dtype=jnp.float32)\n",
    "grad(partial(CES, alpha=alpha, sigma=sigma, nu=nu))(x)"
   ]
  },
  {
   "cell_type": "code",
   "execution_count": 8,
   "metadata": {},
   "outputs": [
    {
     "data": {
      "text/plain": [
       "Array([0.51635367, 0.48230636], dtype=float32)"
      ]
     },
     "execution_count": 8,
     "metadata": {},
     "output_type": "execute_result"
    }
   ],
   "source": [
    "theta*nu*alpha*x**(-1/sigma)*CES(x, alpha, sigma, nu, theta)**((sigma*(nu-1)+1)/(nu*sigma))"
   ]
  },
  {
   "attachments": {},
   "cell_type": "markdown",
   "metadata": {},
   "source": [
    "### Multiplying matrices"
   ]
  },
  {
   "cell_type": "code",
   "execution_count": 46,
   "metadata": {},
   "outputs": [],
   "source": [
    "import time\n",
    "\n",
    "def multiply_matrix(size, package='np',loops=20):\n",
    "    if loops>1:\n",
    "        return np.mean([multiply_matrix(size,package,loops=1) for _ in range(loops)])\n",
    "    np.random.seed(1)\n",
    "    A = np.random.uniform(size=size)\n",
    "    if package == 'np':\n",
    "        start = time.process_time()\n",
    "        A@A\n",
    "        execution_time = time.process_time()-start\n",
    "    elif package == 'jax':\n",
    "        A = jnp.array(A)\n",
    "        start = time.process_time()\n",
    "        A@A\n",
    "        execution_time = time.process_time()-start\n",
    "    return execution_time"
   ]
  },
  {
   "cell_type": "code",
   "execution_count": null,
   "metadata": {},
   "outputs": [],
   "source": []
  },
  {
   "cell_type": "code",
   "execution_count": 60,
   "metadata": {},
   "outputs": [],
   "source": [
    "def multiply_matrix(matrix):\n",
    "    start = time.process_time()\n",
    "    matrix@matrix\n",
    "    return time.process_time()-start\n",
    "\n",
    "multiply_matrix_jit=jax.jit(multiply_matrix)"
   ]
  },
  {
   "cell_type": "code",
   "execution_count": 61,
   "metadata": {},
   "outputs": [],
   "source": [
    "def time_function(fun,loops,**kwargs):\n",
    "    if loops>1:\n",
    "        return np.mean([time_function(fun,loops=1,**kwargs) for _ in range(loops)])\n",
    "    else:\n",
    "        return fun(**kwargs)\n"
   ]
  },
  {
   "cell_type": "code",
   "execution_count": 76,
   "metadata": {},
   "outputs": [
    {
     "data": {
      "text/plain": [
       "array([    10,    100,   1000,  10000, 100000])"
      ]
     },
     "execution_count": 76,
     "metadata": {},
     "output_type": "execute_result"
    }
   ],
   "source": [
    "10**np.arange(1,6,1)"
   ]
  },
  {
   "cell_type": "code",
   "execution_count": 77,
   "metadata": {},
   "outputs": [],
   "source": [
    "sizes = 10**np.arange(1,5,1)\n",
    "np.random.seed(1)\n",
    "matrices = [np.random.uniform(size=(i,i)) for i in sizes]\n",
    "matrices_jax = [np.random.uniform(size=(i,i)) for i in sizes]\n",
    "\n",
    "fig,ax=plt.subplots()\n",
    "ax.plot(sizes, [time_function(multiply_matrix, loops=10, matrix=matrix) for matrix in matrices],label='np')\n",
    "ax.plot(sizes, [time_function(multiply_matrix, loops=10, matrix=jnp.array(matrix)) for matrix in matrices],label='jax')\n",
    "ax.plot(sizes, [time_function(multiply_matrix_jit, loops=10, matrix=jnp.array(matrix)) for matrix in matrices],label='jax jit')\n",
    "ax.legend()\n",
    "ax.set(title='Matrix multiplication',xlabel='Matrix size')\n",
    "fig.show()"
   ]
  },
  {
   "cell_type": "code",
   "execution_count": 66,
   "metadata": {},
   "outputs": [],
   "source": [
    "def test_numpy(A):\n",
    "    return A@A\n",
    "\n",
    "def test_jax(A):\n",
    "    return A@A\n",
    "\n",
    "@jax.jit\n",
    "def test_jax_jit(A):\n",
    "    return A@A    \n",
    "\n",
    "size=(10000,10000)\n",
    "A_numpy = np.random.uniform(size=size)\n",
    "A_jax = jnp.array(A_numpy)"
   ]
  },
  {
   "cell_type": "code",
   "execution_count": 67,
   "metadata": {},
   "outputs": [
    {
     "name": "stdout",
     "output_type": "stream",
     "text": [
      "1.17 s ± 178 ms per loop (mean ± std. dev. of 7 runs, 1 loop each)\n"
     ]
    }
   ],
   "source": [
    "%%timeit\n",
    "test_numpy(A_numpy)"
   ]
  },
  {
   "cell_type": "code",
   "execution_count": 68,
   "metadata": {},
   "outputs": [
    {
     "name": "stdout",
     "output_type": "stream",
     "text": [
      "470 ms ± 18.8 ms per loop (mean ± std. dev. of 7 runs, 1 loop each)\n"
     ]
    }
   ],
   "source": [
    "%%timeit\n",
    "test_jax(A_jax)"
   ]
  },
  {
   "cell_type": "code",
   "execution_count": 69,
   "metadata": {},
   "outputs": [
    {
     "name": "stdout",
     "output_type": "stream",
     "text": [
      "498 ms ± 21.5 ms per loop (mean ± std. dev. of 7 runs, 1 loop each)\n"
     ]
    }
   ],
   "source": [
    "%%timeit\n",
    "test_jax_jit(A_jax)"
   ]
  },
  {
   "attachments": {},
   "cell_type": "markdown",
   "metadata": {},
   "source": [
    "### Infinite times 0 is nan"
   ]
  },
  {
   "cell_type": "code",
   "execution_count": 12,
   "metadata": {},
   "outputs": [
    {
     "data": {
      "text/plain": [
       "nan"
      ]
     },
     "execution_count": 12,
     "metadata": {},
     "output_type": "execute_result"
    }
   ],
   "source": [
    "jnp.inf*0"
   ]
  },
  {
   "cell_type": "code",
   "execution_count": 13,
   "metadata": {},
   "outputs": [
    {
     "data": {
      "text/plain": [
       "nan"
      ]
     },
     "execution_count": 13,
     "metadata": {},
     "output_type": "execute_result"
    }
   ],
   "source": [
    "jnp.inf*False"
   ]
  },
  {
   "cell_type": "markdown",
   "metadata": {},
   "source": [
    "### While Loop"
   ]
  },
  {
   "cell_type": "code",
   "execution_count": 14,
   "metadata": {},
   "outputs": [
    {
     "data": {
      "text/plain": [
       "(DeviceArray(-3, dtype=int32, weak_type=True),\n",
       " DeviceArray(4, dtype=int32, weak_type=True))"
      ]
     },
     "execution_count": 14,
     "metadata": {},
     "output_type": "execute_result"
    }
   ],
   "source": [
    "jax.lax.while_loop(lambda x: x[1]<4, lambda x: (x[0], x[1]+1), (-3,-1))"
   ]
  },
  {
   "attachments": {},
   "cell_type": "markdown",
   "metadata": {},
   "source": [
    "### jit"
   ]
  },
  {
   "cell_type": "code",
   "execution_count": 4,
   "metadata": {},
   "outputs": [
    {
     "name": "stderr",
     "output_type": "stream",
     "text": [
      "No GPU/TPU found, falling back to CPU. (Set TF_CPP_MIN_LOG_LEVEL=0 and rerun for more info.)\n"
     ]
    }
   ],
   "source": [
    "seed = 123\n",
    "key = jax.random.PRNGKey(seed)\n",
    "A = jax.random.uniform(key, shape=(5,5), minval=-1, maxval=1)"
   ]
  },
  {
   "cell_type": "markdown",
   "metadata": {},
   "source": [
    "JAX can't `jit` functions with conditional slicing."
   ]
  },
  {
   "cell_type": "code",
   "execution_count": null,
   "metadata": {},
   "outputs": [],
   "source": [
    "@jax.jit\n",
    "def foo(A:Array)->Array:\n",
    "    return A.at[A<0].set(0)\n",
    "foo(A)"
   ]
  },
  {
   "cell_type": "markdown",
   "metadata": {},
   "source": [
    "But sometimes there are workarounds"
   ]
  },
  {
   "cell_type": "code",
   "execution_count": 9,
   "metadata": {},
   "outputs": [
    {
     "data": {
      "text/plain": [
       "Array([[0.70078254, 0.        , 0.5044954 , 0.        , 0.        ],\n",
       "       [0.        , 0.        , 0.        , 0.29831648, 0.600971  ],\n",
       "       [0.        , 0.        , 0.        , 0.        , 0.        ],\n",
       "       [0.        , 0.07184577, 0.6359787 , 0.        , 0.        ],\n",
       "       [0.        , 0.        , 0.09762692, 0.40657496, 0.        ]],      dtype=float32)"
      ]
     },
     "execution_count": 9,
     "metadata": {},
     "output_type": "execute_result"
    }
   ],
   "source": [
    "@jax.jit\n",
    "def foo(A:Array)->Array:\n",
    "    return jnp.maximum(A,0)\n",
    "foo(A)"
   ]
  },
  {
   "cell_type": "markdown",
   "metadata": {},
   "source": [
    "Slightly more complicated"
   ]
  },
  {
   "cell_type": "code",
   "execution_count": 10,
   "metadata": {},
   "outputs": [
    {
     "data": {
      "text/plain": [
       "Array([[7.0078254e-01, 9.9900000e+02, 5.0449538e-01, 9.9900000e+02,\n",
       "        9.9900000e+02],\n",
       "       [9.9900000e+02, 9.9900000e+02, 9.9900000e+02, 2.9831648e-01,\n",
       "        6.0097098e-01],\n",
       "       [9.9900000e+02, 9.9900000e+02, 9.9900000e+02, 9.9900000e+02,\n",
       "        9.9900000e+02],\n",
       "       [9.9900000e+02, 7.1845770e-02, 6.3597870e-01, 9.9900000e+02,\n",
       "        9.9900000e+02],\n",
       "       [9.9900000e+02, 9.9900000e+02, 9.7626925e-02, 4.0657496e-01,\n",
       "        9.9900000e+02]], dtype=float32)"
      ]
     },
     "execution_count": 10,
     "metadata": {},
     "output_type": "execute_result"
    }
   ],
   "source": [
    "def foo(A):\n",
    "    return A.at[A<0].set(999)\n",
    "\n",
    "@jax.jit\n",
    "def foo(A:Array)->Array:\n",
    "    mask = A<0\n",
    "    return jnp.maximum(A,0)+mask*999\n",
    "foo(A)"
   ]
  },
  {
   "cell_type": "code",
   "execution_count": 13,
   "metadata": {},
   "outputs": [],
   "source": [
    "x = jnp.array([1,0,0,1])"
   ]
  },
  {
   "cell_type": "code",
   "execution_count": 18,
   "metadata": {},
   "outputs": [
    {
     "name": "stderr",
     "output_type": "stream",
     "text": [
      "/bbkinghome/mbarrera/git_supply/monopsonistic_nk/code/quantitative_model/venv/lib/python3.9/site-packages/jax/_src/ops/scatter.py:87: FutureWarning: scatter inputs have incompatible types: cannot safely cast value from dtype=float32 to dtype=int32. In future JAX releases this will result in an error.\n",
      "  warnings.warn(\"scatter inputs have incompatible types: cannot safely cast \"\n"
     ]
    },
    {
     "data": {
      "text/plain": [
       "Array([1, 0, 0, 1], dtype=int32)"
      ]
     },
     "execution_count": 18,
     "metadata": {},
     "output_type": "execute_result"
    }
   ],
   "source": [
    "x.at[x==0].set(None)"
   ]
  },
  {
   "cell_type": "code",
   "execution_count": null,
   "metadata": {},
   "outputs": [
    {
     "data": {
      "text/plain": [
       "DeviceArray(-inf, dtype=float32)"
      ]
     },
     "execution_count": 61,
     "metadata": {},
     "output_type": "execute_result"
    }
   ],
   "source": [
    "A = jnp.array([-jnp.inf,3,4,-1])\n",
    "jnp.min(A)"
   ]
  },
  {
   "cell_type": "code",
   "execution_count": null,
   "metadata": {},
   "outputs": [
    {
     "data": {
      "text/plain": [
       "nan"
      ]
     },
     "execution_count": 66,
     "metadata": {},
     "output_type": "execute_result"
    }
   ],
   "source": [
    "-jnp.inf*0+1"
   ]
  },
  {
   "attachments": {},
   "cell_type": "markdown",
   "metadata": {},
   "source": [
    "### Random number generator vs Numpy"
   ]
  },
  {
   "cell_type": "code",
   "execution_count": null,
   "metadata": {},
   "outputs": [],
   "source": [
    "import jax\n",
    "import jax.numpy as jnp\n",
    "import numpy as np\n",
    "seed = 123\n",
    "key = jax.random.PRNGKey(seed)\n",
    "x = jnp.linspace(0,1)\n",
    "n=1"
   ]
  },
  {
   "cell_type": "code",
   "execution_count": null,
   "metadata": {},
   "outputs": [
    {
     "name": "stdout",
     "output_type": "stream",
     "text": [
      "95 µs ± 120 ns per loop (mean ± std. dev. of 7 runs, 10,000 loops each)\n"
     ]
    }
   ],
   "source": [
    "%%timeit\n",
    "jax.random.choice(key, a=x, shape=(n,))"
   ]
  },
  {
   "cell_type": "code",
   "execution_count": null,
   "metadata": {},
   "outputs": [
    {
     "name": "stdout",
     "output_type": "stream",
     "text": [
      "13.6 µs ± 69.9 ns per loop (mean ± std. dev. of 7 runs, 100,000 loops each)\n"
     ]
    }
   ],
   "source": [
    "%%timeit\n",
    "np.random.choice(a=x, size=n)"
   ]
  },
  {
   "cell_type": "code",
   "execution_count": null,
   "metadata": {},
   "outputs": [],
   "source": [
    "n_it = 10000"
   ]
  },
  {
   "cell_type": "code",
   "execution_count": null,
   "metadata": {},
   "outputs": [
    {
     "name": "stdout",
     "output_type": "stream",
     "text": [
      "943 ms ± 627 µs per loop (mean ± std. dev. of 7 runs, 1 loop each)\n"
     ]
    }
   ],
   "source": [
    "%%timeit\n",
    "for _ in range(n_it):\n",
    "    jax.random.choice(key, a=x, shape=(n,))"
   ]
  },
  {
   "cell_type": "code",
   "execution_count": null,
   "metadata": {},
   "outputs": [
    {
     "name": "stdout",
     "output_type": "stream",
     "text": [
      "1.92 ms ± 8.18 µs per loop (mean ± std. dev. of 7 runs, 1,000 loops each)\n"
     ]
    }
   ],
   "source": [
    "%%timeit\n",
    "jax.vmap(lambda i: jax.random.choice(key, a=x, shape=(n,)))(jnp.array(range(n_it)))"
   ]
  },
  {
   "attachments": {},
   "cell_type": "markdown",
   "metadata": {},
   "source": [
    "### vmap"
   ]
  },
  {
   "cell_type": "code",
   "execution_count": 38,
   "metadata": {},
   "outputs": [
    {
     "name": "stdout",
     "output_type": "stream",
     "text": [
      "(DeviceArray([1, 1, 1], dtype=int32, weak_type=True),)\n",
      "(1,)\n",
      "(2,)\n",
      "[[ 3 10]\n",
      " [ 4 40]\n",
      " [ 3 90]]\n"
     ]
    }
   ],
   "source": [
    "def foo(x):\n",
    "    return x.shape\n",
    "\n",
    "x = jnp.array([[1,2,3]]).T\n",
    "\n",
    "print(jax.vmap(foo)(x))\n",
    "\n",
    "\n",
    "def foo(x,y):\n",
    "    print(x.shape)\n",
    "    print(y.shape)\n",
    "    return x*y\n",
    "\n",
    "y = jnp.array([[3,2,1],[10,20,30]]).T\n",
    "\n",
    "print(jax.vmap(foo)(x,y))   "
   ]
  },
  {
   "cell_type": "code",
   "execution_count": 27,
   "metadata": {},
   "outputs": [
    {
     "data": {
      "text/plain": [
       "(3,)"
      ]
     },
     "execution_count": 27,
     "metadata": {},
     "output_type": "execute_result"
    }
   ],
   "source": []
  },
  {
   "attachments": {},
   "cell_type": "markdown",
   "metadata": {},
   "source": [
    "### Pass functions in jitted functions"
   ]
  },
  {
   "attachments": {},
   "cell_type": "markdown",
   "metadata": {},
   "source": [
    "Use `Partial` from `jax` instead of `functools.partial`. In this example, `foo` evaluates `x` at the function `fun`. However, `fun` also requires one argument `add`. "
   ]
  },
  {
   "cell_type": "code",
   "execution_count": 3,
   "metadata": {},
   "outputs": [
    {
     "data": {
      "text/plain": [
       "Array(2, dtype=int32, weak_type=True)"
      ]
     },
     "execution_count": 3,
     "metadata": {},
     "output_type": "execute_result"
    }
   ],
   "source": [
    "from jax._src.tree_util import Partial\n",
    "@jax.jit\n",
    "def foo(x, fun):\n",
    "    return fun(x)\n",
    "\n",
    "@jax.jit\n",
    "def f(x, add):\n",
    "    return x+add\n",
    "\n",
    "foo(1, Partial(f, add=1))"
   ]
  },
  {
   "attachments": {},
   "cell_type": "markdown",
   "metadata": {},
   "source": [
    "Static argnames"
   ]
  },
  {
   "cell_type": "code",
   "execution_count": null,
   "metadata": {},
   "outputs": [],
   "source": [
    "@partial(jax.jit, static_argnames='hola')"
   ]
  },
  {
   "attachments": {},
   "cell_type": "markdown",
   "metadata": {},
   "source": [
    "### CPU vs GPU"
   ]
  },
  {
   "cell_type": "code",
   "execution_count": null,
   "metadata": {},
   "outputs": [],
   "source": [
    "import jax"
   ]
  },
  {
   "cell_type": "code",
   "execution_count": null,
   "metadata": {},
   "outputs": [],
   "source": []
  }
 ],
 "metadata": {
  "kernelspec": {
   "display_name": "Python 3",
   "language": "python",
   "name": "python3"
  },
  "language_info": {
   "codemirror_mode": {
    "name": "ipython",
    "version": 3
   },
   "file_extension": ".py",
   "mimetype": "text/x-python",
   "name": "python",
   "nbconvert_exporter": "python",
   "pygments_lexer": "ipython3",
   "version": "3.9.13 (main, Nov  9 2022, 13:16:24) \n[GCC 8.5.0 20210514 (Red Hat 8.5.0-15)]"
  },
  "orig_nbformat": 4,
  "vscode": {
   "interpreter": {
    "hash": "f9f85f796d01129d0dd105a088854619f454435301f6ffec2fea96ecbd9be4ac"
   }
  }
 },
 "nbformat": 4,
 "nbformat_minor": 2
}
