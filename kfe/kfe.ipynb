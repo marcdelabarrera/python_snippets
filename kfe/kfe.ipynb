{
 "cells": [
  {
   "cell_type": "code",
   "execution_count": 1,
   "metadata": {},
   "outputs": [],
   "source": [
    "import numpy as np\n",
    "import matplotlib.pyplot as plt\n",
    "from matplotlib.animation import FuncAnimation"
   ]
  },
  {
   "cell_type": "code",
   "execution_count": 11,
   "metadata": {},
   "outputs": [],
   "source": [
    "dt =1e-3\n",
    "N = 100000\n",
    "mu = -0.02\n",
    "sigma = 0.1\n",
    "lam_p = 0.1\n",
    "lam_m = 0.3\n",
    "x_star = 0.01\n",
    "n_bins = 100"
   ]
  },
  {
   "cell_type": "code",
   "execution_count": 15,
   "metadata": {},
   "outputs": [
    {
     "data": {
      "text/plain": [
       "array([ 0.00170849, -0.00172304, -0.00134592, ..., -0.0001223 ,\n",
       "       -0.0001639 , -0.00261297])"
      ]
     },
     "execution_count": 15,
     "metadata": {},
     "output_type": "execute_result"
    }
   ],
   "source": [
    "sigma*dW"
   ]
  },
  {
   "cell_type": "code",
   "execution_count": 16,
   "metadata": {},
   "outputs": [],
   "source": [
    "x = [np.zeros(N)]\n",
    "for t in range(1000):\n",
    "    dW = np.random.normal(0,np.sqrt(dt), size=N)\n",
    "    dJ_p = np.random.uniform(size = N)<lam_p*dt\n",
    "    dJ_m = np.random.uniform(size = N)<lam_m*dt\n",
    "    x.append(x[-1]-mu*dt+sigma*dW+np.maximum(0,(x_star-x[-1]))*dJ_p+np.minimum(0,(x_star-x[-1]))*dJ_m)"
   ]
  },
  {
   "cell_type": "code",
   "execution_count": 18,
   "metadata": {},
   "outputs": [
    {
     "name": "stderr",
     "output_type": "stream",
     "text": [
      "C:\\Users\\MBBar\\AppData\\Local\\Temp/ipykernel_3032/1388476420.py:4: UserWarning: Matplotlib is currently using module://matplotlib_inline.backend_inline, which is a non-GUI backend, so cannot show the figure.\n",
      "  fig.show()\n"
     ]
    },
    {
     "data": {
      "image/png": "[encoded data removed]",
      "text/plain": [
       "<Figure size 432x288 with 1 Axes>"
      ]
     },
     "metadata": {
      "needs_background": "light"
     },
     "output_type": "display_data"
    }
   ],
   "source": [
    "fig,ax=plt.subplots()\n",
    "ax.hist(x[-1],bins=1000)\n",
    "ax.axvline(x_star)\n",
    "fig.show()"
   ]
  },
  {
   "cell_type": "code",
   "execution_count": null,
   "metadata": {},
   "outputs": [],
   "source": []
  }
 ],
 "metadata": {
  "interpreter": {
   "hash": "c77e783be5e5820bba49a5351e974923eaa2965d632ad349309fd51f18d9f38f"
  },
  "kernelspec": {
   "display_name": "Python 3.9.10 64-bit (windows store)",
   "language": "python",
   "name": "python3"
  },
  "language_info": {
   "codemirror_mode": {
    "name": "ipython",
    "version": 3
   },
   "file_extension": ".py",
   "mimetype": "text/x-python",
   "name": "python",
   "nbconvert_exporter": "python",
   "pygments_lexer": "ipython3",
   "version": "3.9.10"
  },
  "orig_nbformat": 4
 },
 "nbformat": 4,
 "nbformat_minor": 2
}
