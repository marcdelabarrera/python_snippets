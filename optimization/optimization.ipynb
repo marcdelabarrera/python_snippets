{
 "cells": [
  {
   "cell_type": "code",
   "execution_count": null,
   "metadata": {},
   "outputs": [],
   "source": [
    "from scipy.optimize import root_scalar, minimize, Bounds, NonlinearConstraint,BFGS\n",
    "import numpy as np"
   ]
  },
  {
   "cell_type": "markdown",
   "metadata": {},
   "source": [
    "### Non-linear constrained optimization"
   ]
  },
  {
   "cell_type": "markdown",
   "metadata": {},
   "source": [
    "$$\\max_x (x_1-a)^2+(x_2-b)^2$$\n",
    "$$x_2 = x_1^2+2$$\n",
    "$$x\\geq 0$$"
   ]
  },
  {
   "cell_type": "code",
   "execution_count": 11,
   "metadata": {},
   "outputs": [
    {
     "data": {
      "text/plain": [
       " barrier_parameter: 3.200000000000001e-05\n",
       " barrier_tolerance: 3.200000000000001e-05\n",
       "          cg_niter: 9\n",
       "      cg_stop_cond: 1\n",
       "            constr: [array([2.08235118e-09]), array([0.5897659 , 2.34782382])]\n",
       "       constr_nfev: [30, 0]\n",
       "       constr_nhev: [0, 0]\n",
       "       constr_njev: [0, 0]\n",
       "    constr_penalty: 1.0\n",
       "  constr_violation: 2.082351180376918e-09\n",
       "    execution_time: 0.02393794059753418\n",
       "               fun: 0.2892734228895651\n",
       "              grad: array([-0.82046818,  0.69564767])\n",
       "               jac: [array([[ 1.17953181, -1.        ]]), array([[1., 0.],\n",
       "       [0., 1.]])]\n",
       "   lagrangian_grad: array([6.16826547e-09, 7.27566557e-09])\n",
       "           message: '`gtol` termination condition is satisfied.'\n",
       "            method: 'tr_interior_point'\n",
       "              nfev: 30\n",
       "              nhev: 0\n",
       "               nit: 15\n",
       "             niter: 15\n",
       "              njev: 10\n",
       "        optimality: 7.2756655721564035e-09\n",
       "            status: 1\n",
       "           success: True\n",
       "         tr_radius: 21875.0\n",
       "                 v: [array([0.69563403]), array([-5.42765507e-05, -1.36309627e-05])]\n",
       "                 x: array([0.5897659 , 2.34782382])"
      ]
     },
     "execution_count": 11,
     "metadata": {},
     "output_type": "execute_result"
    }
   ],
   "source": [
    "a,b=1,2\n",
    "\n",
    "bounds = Bounds(lb=0,ub=np.inf)\n",
    "nonlinear_constraint=NonlinearConstraint(lambda x: x[0]**2+2-x[1],0,0,jac='2-point',hess=BFGS())\n",
    "\n",
    "sol = minimize(lambda x: (x[0]-a)**2+(x[1]-b)**2,\n",
    "        x0 = (1,0),\n",
    "        method='trust-constr',\n",
    "        constraints=nonlinear_constraint,\n",
    "        bounds = Bounds(lb=0,ub=np.inf))\n",
    "sol"
   ]
  }
 ],
 "metadata": {
  "kernelspec": {
   "display_name": "Python 3.10.6 64-bit",
   "language": "python",
   "name": "python3"
  },
  "language_info": {
   "codemirror_mode": {
    "name": "ipython",
    "version": 3
   },
   "file_extension": ".py",
   "mimetype": "text/x-python",
   "name": "python",
   "nbconvert_exporter": "python",
   "pygments_lexer": "ipython3",
   "version": "3.10.6"
  },
  "orig_nbformat": 4,
  "vscode": {
   "interpreter": {
    "hash": "d18f7005fc2c8fe4eb58f7d7cc5b45c2a267e69313ade3fbf0c464a72a083ce2"
   }
  }
 },
 "nbformat": 4,
 "nbformat_minor": 2
}
