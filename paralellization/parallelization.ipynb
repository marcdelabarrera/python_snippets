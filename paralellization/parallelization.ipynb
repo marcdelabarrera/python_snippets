{
 "cells": [
  {
   "cell_type": "markdown",
   "metadata": {},
   "source": [
    "### Parallelization\n",
    "\n",
    "Code does not run on VSCode in Windows machine."
   ]
  },
  {
   "cell_type": "code",
   "execution_count": 1,
   "metadata": {},
   "outputs": [],
   "source": [
    "import concurrent.futures\n",
    "import time\n",
    "import numpy as np"
   ]
  },
  {
   "cell_type": "code",
   "execution_count": 9,
   "metadata": {},
   "outputs": [],
   "source": [
    "def fun(x):\n",
    "    time.sleep(1)\n",
    "    return x"
   ]
  },
  {
   "cell_type": "code",
   "execution_count": 10,
   "metadata": {},
   "outputs": [
    {
     "name": "stdout",
     "output_type": "stream",
     "text": [
      "[1, 1, 1, 1, 1, 1, 1, 1, 1, 1]\n",
      "time elapsed: 1.100304126739502 seconds\n"
     ]
    }
   ],
   "source": [
    "start = time.time()\n",
    "with concurrent.futures.ProcessPoolExecutor(max_workers=10) as executor:\n",
    "    a=list(executor.map(fun,[1]*10))\n",
    "\n",
    "print(a)\n",
    "print(f'time elapsed: {time.time()-start} seconds')"
   ]
  },
  {
   "cell_type": "code",
   "execution_count": 11,
   "metadata": {},
   "outputs": [
    {
     "name": "stdout",
     "output_type": "stream",
     "text": [
      "[1, 1, 1, 1, 1, 1, 1, 1, 1, 1]\n",
      "time elapsed: 1.0164897441864014 seconds\n"
     ]
    }
   ],
   "source": [
    "start = time.time()\n",
    "with concurrent.futures.ThreadPoolExecutor(max_workers=10) as executor:\n",
    "    a=list(executor.map(fun,[1]*10))\n",
    "\n",
    "print(a)\n",
    "print(f'time elapsed: {time.time()-start} seconds')"
   ]
  },
  {
   "cell_type": "markdown",
   "metadata": {},
   "source": [
    "`ProcessPoolExecutor` vs `ThreatPoolExecutor`"
   ]
  },
  {
   "cell_type": "code",
   "execution_count": 7,
   "metadata": {},
   "outputs": [
    {
     "name": "stdout",
     "output_type": "stream",
     "text": [
      "Process: time elapsed: 3.0895705223083496 seconds\n",
      "Thread: time elapsed: 3.418935537338257 seconds\n"
     ]
    }
   ],
   "source": [
    "def invert_matrix(x):\n",
    "    np.linalg.inv(np.random.rand(400,400))\n",
    "    return x\n",
    "\n",
    "start_process = time.time()\n",
    "with concurrent.futures.ProcessPoolExecutor(max_workers=10) as executor:\n",
    "    executor.map(invert_matrix,[1]*10)\n",
    "print(f'Process: time elapsed: {time.time()-start_process} seconds')\n",
    "\n",
    "start_threat = time.time()\n",
    "with concurrent.futures.ThreadPoolExecutor(max_workers=10) as executor:\n",
    "    executor.map(invert_matrix,[1]*10)\n",
    "print(f'Thread: time elapsed: {time.time()-start_threat} seconds')"
   ]
  },
  {
   "cell_type": "markdown",
   "metadata": {},
   "source": [
    "Paralelizing many, small tasks might be counter-productive"
   ]
  },
  {
   "cell_type": "code",
   "execution_count": 16,
   "metadata": {},
   "outputs": [
    {
     "name": "stdout",
     "output_type": "stream",
     "text": [
      "time elapsed: 0.0001800060272216797 seconds\n",
      "time elapsed: 0.8244543075561523 seconds\n"
     ]
    }
   ],
   "source": [
    "def fun(x):\n",
    "    return x\n",
    "x=[1]*1000\n",
    "\n",
    "start = time.time()\n",
    "list(map(fun, x))\n",
    "print(f'time elapsed: {time.time()-start} seconds')\n",
    "\n",
    "start_process = time.time()\n",
    "with concurrent.futures.ProcessPoolExecutor(max_workers=50) as executor:\n",
    "    executor.map(fun,x)\n",
    "print(f'time elapsed: {time.time()-start_process} seconds')"
   ]
  },
  {
   "cell_type": "markdown",
   "metadata": {},
   "source": [
    "To parallelize many, easy tasks, use `chunksize` to reduce over-head costs."
   ]
  },
  {
   "cell_type": "code",
   "execution_count": 14,
   "metadata": {},
   "outputs": [
    {
     "name": "stdout",
     "output_type": "stream",
     "text": [
      "time elapsed using map (expect 10 s): 10.020093202590942 seconds\n",
      "time elapsed using 100 workers (expect 0.1s): 0.9341230392456055 seconds\n",
      "time elapsed usign 10 workers and cunnksize 10 (expect 1 s): 1.1265740394592285 seconds\n"
     ]
    }
   ],
   "source": [
    "def fun(x):\n",
    "    time.sleep(0.1)\n",
    "    return x\n",
    "\n",
    "x = [1]*100\n",
    "\n",
    "start = time.time()\n",
    "list(map(fun,x))\n",
    "print(f'Time elapsed using map (expect 10 s): {time.time()-start} seconds')\n",
    "\n",
    "start = time.time()\n",
    "with concurrent.futures.ProcessPoolExecutor(max_workers = 100) as executor:\n",
    "    executor.map(fun,x, chunksize = 1)\n",
    "print(f'Time elapsed using 100 workers (expect 0.1s): {time.time()-start} seconds')\n",
    "\n",
    "\n",
    "start = time.time()\n",
    "with concurrent.futures.ProcessPoolExecutor(max_workers = 10) as executor:\n",
    "    executor.map(fun,x, chunksize = 10)\n",
    "print(f'Time elapsed usign 10 workers and cunnksize 10 (expect 1 s): {time.time()-start} seconds')\n",
    "\n"
   ]
  }
 ],
 "metadata": {
  "kernelspec": {
   "display_name": "Python 3.10.6 64-bit",
   "language": "python",
   "name": "python3"
  },
  "language_info": {
   "codemirror_mode": {
    "name": "ipython",
    "version": 3
   },
   "file_extension": ".py",
   "mimetype": "text/x-python",
   "name": "python",
   "nbconvert_exporter": "python",
   "pygments_lexer": "ipython3",
   "version": "3.10.6"
  },
  "orig_nbformat": 4,
  "vscode": {
   "interpreter": {
    "hash": "d18f7005fc2c8fe4eb58f7d7cc5b45c2a267e69313ade3fbf0c464a72a083ce2"
   }
  }
 },
 "nbformat": 4,
 "nbformat_minor": 2
}
