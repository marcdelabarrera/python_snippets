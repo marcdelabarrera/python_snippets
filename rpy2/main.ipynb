{
 "cells": [
  {
   "attachments": {},
   "cell_type": "markdown",
   "metadata": {},
   "source": [
    "# rpy2"
   ]
  },
  {
   "cell_type": "code",
   "execution_count": 1,
   "metadata": {},
   "outputs": [],
   "source": [
    "from rpy2 import robjects as ro\n",
    "from rpy2.robjects import pandas2ri\n",
    "from rpy2.robjects.packages import importr\n",
    "import pandas as pd"
   ]
  },
  {
   "attachments": {},
   "cell_type": "markdown",
   "metadata": {},
   "source": [
    "**Install packages**"
   ]
  },
  {
   "cell_type": "code",
   "execution_count": 3,
   "metadata": {},
   "outputs": [],
   "source": [
    "import rpy2.robjects.packages as rpackages\n",
    "#utils = rpackages.importr('utils')\n",
    "#utils.chooseCRANmirror(ind=1)\n",
    "#utils.install_packages('fixest')"
   ]
  },
  {
   "attachments": {},
   "cell_type": "markdown",
   "metadata": {},
   "source": [
    "**From `pd.DataFrame` to `rpy2.DataFrame`**"
   ]
  },
  {
   "cell_type": "code",
   "execution_count": 4,
   "metadata": {},
   "outputs": [
    {
     "data": {
      "text/html": [
       "\n",
       "        <span>R/rpy2 DataFrame (3 x 2)</span>\n",
       "        <table>\n",
       "          <thead>\n",
       "            <tr>\n",
       "              \n",
       "              <th>x1</th>\n",
       "              \n",
       "              <th>x2</th>\n",
       "              \n",
       "            </tr>\n",
       "          </thead>\n",
       "          <tbody>\n",
       "          \n",
       "          <tr>\n",
       "            \n",
       "            <td>\n",
       "              ...\n",
       "            </td>\n",
       "            \n",
       "            <td>\n",
       "              ...\n",
       "            </td>\n",
       "            \n",
       "          </tr>\n",
       "          \n",
       "          </tbody>\n",
       "        </table>\n",
       "    "
      ],
      "text/plain": [
       "<rpy2.robjects.vectors.DataFrame object at 0x7f16241eedc0> [RTYPES.VECSXP]\n",
       "R classes: ('data.frame',)\n",
       "[IntSexpVector, StrSexpVector]\n",
       "  x1: <class 'rpy2.rinterface.IntSexpVector'>\n",
       "  <rpy2.rinterface.IntSexpVector object at 0x7f1af062b500> [RTYPES.INTSXP]\n",
       "  x2: <class 'rpy2.rinterface_lib.sexp.StrSexpVector'>\n",
       "  <rpy2.rinterface_lib.sexp.StrSexpVector object at 0x7f1624140f40> [RTYPES.STRSXP]"
      ]
     },
     "execution_count": 4,
     "metadata": {},
     "output_type": "execute_result"
    }
   ],
   "source": [
    "pd_df = pd.DataFrame({'x1':[1,2,3], 'x2':['a','b','c']})\n",
    "\n",
    "with (ro.default_converter + pandas2ri.converter).context():\n",
    "  r_df = ro.conversion.get_conversion().py2rpy(pd_df)\n",
    "\n",
    "r_df"
   ]
  },
  {
   "attachments": {},
   "cell_type": "markdown",
   "metadata": {},
   "source": [
    "**From `rpy2.DataFrame` dataframe to `pd.DataFrame`**"
   ]
  },
  {
   "cell_type": "code",
   "execution_count": 5,
   "metadata": {},
   "outputs": [
    {
     "data": {
      "text/html": [
       "<div>\n",
       "<style scoped>\n",
       "    .dataframe tbody tr th:only-of-type {\n",
       "        vertical-align: middle;\n",
       "    }\n",
       "\n",
       "    .dataframe tbody tr th {\n",
       "        vertical-align: top;\n",
       "    }\n",
       "\n",
       "    .dataframe thead th {\n",
       "        text-align: right;\n",
       "    }\n",
       "</style>\n",
       "<table border=\"1\" class=\"dataframe\">\n",
       "  <thead>\n",
       "    <tr style=\"text-align: right;\">\n",
       "      <th></th>\n",
       "      <th>x1</th>\n",
       "      <th>x2</th>\n",
       "    </tr>\n",
       "  </thead>\n",
       "  <tbody>\n",
       "    <tr>\n",
       "      <th>0</th>\n",
       "      <td>1</td>\n",
       "      <td>a</td>\n",
       "    </tr>\n",
       "    <tr>\n",
       "      <th>1</th>\n",
       "      <td>2</td>\n",
       "      <td>b</td>\n",
       "    </tr>\n",
       "    <tr>\n",
       "      <th>2</th>\n",
       "      <td>3</td>\n",
       "      <td>c</td>\n",
       "    </tr>\n",
       "  </tbody>\n",
       "</table>\n",
       "</div>"
      ],
      "text/plain": [
       "   x1 x2\n",
       "0   1  a\n",
       "1   2  b\n",
       "2   3  c"
      ]
     },
     "execution_count": 5,
     "metadata": {},
     "output_type": "execute_result"
    }
   ],
   "source": [
    "with (ro.default_converter + pandas2ri.converter).context():\n",
    "  pd_df = ro.conversion.get_conversion().rpy2py(r_df)\n",
    "pd_df"
   ]
  },
  {
   "attachments": {},
   "cell_type": "markdown",
   "metadata": {},
   "source": [
    "**`fixest` estimation**"
   ]
  },
  {
   "cell_type": "code",
   "execution_count": 6,
   "metadata": {},
   "outputs": [],
   "source": [
    "fixest = importr('fixest')\n",
    "stats = importr('stats')\n",
    "base = importr('base')"
   ]
  },
  {
   "cell_type": "code",
   "execution_count": 7,
   "metadata": {},
   "outputs": [
    {
     "data": {
      "text/html": [
       "\n",
       "        <span>R/rpy2 DataFrame (150 x 5)</span>\n",
       "        <table>\n",
       "          <thead>\n",
       "            <tr>\n",
       "              \n",
       "              <th>sepal_length</th>\n",
       "              \n",
       "              <th>sepal_width</th>\n",
       "              \n",
       "              <th>petal_length</th>\n",
       "              \n",
       "              <th>petal_width</th>\n",
       "              \n",
       "              <th>species</th>\n",
       "              \n",
       "            </tr>\n",
       "          </thead>\n",
       "          <tbody>\n",
       "          \n",
       "          <tr>\n",
       "            \n",
       "            <td>\n",
       "              ...\n",
       "            </td>\n",
       "            \n",
       "            <td>\n",
       "              ...\n",
       "            </td>\n",
       "            \n",
       "            <td>\n",
       "              ...\n",
       "            </td>\n",
       "            \n",
       "            <td>\n",
       "              ...\n",
       "            </td>\n",
       "            \n",
       "            <td>\n",
       "              ...\n",
       "            </td>\n",
       "            \n",
       "          </tr>\n",
       "          \n",
       "          </tbody>\n",
       "        </table>\n",
       "    "
      ],
      "text/plain": [
       "<rpy2.robjects.vectors.DataFrame object at 0x7f161b144840> [RTYPES.VECSXP]\n",
       "R classes: ('data.frame',)\n",
       "[FloatSe..., FloatSe..., FloatSe..., FloatSe..., StrSexp...]\n",
       "  sepal_length: <class 'rpy2.rinterface.FloatSexpVector'>\n",
       "  <rpy2.rinterface.FloatSexpVector object at 0x7f161b144100> [RTYPES.REALSXP]\n",
       "  sepal_width: <class 'rpy2.rinterface.FloatSexpVector'>\n",
       "  <rpy2.rinterface.FloatSexpVector object at 0x7f161b12c980> [RTYPES.REALSXP]\n",
       "  petal_length: <class 'rpy2.rinterface.FloatSexpVector'>\n",
       "  <rpy2.rinterface.FloatSexpVector object at 0x7f1624138600> [RTYPES.REALSXP]\n",
       "  petal_width: <class 'rpy2.rinterface.FloatSexpVector'>\n",
       "  <rpy2.rinterface.FloatSexpVector object at 0x7f161b1238c0> [RTYPES.REALSXP]\n",
       "  species: <class 'rpy2.rinterface_lib.sexp.StrSexpVector'>\n",
       "  <rpy2.rinterface_lib.sexp.StrSexpVector object at 0x7f161b12c980> [RTYPES.STRSXP]"
      ]
     },
     "execution_count": 7,
     "metadata": {},
     "output_type": "execute_result"
    }
   ],
   "source": [
    "iris = pd.read_csv(\"https://raw.githubusercontent.com/mwaskom/seaborn-data/master/iris.csv\")\n",
    "\n",
    "with (ro.default_converter + pandas2ri.converter).context():\n",
    "  iris_r = ro.conversion.get_conversion().py2rpy(iris)\n",
    "iris_r"
   ]
  },
  {
   "cell_type": "code",
   "execution_count": 8,
   "metadata": {},
   "outputs": [
    {
     "name": "stdout",
     "output_type": "stream",
     "text": [
      "OLS estimation, Dep. Var.: sepal_length\n",
      "Observations: 150 \n",
      "Fixed-effects: species: 3\n",
      "Standard-errors: Clustered (species) \n",
      "              Estimate Std. Error  t value Pr(>|t|)    \n",
      "sepal_width   0.495889   0.120618  4.11124 0.054382 .  \n",
      "petal_length  0.829244   0.097011  8.54796 0.013411 *  \n",
      "petal_width  -0.315155   0.109610 -2.87524 0.102670    \n",
      "---\n",
      "Signif. codes:  0 '***' 0.001 '**' 0.01 '*' 0.05 '.' 0.1 ' ' 1\n",
      "RMSE: 0.300627     Adj. R2: 0.862705\n",
      "                 Within R2: 0.652007\n",
      "\n"
     ]
    }
   ],
   "source": [
    "formula = ro.Formula('sepal_length~sepal_width+petal_length+petal_width|species')\n",
    "result = fixest.feols(formula, data=iris_r)\n",
    "print(result)"
   ]
  },
  {
   "cell_type": "code",
   "execution_count": 36,
   "metadata": {},
   "outputs": [
    {
     "data": {
      "text/html": [
       "\n",
       "        <span>StrVector with 37 elements.</span>\n",
       "        <table>\n",
       "        <tbody>\n",
       "          <tr>\n",
       "          \n",
       "            <td>\n",
       "            'nobs'\n",
       "            </td>\n",
       "          \n",
       "            <td>\n",
       "            'nobs_ori...\n",
       "            </td>\n",
       "          \n",
       "            <td>\n",
       "            'fml'\n",
       "            </td>\n",
       "          \n",
       "            <td>\n",
       "            ...\n",
       "            </td>\n",
       "          \n",
       "            <td>\n",
       "            'll_null'\n",
       "            </td>\n",
       "          \n",
       "            <td>\n",
       "            'ssr_fe_o...\n",
       "            </td>\n",
       "          \n",
       "            <td>\n",
       "            'll_fe_on...\n",
       "            </td>\n",
       "          \n",
       "          </tr>\n",
       "        </tbody>\n",
       "        </table>\n",
       "        "
      ],
      "text/plain": [
       "<rpy2.robjects.vectors.StrVector object at 0x7f15e2700fc0> [RTYPES.STRSXP]\n",
       "R classes: ('character',)\n",
       "['nobs', 'nobs_ori..., 'fml', 'call', ..., 'ssr', 'll_null', 'ssr_fe_o..., 'll_fe_on...]"
      ]
     },
     "execution_count": 36,
     "metadata": {},
     "output_type": "execute_result"
    }
   ],
   "source": [
    "result.names"
   ]
  },
  {
   "cell_type": "code",
   "execution_count": 39,
   "metadata": {},
   "outputs": [],
   "source": [
    "from rpy2.robjects.vectors import ListVector\n",
    "my_list = ListVector({'key1': 'value1', 'key2': 'value2'})\n"
   ]
  },
  {
   "cell_type": "code",
   "execution_count": 49,
   "metadata": {},
   "outputs": [
    {
     "data": {
      "text/html": [
       "<div>\n",
       "<style scoped>\n",
       "    .dataframe tbody tr th:only-of-type {\n",
       "        vertical-align: middle;\n",
       "    }\n",
       "\n",
       "    .dataframe tbody tr th {\n",
       "        vertical-align: top;\n",
       "    }\n",
       "\n",
       "    .dataframe thead th {\n",
       "        text-align: right;\n",
       "    }\n",
       "</style>\n",
       "<table border=\"1\" class=\"dataframe\">\n",
       "  <thead>\n",
       "    <tr style=\"text-align: right;\">\n",
       "      <th></th>\n",
       "      <th>x</th>\n",
       "    </tr>\n",
       "  </thead>\n",
       "  <tbody>\n",
       "    <tr>\n",
       "      <th>0</th>\n",
       "      <td>a</td>\n",
       "    </tr>\n",
       "    <tr>\n",
       "      <th>1</th>\n",
       "      <td>2</td>\n",
       "    </tr>\n",
       "    <tr>\n",
       "      <th>2</th>\n",
       "      <td>&lt;NA&gt;</td>\n",
       "    </tr>\n",
       "  </tbody>\n",
       "</table>\n",
       "</div>"
      ],
      "text/plain": [
       "      x\n",
       "0     a\n",
       "1     2\n",
       "2  <NA>"
      ]
     },
     "execution_count": 49,
     "metadata": {},
     "output_type": "execute_result"
    }
   ],
   "source": [
    "d = pd.DataFrame({'x':['a','2',pd.NA]})\n",
    "d"
   ]
  },
  {
   "cell_type": "code",
   "execution_count": 52,
   "metadata": {},
   "outputs": [
    {
     "data": {
      "text/plain": [
       "0.3333333333333333"
      ]
     },
     "execution_count": 52,
     "metadata": {},
     "output_type": "execute_result"
    }
   ],
   "source": [
    "d.x.isna().mean()"
   ]
  },
  {
   "cell_type": "code",
   "execution_count": 9,
   "metadata": {},
   "outputs": [
    {
     "data": {
      "text/html": [
       "\n",
       "        <span>FloatVector with 3 elements.</span>\n",
       "        <table>\n",
       "        <tbody>\n",
       "          <tr>\n",
       "          \n",
       "            <td>\n",
       "            0.495889\n",
       "            </td>\n",
       "          \n",
       "            <td>\n",
       "            0.829244\n",
       "            </td>\n",
       "          \n",
       "            <td>\n",
       "            -0.315155\n",
       "            </td>\n",
       "          \n",
       "          </tr>\n",
       "        </tbody>\n",
       "        </table>\n",
       "        "
      ],
      "text/plain": [
       "<rpy2.robjects.vectors.FloatVector object at 0x7f162412eec0> [RTYPES.REALSXP]\n",
       "R classes: ('numeric',)\n",
       "[0.495889, 0.829244, -0.315155]"
      ]
     },
     "execution_count": 9,
     "metadata": {},
     "output_type": "execute_result"
    }
   ],
   "source": [
    "stats.coef(result)"
   ]
  },
  {
   "cell_type": "code",
   "execution_count": 10,
   "metadata": {},
   "outputs": [
    {
     "data": {
      "text/html": [
       "\n",
       "        <span>R/rpy2 DataFrame (3 x 2)</span>\n",
       "        <table>\n",
       "          <thead>\n",
       "            <tr>\n",
       "              \n",
       "              <th>2.5 %</th>\n",
       "              \n",
       "              <th>97.5 %</th>\n",
       "              \n",
       "            </tr>\n",
       "          </thead>\n",
       "          <tbody>\n",
       "          \n",
       "          <tr>\n",
       "            \n",
       "            <td>\n",
       "              ...\n",
       "            </td>\n",
       "            \n",
       "            <td>\n",
       "              ...\n",
       "            </td>\n",
       "            \n",
       "          </tr>\n",
       "          \n",
       "          </tbody>\n",
       "        </table>\n",
       "    "
      ],
      "text/plain": [
       "<rpy2.robjects.vectors.DataFrame object at 0x7f1af064c700> [RTYPES.VECSXP]\n",
       "R classes: ('data.frame',)\n",
       "[FloatSexpVector, FloatSexpVector]\n",
       "  2.5 %: <class 'rpy2.rinterface.FloatSexpVector'>\n",
       "  <rpy2.rinterface.FloatSexpVector object at 0x7f161b142b40> [RTYPES.REALSXP]\n",
       "  97.5 %: <class 'rpy2.rinterface.FloatSexpVector'>\n",
       "  <rpy2.rinterface.FloatSexpVector object at 0x7f161b142240> [RTYPES.REALSXP]"
      ]
     },
     "execution_count": 10,
     "metadata": {},
     "output_type": "execute_result"
    }
   ],
   "source": [
    "stats.confint(result)"
   ]
  },
  {
   "cell_type": "code",
   "execution_count": 12,
   "metadata": {},
   "outputs": [
    {
     "data": {
      "text/html": [
       "\n",
       "        <span>StrVector with 37 elements.</span>\n",
       "        <table>\n",
       "        <tbody>\n",
       "          <tr>\n",
       "          \n",
       "            <td>\n",
       "            'nobs'\n",
       "            </td>\n",
       "          \n",
       "            <td>\n",
       "            'nobs_ori...\n",
       "            </td>\n",
       "          \n",
       "            <td>\n",
       "            'fml'\n",
       "            </td>\n",
       "          \n",
       "            <td>\n",
       "            ...\n",
       "            </td>\n",
       "          \n",
       "            <td>\n",
       "            'll_null'\n",
       "            </td>\n",
       "          \n",
       "            <td>\n",
       "            'ssr_fe_o...\n",
       "            </td>\n",
       "          \n",
       "            <td>\n",
       "            'll_fe_on...\n",
       "            </td>\n",
       "          \n",
       "          </tr>\n",
       "        </tbody>\n",
       "        </table>\n",
       "        "
      ],
      "text/plain": [
       "<rpy2.robjects.vectors.StrVector object at 0x7f161b168480> [RTYPES.STRSXP]\n",
       "R classes: ('character',)\n",
       "['nobs', 'nobs_ori..., 'fml', 'call', ..., 'ssr', 'll_null', 'ssr_fe_o..., 'll_fe_on...]"
      ]
     },
     "execution_count": 12,
     "metadata": {},
     "output_type": "execute_result"
    }
   ],
   "source": [
    "result.names"
   ]
  },
  {
   "cell_type": "code",
   "execution_count": 110,
   "metadata": {},
   "outputs": [
    {
     "data": {
      "text/html": [
       "\n",
       "        <span>ListVector with 40 elements.</span>\n",
       "        <table>\n",
       "        <tbody>\n",
       "        \n",
       "          <tr>\n",
       "            <th>\n",
       "            nobs\n",
       "            </th>\n",
       "            <td>\n",
       "            \n",
       "        <span>IntVector with 1 elements.</span>\n",
       "        <table>\n",
       "        <tbody>\n",
       "          <tr>\n",
       "          \n",
       "            <td>\n",
       "            150\n",
       "            </td>\n",
       "          \n",
       "          </tr>\n",
       "        </tbody>\n",
       "        </table>\n",
       "        \n",
       "            </td>\n",
       "          </tr>\n",
       "        \n",
       "          <tr>\n",
       "            <th>\n",
       "            nobs_origin\n",
       "            </th>\n",
       "            <td>\n",
       "            \n",
       "        <span>IntVector with 1 elements.</span>\n",
       "        <table>\n",
       "        <tbody>\n",
       "          <tr>\n",
       "          \n",
       "            <td>\n",
       "            150\n",
       "            </td>\n",
       "          \n",
       "          </tr>\n",
       "        </tbody>\n",
       "        </table>\n",
       "        \n",
       "            </td>\n",
       "          </tr>\n",
       "        \n",
       "          <tr>\n",
       "            <th>\n",
       "            fml\n",
       "            </th>\n",
       "            <td>\n",
       "            sepal_length ~ sepal_width + petal_length + petal_width\n",
       "<environment: 0x560372ee6158>\n",
       "\n",
       "            </td>\n",
       "          </tr>\n",
       "        \n",
       "          <tr>\n",
       "            <th>\n",
       "            ...\n",
       "            </th>\n",
       "            <td>\n",
       "            ...\n",
       "            </td>\n",
       "          </tr>\n",
       "        \n",
       "          <tr>\n",
       "            <th>\n",
       "            cov.scaled\n",
       "            </th>\n",
       "            <td>\n",
       "            \n",
       "        <span>FloatMatrix with 9 elements.</span>\n",
       "        <table>\n",
       "        <tbody>\n",
       "          <tr>\n",
       "          \n",
       "            <td>\n",
       "            0.014549\n",
       "            </td>\n",
       "          \n",
       "            <td>\n",
       "            -0.010154\n",
       "            </td>\n",
       "          \n",
       "            <td>\n",
       "            0.003056\n",
       "            </td>\n",
       "          \n",
       "            <td>\n",
       "            ...\n",
       "            </td>\n",
       "          \n",
       "            <td>\n",
       "            0.003056\n",
       "            </td>\n",
       "          \n",
       "            <td>\n",
       "            0.003008\n",
       "            </td>\n",
       "          \n",
       "            <td>\n",
       "            0.012014\n",
       "            </td>\n",
       "          \n",
       "          </tr>\n",
       "        </tbody>\n",
       "        </table>\n",
       "        \n",
       "            </td>\n",
       "          </tr>\n",
       "        \n",
       "          <tr>\n",
       "            <th>\n",
       "            summary\n",
       "            </th>\n",
       "            <td>\n",
       "            \n",
       "        <span>BoolVector with 1 elements.</span>\n",
       "        <table>\n",
       "        <tbody>\n",
       "          <tr>\n",
       "          \n",
       "            <td>\n",
       "                   1\n",
       "            </td>\n",
       "          \n",
       "          </tr>\n",
       "        </tbody>\n",
       "        </table>\n",
       "        \n",
       "            </td>\n",
       "          </tr>\n",
       "        \n",
       "          <tr>\n",
       "            <th>\n",
       "            summary_flags\n",
       "            </th>\n",
       "            <td>\n",
       "            \n",
       "        <span>ListVector with 0 elements.</span>\n",
       "        <table>\n",
       "        <tbody>\n",
       "        \n",
       "        </tbody>\n",
       "        </table>\n",
       "        \n",
       "            </td>\n",
       "          </tr>\n",
       "        \n",
       "        </tbody>\n",
       "        </table>\n",
       "        "
      ],
      "text/plain": [
       "<rpy2.robjects.vectors.ListVector object at 0x7f107e56a5c0> [RTYPES.VECSXP]\n",
       "R classes: ('fixest',)\n",
       "[IntSexpVe..., IntSexpVe..., LangSexpV..., LangSexpV..., ..., FloatSexp..., FloatSexp..., BoolSexpV..., ListSexpV...]\n",
       "  nobs: <class 'rpy2.robjects.vectors.IntVector'>\n",
       "  <rpy2.robjects.vectors.IntVector object at 0x7f109185dc40> [RTYPES.INTSXP]\n",
       "R classes: ('integer',)\n",
       "[150]\n",
       "  nobs_origin: <class 'rpy2.robjects.vectors.IntVector'>\n",
       "  <rpy2.robjects.vectors.IntVector object at 0x7f109185dfc0> [RTYPES.INTSXP]\n",
       "R classes: ('integer',)\n",
       "[150]\n",
       "  fml: <class 'rpy2.robjects.Formula'>\n",
       "  <rpy2.robjects.Formula object at 0x7f109185ddc0> [RTYPES.LANGSXP]\n",
       "R classes: ('formula',)\n",
       "  call: <class 'rpy2.robjects.language.LangVector'>\n",
       "  Rlang( (function (fml, data, vcov, weights, offset, subset, split, fsplit,  )\n",
       "...\n",
       "  method: <class 'rpy2.robjects.vectors.FloatVector'>\n",
       "  <rpy2.robjects.vectors.FloatVector object at 0x7f109185ddc0> [RTYPES.REALSXP]\n",
       "R classes: ('numeric',)\n",
       "[-111.725978]\n",
       "  method_type: <class 'rpy2.robjects.vectors.FloatMatrix'>\n",
       "  <rpy2.robjects.vectors.FloatMatrix object at 0x7f10915b5bc0> [RTYPES.REALSXP]\n",
       "R classes: ('matrix', 'array')\n",
       "[0.014549, -0.010154, 0.003056, -0.010154, ..., 0.003008, 0.003056, 0.003008, 0.012014]\n",
       "  fml_all: <class 'rpy2.robjects.vectors.BoolVector'>\n",
       "  <rpy2.robjects.vectors.BoolVector object at 0x7f107e5692c0> [RTYPES.LGLSXP]\n",
       "R classes: ('logical',)\n",
       "[       1]\n",
       "<rpy2.robjects.vectors.ListVector object at 0x7f107e56a5c0> [RTYPES.VECSXP]\n",
       "R classes: ('fixest',)\n",
       "[IntSexpVe..., IntSexpVe..., LangSexpV..., LangSexpV..., ..., FloatSexp..., FloatSexp..., BoolSexpV..., ListSexpV...]"
      ]
     },
     "execution_count": 110,
     "metadata": {},
     "output_type": "execute_result"
    }
   ],
   "source": [
    "base.summary(result)"
   ]
  },
  {
   "cell_type": "code",
   "execution_count": 111,
   "metadata": {},
   "outputs": [
    {
     "ename": "AttributeError",
     "evalue": "module 'base' has no attribute 'coeftable'",
     "output_type": "error",
     "traceback": [
      "\u001b[0;31m---------------------------------------------------------------------------\u001b[0m",
      "\u001b[0;31mAttributeError\u001b[0m                            Traceback (most recent call last)",
      "\u001b[1;32m/bbkinghome/mbarrera/git_supply/python_snippets/rpy2/main.ipynb Cell 16\u001b[0m in \u001b[0;36m<cell line: 1>\u001b[0;34m()\u001b[0m\n\u001b[0;32m----> <a href='vscode-notebook-cell://ssh-remote%2Bdemand.mit.edu/bbkinghome/mbarrera/git_supply/python_snippets/rpy2/main.ipynb#X42sdnNjb2RlLXJlbW90ZQ%3D%3D?line=0'>1</a>\u001b[0m base\u001b[39m.\u001b[39;49mcoeftable(result)\n",
      "\u001b[0;31mAttributeError\u001b[0m: module 'base' has no attribute 'coeftable'"
     ]
    }
   ],
   "source": []
  },
  {
   "cell_type": "code",
   "execution_count": 114,
   "metadata": {},
   "outputs": [
    {
     "ename": "ImportError",
     "evalue": "cannot import name 'pandas2ri' from 'rpy2.robjects.numpy2ri' (/bbkinghome/mbarrera/miniconda3/lib/python3.9/site-packages/rpy2/robjects/numpy2ri.py)",
     "output_type": "error",
     "traceback": [
      "\u001b[0;31m---------------------------------------------------------------------------\u001b[0m",
      "\u001b[0;31mImportError\u001b[0m                               Traceback (most recent call last)",
      "\u001b[1;32m/bbkinghome/mbarrera/git_supply/python_snippets/rpy2/main.ipynb Cell 17\u001b[0m in \u001b[0;36m<cell line: 1>\u001b[0;34m()\u001b[0m\n\u001b[0;32m----> <a href='vscode-notebook-cell://ssh-remote%2Bdemand.mit.edu/bbkinghome/mbarrera/git_supply/python_snippets/rpy2/main.ipynb#X43sdnNjb2RlLXJlbW90ZQ%3D%3D?line=0'>1</a>\u001b[0m \u001b[39mfrom\u001b[39;00m \u001b[39mrpy2\u001b[39;00m\u001b[39m.\u001b[39;00m\u001b[39mrobjects\u001b[39;00m\u001b[39m.\u001b[39;00m\u001b[39mnumpy2ri\u001b[39;00m \u001b[39mimport\u001b[39;00m pandas2ri\n\u001b[1;32m      <a href='vscode-notebook-cell://ssh-remote%2Bdemand.mit.edu/bbkinghome/mbarrera/git_supply/python_snippets/rpy2/main.ipynb#X43sdnNjb2RlLXJlbW90ZQ%3D%3D?line=1'>2</a>\u001b[0m iris_r \u001b[39m=\u001b[39m pandas2ri\u001b[39m.\u001b[39mpy2ri(iris)\n",
      "\u001b[0;31mImportError\u001b[0m: cannot import name 'pandas2ri' from 'rpy2.robjects.numpy2ri' (/bbkinghome/mbarrera/miniconda3/lib/python3.9/site-packages/rpy2/robjects/numpy2ri.py)"
     ]
    }
   ],
   "source": [
    "from rpy2.robjects.numpy2ri import pandas2ri\n",
    "iris_r = pandas2ri.py2ri(iris)"
   ]
  },
  {
   "cell_type": "code",
   "execution_count": 118,
   "metadata": {},
   "outputs": [],
   "source": [
    "ro.globalenv[\"iris_r\"] = iris_r"
   ]
  },
  {
   "cell_type": "code",
   "execution_count": null,
   "metadata": {},
   "outputs": [],
   "source": []
  },
  {
   "cell_type": "code",
   "execution_count": 125,
   "metadata": {},
   "outputs": [
    {
     "ename": "ValueError",
     "evalue": "The truth value of an array with more than one element is ambiguous. Use a.any() or a.all()",
     "output_type": "error",
     "traceback": [
      "\u001b[0;31m---------------------------------------------------------------------------\u001b[0m",
      "\u001b[0;31mValueError\u001b[0m                                Traceback (most recent call last)",
      "File \u001b[0;32m~/.local/lib/python3.9/site-packages/IPython/core/formatters.py:343\u001b[0m, in \u001b[0;36mBaseFormatter.__call__\u001b[0;34m(self, obj)\u001b[0m\n\u001b[1;32m    341\u001b[0m     method \u001b[39m=\u001b[39m get_real_method(obj, \u001b[39mself\u001b[39m\u001b[39m.\u001b[39mprint_method)\n\u001b[1;32m    342\u001b[0m     \u001b[39mif\u001b[39;00m method \u001b[39mis\u001b[39;00m \u001b[39mnot\u001b[39;00m \u001b[39mNone\u001b[39;00m:\n\u001b[0;32m--> 343\u001b[0m         \u001b[39mreturn\u001b[39;00m method()\n\u001b[1;32m    344\u001b[0m     \u001b[39mreturn\u001b[39;00m \u001b[39mNone\u001b[39;00m\n\u001b[1;32m    345\u001b[0m \u001b[39melse\u001b[39;00m:\n",
      "File \u001b[0;32m~/miniconda3/lib/python3.9/site-packages/rpy2/robjects/vectors.py:728\u001b[0m, in \u001b[0;36mListVector._repr_html_\u001b[0;34m(self, max_items)\u001b[0m\n\u001b[1;32m    726\u001b[0m \u001b[39mfor\u001b[39;00m i \u001b[39min\u001b[39;00m \u001b[39mrange\u001b[39m(\u001b[39m0\u001b[39m, half_items):\n\u001b[1;32m    727\u001b[0m     \u001b[39mtry\u001b[39;00m:\n\u001b[0;32m--> 728\u001b[0m         name \u001b[39m=\u001b[39m (rnames[i]\n\u001b[1;32m    729\u001b[0m                 \u001b[39mif\u001b[39;00m rnames \u001b[39m!=\u001b[39m rinterface\u001b[39m.\u001b[39mNULL \u001b[39melse\u001b[39;00m \u001b[39m'\u001b[39m\u001b[39m[no name]\u001b[39m\u001b[39m'\u001b[39m)\n\u001b[1;32m    730\u001b[0m     \u001b[39mexcept\u001b[39;00m \u001b[39mTypeError\u001b[39;00m:\n\u001b[1;32m    731\u001b[0m         name \u001b[39m=\u001b[39m \u001b[39m'\u001b[39m\u001b[39m[no name]\u001b[39m\u001b[39m'\u001b[39m\n",
      "\u001b[0;31mValueError\u001b[0m: The truth value of an array with more than one element is ambiguous. Use a.any() or a.all()"
     ]
    },
    {
     "data": {
      "text/plain": [
       "<rpy2.robjects.vectors.ListVector object at 0x7f0fd2af5780> [RTYPES.VECSXP]\n",
       "R classes: ('fixest',)\n",
       "[IntSexpVe..., IntSexpVe..., LangSexpV..., LangSexpV..., ..., FloatSexp..., FloatSexp..., FloatSexp..., FloatSexp...]\n",
       "  nobs: <class 'numpy.ndarray'>\n",
       "  array([150], dtype=int32)\n",
       "  nobs_origin: <class 'numpy.ndarray'>\n",
       "  array([150], dtype=int32)\n",
       "  fml: <class 'rpy2.robjects.Formula'>\n",
       "  <rpy2.robjects.Formula object at 0x7f0fd2aad200> [RTYPES.LANGSXP]\n",
       "R classes: ('formula',)\n",
       "  call: <class 'rpy2.robjects.language.LangVector'>\n",
       "  Rlang( feols(fml = sepal_length ~ petal_length + petal_width, data = iris_r) )\n",
       "...\n",
       "  method: <class 'numpy.ndarray'>\n",
       "  array([0.7662613])\n",
       "  method_type: <class 'numpy.ndarray'>\n",
       "  array([102.16833333])\n",
       "  fml_all: <class 'numpy.ndarray'>\n",
       "  array([23.88069367])\n",
       "  nparams: <class 'numpy.ndarray'>\n",
       "  array([-184.03976641])"
      ]
     },
     "execution_count": 125,
     "metadata": {},
     "output_type": "execute_result"
    }
   ],
   "source": [
    "ro.r(\n",
    "'''\n",
    "library(fixest)\n",
    "feols(sepal_length~petal_length+petal_width, iris_r)\n",
    "'''\n",
    ")"
   ]
  },
  {
   "cell_type": "code",
   "execution_count": 116,
   "metadata": {},
   "outputs": [
    {
     "name": "stderr",
     "output_type": "stream",
     "text": [
      "R[write to console]: Error in (function (fml, data, vcov, weights, offset, subset, split, fsplit,  : \n",
      "  The argument 'fml' must be a two-sided formula. Problem: it is not a\n",
      "formula, not a data.frame nor a matrix (instead it is a vector).\n",
      "\n",
      "R[write to console]: In addition: \n",
      "R[write to console]: Warning messages:\n",
      "\n",
      "R[write to console]: 1: \n",
      "R[write to console]: In (function (package, help, pos = 2, lib.loc = NULL, character.only = FALSE,  :\n",
      "R[write to console]: \n",
      " \n",
      "R[write to console]:  library ‘/usr/share/R/library’ contains no packages\n",
      "\n",
      "R[write to console]: 2: \n",
      "R[write to console]: In (function (package, help, pos = 2, lib.loc = NULL, character.only = FALSE,  :\n",
      "R[write to console]: \n",
      " \n",
      "R[write to console]:  library ‘/usr/share/R/library’ contains no packages\n",
      "\n",
      "R[write to console]: 3: \n",
      "R[write to console]: In (function (package, help, pos = 2, lib.loc = NULL, character.only = FALSE,  :\n",
      "R[write to console]: \n",
      " \n",
      "R[write to console]:  library ‘/usr/share/R/library’ contains no packages\n",
      "\n",
      "R[write to console]: 4: \n",
      "R[write to console]: In (function (package, help, pos = 2, lib.loc = NULL, character.only = FALSE,  :\n",
      "R[write to console]: \n",
      " \n",
      "R[write to console]:  library ‘/usr/share/R/library’ contains no packages\n",
      "\n",
      "R[write to console]: 5: \n",
      "R[write to console]: In (function (package, help, pos = 2, lib.loc = NULL, character.only = FALSE,  :\n",
      "R[write to console]: \n",
      " \n",
      "R[write to console]:  library ‘/usr/share/R/library’ contains no packages\n",
      "\n",
      "R[write to console]: 6: \n",
      "R[write to console]: In (function (package, help, pos = 2, lib.loc = NULL, character.only = FALSE,  :\n",
      "R[write to console]: \n",
      " \n",
      "R[write to console]:  library ‘/usr/share/R/library’ contains no packages\n",
      "\n"
     ]
    },
    {
     "ename": "RRuntimeError",
     "evalue": "Error in (function (fml, data, vcov, weights, offset, subset, split, fsplit,  : \n  The argument 'fml' must be a two-sided formula. Problem: it is not a\nformula, not a data.frame nor a matrix (instead it is a vector).\n",
     "output_type": "error",
     "traceback": [
      "\u001b[0;31m---------------------------------------------------------------------------\u001b[0m",
      "\u001b[0;31mRRuntimeError\u001b[0m                             Traceback (most recent call last)",
      "\u001b[1;32m/bbkinghome/mbarrera/git_supply/python_snippets/rpy2/main.ipynb Cell 19\u001b[0m in \u001b[0;36m<cell line: 15>\u001b[0;34m()\u001b[0m\n\u001b[1;32m     <a href='vscode-notebook-cell://ssh-remote%2Bdemand.mit.edu/bbkinghome/mbarrera/git_supply/python_snippets/rpy2/main.ipynb#X34sdnNjb2RlLXJlbW90ZQ%3D%3D?line=11'>12</a>\u001b[0m fixest \u001b[39m=\u001b[39m importr(\u001b[39m\"\u001b[39m\u001b[39mfixest\u001b[39m\u001b[39m\"\u001b[39m)\n\u001b[1;32m     <a href='vscode-notebook-cell://ssh-remote%2Bdemand.mit.edu/bbkinghome/mbarrera/git_supply/python_snippets/rpy2/main.ipynb#X34sdnNjb2RlLXJlbW90ZQ%3D%3D?line=13'>14</a>\u001b[0m \u001b[39m# Run the R code with the iris_df as an argument\u001b[39;00m\n\u001b[0;32m---> <a href='vscode-notebook-cell://ssh-remote%2Bdemand.mit.edu/bbkinghome/mbarrera/git_supply/python_snippets/rpy2/main.ipynb#X34sdnNjb2RlLXJlbW90ZQ%3D%3D?line=14'>15</a>\u001b[0m result \u001b[39m=\u001b[39m fixest\u001b[39m.\u001b[39;49mfeols(\u001b[39m\"\u001b[39;49m\u001b[39msepal_length~sepal_width+petal_length+petal_width|species\u001b[39;49m\u001b[39m\"\u001b[39;49m, iris_df)\n\u001b[1;32m     <a href='vscode-notebook-cell://ssh-remote%2Bdemand.mit.edu/bbkinghome/mbarrera/git_supply/python_snippets/rpy2/main.ipynb#X34sdnNjb2RlLXJlbW90ZQ%3D%3D?line=16'>17</a>\u001b[0m \u001b[39m# Print the result\u001b[39;00m\n\u001b[1;32m     <a href='vscode-notebook-cell://ssh-remote%2Bdemand.mit.edu/bbkinghome/mbarrera/git_supply/python_snippets/rpy2/main.ipynb#X34sdnNjb2RlLXJlbW90ZQ%3D%3D?line=17'>18</a>\u001b[0m \u001b[39mprint\u001b[39m(result)\n",
      "File \u001b[0;32m~/miniconda3/lib/python3.9/site-packages/rpy2/robjects/functions.py:208\u001b[0m, in \u001b[0;36mSignatureTranslatedFunction.__call__\u001b[0;34m(self, *args, **kwargs)\u001b[0m\n\u001b[1;32m    206\u001b[0m         v \u001b[39m=\u001b[39m kwargs\u001b[39m.\u001b[39mpop(k)\n\u001b[1;32m    207\u001b[0m         kwargs[r_k] \u001b[39m=\u001b[39m v\n\u001b[0;32m--> 208\u001b[0m \u001b[39mreturn\u001b[39;00m (\u001b[39msuper\u001b[39;49m(SignatureTranslatedFunction, \u001b[39mself\u001b[39;49m)\n\u001b[1;32m    209\u001b[0m         \u001b[39m.\u001b[39;49m\u001b[39m__call__\u001b[39;49m(\u001b[39m*\u001b[39;49margs, \u001b[39m*\u001b[39;49m\u001b[39m*\u001b[39;49mkwargs))\n",
      "File \u001b[0;32m~/miniconda3/lib/python3.9/site-packages/rpy2/robjects/functions.py:131\u001b[0m, in \u001b[0;36mFunction.__call__\u001b[0;34m(self, *args, **kwargs)\u001b[0m\n\u001b[1;32m    129\u001b[0m     \u001b[39melse\u001b[39;00m:\n\u001b[1;32m    130\u001b[0m         new_kwargs[k] \u001b[39m=\u001b[39m cv\u001b[39m.\u001b[39mpy2rpy(v)\n\u001b[0;32m--> 131\u001b[0m res \u001b[39m=\u001b[39m \u001b[39msuper\u001b[39;49m(Function, \u001b[39mself\u001b[39;49m)\u001b[39m.\u001b[39;49m\u001b[39m__call__\u001b[39;49m(\u001b[39m*\u001b[39;49mnew_args, \u001b[39m*\u001b[39;49m\u001b[39m*\u001b[39;49mnew_kwargs)\n\u001b[1;32m    132\u001b[0m res \u001b[39m=\u001b[39m cv\u001b[39m.\u001b[39mrpy2py(res)\n\u001b[1;32m    133\u001b[0m \u001b[39mreturn\u001b[39;00m res\n",
      "File \u001b[0;32m~/miniconda3/lib/python3.9/site-packages/rpy2/rinterface_lib/conversion.py:45\u001b[0m, in \u001b[0;36m_cdata_res_to_rinterface.<locals>._\u001b[0;34m(*args, **kwargs)\u001b[0m\n\u001b[1;32m     44\u001b[0m \u001b[39mdef\u001b[39;00m \u001b[39m_\u001b[39m(\u001b[39m*\u001b[39margs, \u001b[39m*\u001b[39m\u001b[39m*\u001b[39mkwargs):\n\u001b[0;32m---> 45\u001b[0m     cdata \u001b[39m=\u001b[39m function(\u001b[39m*\u001b[39;49margs, \u001b[39m*\u001b[39;49m\u001b[39m*\u001b[39;49mkwargs)\n\u001b[1;32m     46\u001b[0m     \u001b[39m# TODO: test cdata is of the expected CType\u001b[39;00m\n\u001b[1;32m     47\u001b[0m     \u001b[39mreturn\u001b[39;00m _cdata_to_rinterface(cdata)\n",
      "File \u001b[0;32m~/miniconda3/lib/python3.9/site-packages/rpy2/rinterface.py:817\u001b[0m, in \u001b[0;36mSexpClosure.__call__\u001b[0;34m(self, *args, **kwargs)\u001b[0m\n\u001b[1;32m    810\u001b[0m     res \u001b[39m=\u001b[39m rmemory\u001b[39m.\u001b[39mprotect(\n\u001b[1;32m    811\u001b[0m         openrlib\u001b[39m.\u001b[39mrlib\u001b[39m.\u001b[39mR_tryEval(\n\u001b[1;32m    812\u001b[0m             call_r,\n\u001b[1;32m    813\u001b[0m             call_context\u001b[39m.\u001b[39m__sexp__\u001b[39m.\u001b[39m_cdata,\n\u001b[1;32m    814\u001b[0m             error_occured)\n\u001b[1;32m    815\u001b[0m     )\n\u001b[1;32m    816\u001b[0m     \u001b[39mif\u001b[39;00m error_occured[\u001b[39m0\u001b[39m]:\n\u001b[0;32m--> 817\u001b[0m         \u001b[39mraise\u001b[39;00m embedded\u001b[39m.\u001b[39mRRuntimeError(_rinterface\u001b[39m.\u001b[39m_geterrmessage())\n\u001b[1;32m    818\u001b[0m \u001b[39mreturn\u001b[39;00m res\n",
      "\u001b[0;31mRRuntimeError\u001b[0m: Error in (function (fml, data, vcov, weights, offset, subset, split, fsplit,  : \n  The argument 'fml' must be a two-sided formula. Problem: it is not a\nformula, not a data.frame nor a matrix (instead it is a vector).\n"
     ]
    }
   ],
   "source": [
    "import pandas as pd\n",
    "from rpy2.robjects import pandas2ri\n",
    "from rpy2.robjects.packages import importr\n",
    "\n",
    "# Activate the automatic conversion of pandas data frames to R data frames\n",
    "pandas2ri.activate()\n",
    "\n",
    "# Create a pandas data frame with the iris data\n",
    "iris_df = pd.read_csv(\"https://raw.githubusercontent.com/mwaskom/seaborn-data/master/iris.csv\")\n",
    "\n",
    "# Import R's fixest package\n",
    "fixest = importr(\"fixest\")\n",
    "\n",
    "# Run the R code with the iris_df as an argument\n",
    "result = fixest.feols(\"sepal_length~sepal_width+petal_length+petal_width|species\", iris_df)\n",
    "\n",
    "# Print the result\n",
    "print(result)"
   ]
  },
  {
   "cell_type": "code",
   "execution_count": null,
   "metadata": {},
   "outputs": [],
   "source": []
  }
 ],
 "metadata": {
  "kernelspec": {
   "display_name": "Python 3",
   "language": "python",
   "name": "python3"
  },
  "language_info": {
   "codemirror_mode": {
    "name": "ipython",
    "version": 3
   },
   "file_extension": ".py",
   "mimetype": "text/x-python",
   "name": "python",
   "nbconvert_exporter": "python",
   "pygments_lexer": "ipython3",
   "version": "3.9.10"
  },
  "orig_nbformat": 4
 },
 "nbformat": 4,
 "nbformat_minor": 2
}
