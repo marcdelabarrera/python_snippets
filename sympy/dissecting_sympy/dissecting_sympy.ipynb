{
 "cells": [
  {
   "cell_type": "code",
   "execution_count": 1,
   "metadata": {},
   "outputs": [],
   "source": [
    "import sympy as sym\n",
    "from sympy import Symbol, Eq\n",
    "from inspect import getsource\n"
   ]
  },
  {
   "cell_type": "code",
   "execution_count": 52,
   "metadata": {},
   "outputs": [
    {
     "data": {
      "text/latex": [
       "$\\displaystyle \\operatorname{Expr}\\left(\\mathtt{\\text{x\\_t}}\\right)$"
      ],
      "text/plain": [
       "Expr(x_t)"
      ]
     },
     "execution_count": 52,
     "metadata": {},
     "output_type": "execute_result"
    }
   ],
   "source": [
    "sym.Expr('x_t')"
   ]
  },
  {
   "cell_type": "code",
   "execution_count": 54,
   "metadata": {},
   "outputs": [
    {
     "data": {
      "text/latex": [
       "$\\displaystyle \\operatorname{AtomicExpr}\\left(\\mathtt{\\text{x\\_t}}\\right)$"
      ],
      "text/plain": [
       "AtomicExpr(x_t)"
      ]
     },
     "execution_count": 54,
     "metadata": {},
     "output_type": "execute_result"
    }
   ],
   "source": [
    "sym.AtomicExpr('x_t')"
   ]
  },
  {
   "cell_type": "code",
   "execution_count": 85,
   "metadata": {},
   "outputs": [],
   "source": [
    "sym.init_printing()\n",
    "printer = LatexPrinter()"
   ]
  },
  {
   "cell_type": "code",
   "execution_count": 90,
   "metadata": {},
   "outputs": [
    {
     "data": {
      "text/plain": [
       "'\\\\begin{itex}\\\\mathtt{\\\\text{x\\\\_t}}\\\\end{itex}'"
      ]
     },
     "execution_count": 90,
     "metadata": {},
     "output_type": "execute_result"
    }
   ],
   "source": [
    "printer._settings['mode']='itex'\n",
    "printer.doprint('x_t')"
   ]
  },
  {
   "cell_type": "code",
   "execution_count": 6,
   "metadata": {},
   "outputs": [
    {
     "data": {
      "text/plain": [
       "(sympy.core.symbol.Symbol,\n",
       " sympy.core.expr.AtomicExpr,\n",
       " sympy.core.basic.Atom,\n",
       " sympy.core.expr.Expr,\n",
       " sympy.logic.boolalg.Boolean,\n",
       " sympy.core.basic.Basic,\n",
       " sympy.printing.defaults.Printable,\n",
       " sympy.core.evalf.EvalfMixin,\n",
       " object)"
      ]
     },
     "execution_count": 6,
     "metadata": {},
     "output_type": "execute_result"
    }
   ],
   "source": [
    "import sympy as sym\n",
    "sym.Symbol.__mro__"
   ]
  },
  {
   "cell_type": "code",
   "execution_count": 15,
   "metadata": {},
   "outputs": [],
   "source": [
    "from sympy.core._print_helpers import Printable"
   ]
  },
  {
   "cell_type": "code",
   "execution_count": 27,
   "metadata": {},
   "outputs": [
    {
     "data": {
      "text/latex": [
       "$x_2$"
      ],
      "text/plain": [
       "<IPython.core.display.Latex object>"
      ]
     },
     "metadata": {},
     "output_type": "display_data"
    }
   ],
   "source": [
    "from IPython.display import display, Latex\n",
    "display(Latex(f'$x_{2}$'))"
   ]
  },
  {
   "cell_type": "code",
   "execution_count": 34,
   "metadata": {},
   "outputs": [
    {
     "data": {
      "text/latex": [
       "$x_2$"
      ],
      "text/plain": [
       "<IPython.core.display.Latex object>"
      ]
     },
     "metadata": {},
     "output_type": "display_data"
    },
    {
     "data": {
      "text/plain": []
     },
     "execution_count": 34,
     "metadata": {},
     "output_type": "execute_result"
    }
   ],
   "source": [
    "class A():\n",
    "    def __init__(self):\n",
    "        self.x = 3\n",
    "\n",
    "    def __repr__(self):\n",
    "        display(Latex(f'$x_{2}$'))\n",
    "        return ''\n",
    "A()"
   ]
  },
  {
   "cell_type": "code",
   "execution_count": 7,
   "metadata": {},
   "outputs": [
    {
     "data": {
      "text/latex": [
       "$x_t$"
      ],
      "text/plain": [
       "<IPython.core.display.Latex object>"
      ]
     },
     "metadata": {},
     "output_type": "display_data"
    },
    {
     "data": {
      "text/plain": []
     },
     "execution_count": 7,
     "metadata": {},
     "output_type": "execute_result"
    }
   ],
   "source": [
    "from IPython.display import display, Latex\n",
    "class Variable():\n",
    "    def __init__(self, name):\n",
    "        self.name = name\n",
    "    def __repr__(self):\n",
    "        display(Latex(f'${self.name}$'))\n",
    "        return ''\n",
    "\n",
    "Variable('x_t')"
   ]
  },
  {
   "cell_type": "code",
   "execution_count": 37,
   "metadata": {},
   "outputs": [
    {
     "data": {
      "text/latex": [
       "$x_2$"
      ],
      "text/plain": [
       "<IPython.core.display.Latex object>"
      ]
     },
     "metadata": {},
     "output_type": "display_data"
    },
    {
     "data": {
      "text/plain": []
     },
     "execution_count": 37,
     "metadata": {},
     "output_type": "execute_result"
    }
   ],
   "source": [
    "class A():\n",
    "    def __init__(self):\n",
    "        self.x = 3\n",
    "\n",
    "    def __repr__(self):\n",
    "        display(Latex(f'$x_{2}$'))\n",
    "        return ''\n",
    "A()"
   ]
  },
  {
   "cell_type": "code",
   "execution_count": 1,
   "metadata": {},
   "outputs": [
    {
     "data": {
      "text/latex": [
       "$\\displaystyle x_{2}$"
      ],
      "text/plain": [
       "x_2"
      ]
     },
     "execution_count": 1,
     "metadata": {},
     "output_type": "execute_result"
    }
   ],
   "source": [
    "import sympy as sym\n",
    "sym.Symbol('x_2')"
   ]
  },
  {
   "cell_type": "code",
   "execution_count": 24,
   "metadata": {},
   "outputs": [],
   "source": [
    "Printable._repr_latex_('x_t')"
   ]
  },
  {
   "cell_type": "code",
   "execution_count": 25,
   "metadata": {},
   "outputs": [
    {
     "data": {
      "text/plain": [
       "'x_t'"
      ]
     },
     "execution_count": 25,
     "metadata": {},
     "output_type": "execute_result"
    }
   ],
   "source": [
    "Printable.__str__('x_t')"
   ]
  },
  {
   "cell_type": "code",
   "execution_count": null,
   "metadata": {},
   "outputs": [],
   "source": [
    "Printable.__subclasses__()"
   ]
  },
  {
   "cell_type": "code",
   "execution_count": null,
   "metadata": {},
   "outputs": [],
   "source": [
    "import sympy as sym\n",
    "import inspect\n",
    "inspect.getmembers(sym.Basic)"
   ]
  },
  {
   "cell_type": "code",
   "execution_count": 11,
   "metadata": {},
   "outputs": [
    {
     "ename": "",
     "evalue": "",
     "output_type": "error",
     "traceback": [
      "\u001b[1;31mCanceled future for execute_request message before replies were done"
     ]
    },
    {
     "ename": "",
     "evalue": "",
     "output_type": "error",
     "traceback": [
      "The Kernel crashed while executing code in the the current cell or a previous cell. Please review the code in the cell(s) to identify a possible cause of the failure. Click <a href='https://aka.ms/vscodeJupyterKernelCrash'>here</a> for more info. View Jupyter <a href='command:jupyter.viewOutput'>log</a> for further details."
     ]
    }
   ],
   "source": [
    "from sympy.printing.defaults import Printable\n",
    "import inspect\n",
    "\n"
   ]
  },
  {
   "cell_type": "code",
   "execution_count": 92,
   "metadata": {},
   "outputs": [
    {
     "data": {
      "text/plain": [
       "\"'x_t'\""
      ]
     },
     "execution_count": 92,
     "metadata": {},
     "output_type": "execute_result"
    }
   ],
   "source": [
    "from sympy.printing.python import PythonPrinter\n",
    "\n",
    "PythonPrinter().doprint('x_t')"
   ]
  },
  {
   "cell_type": "code",
   "execution_count": null,
   "metadata": {},
   "outputs": [],
   "source": [
    "from sympy.printing.latex import LatexPrinter\n",
    "\n",
    "all_methods = inspect.getmembers(LatexPrinter)\n",
    "all_methods"
   ]
  },
  {
   "cell_type": "code",
   "execution_count": 79,
   "metadata": {},
   "outputs": [
    {
     "data": {
      "text/plain": [
       "'x_t'"
      ]
     },
     "execution_count": 79,
     "metadata": {},
     "output_type": "execute_result"
    }
   ],
   "source": [
    "Printer()._print('x_t')"
   ]
  },
  {
   "cell_type": "code",
   "execution_count": 75,
   "metadata": {},
   "outputs": [
    {
     "data": {
      "text/plain": [
       "[('__class__', type),\n",
       " ('__delattr__', <slot wrapper '__delattr__' of 'object' objects>),\n",
       " ('__dict__',\n",
       "  mappingproxy({'__module__': 'sympy.printing.printer',\n",
       "                '__doc__': ' Generic printer\\n\\n    Its job is to provide infrastructure for implementing new printers easily.\\n\\n    If you want to define your custom Printer or your custom printing method\\n    for your custom class then see the example above: printer_example_ .\\n    ',\n",
       "                '_global_settings': {},\n",
       "                '_default_settings': {},\n",
       "                'printmethod': None,\n",
       "                '_get_initial_settings': <classmethod at 0x187891f1040>,\n",
       "                '__init__': <function sympy.printing.printer.Printer.__init__(self, settings=None)>,\n",
       "                'set_global_settings': <classmethod at 0x187891f1070>,\n",
       "                'order': <property at 0x18789122ae0>,\n",
       "                'doprint': <function sympy.printing.printer.Printer.doprint(self, expr)>,\n",
       "                '_print': <function sympy.printing.printer.Printer._print(self, expr, **kwargs)>,\n",
       "                'emptyPrinter': <function sympy.printing.printer.Printer.emptyPrinter(self, expr)>,\n",
       "                '_as_ordered_terms': <function sympy.printing.printer.Printer._as_ordered_terms(self, expr, order=None)>,\n",
       "                '__dict__': <attribute '__dict__' of 'Printer' objects>,\n",
       "                '__weakref__': <attribute '__weakref__' of 'Printer' objects>})),\n",
       " ('__dir__', <method '__dir__' of 'object' objects>),\n",
       " ('__doc__',\n",
       "  ' Generic printer\\n\\n    Its job is to provide infrastructure for implementing new printers easily.\\n\\n    If you want to define your custom Printer or your custom printing method\\n    for your custom class then see the example above: printer_example_ .\\n    '),\n",
       " ('__eq__', <slot wrapper '__eq__' of 'object' objects>),\n",
       " ('__format__', <method '__format__' of 'object' objects>),\n",
       " ('__ge__', <slot wrapper '__ge__' of 'object' objects>),\n",
       " ('__getattribute__', <slot wrapper '__getattribute__' of 'object' objects>),\n",
       " ('__gt__', <slot wrapper '__gt__' of 'object' objects>),\n",
       " ('__hash__', <slot wrapper '__hash__' of 'object' objects>),\n",
       " ('__init__',\n",
       "  <function sympy.printing.printer.Printer.__init__(self, settings=None)>),\n",
       " ('__init_subclass__', <function Printer.__init_subclass__>),\n",
       " ('__le__', <slot wrapper '__le__' of 'object' objects>),\n",
       " ('__lt__', <slot wrapper '__lt__' of 'object' objects>),\n",
       " ('__module__', 'sympy.printing.printer'),\n",
       " ('__ne__', <slot wrapper '__ne__' of 'object' objects>),\n",
       " ('__new__', <function object.__new__(*args, **kwargs)>),\n",
       " ('__reduce__', <method '__reduce__' of 'object' objects>),\n",
       " ('__reduce_ex__', <method '__reduce_ex__' of 'object' objects>),\n",
       " ('__repr__', <slot wrapper '__repr__' of 'object' objects>),\n",
       " ('__setattr__', <slot wrapper '__setattr__' of 'object' objects>),\n",
       " ('__sizeof__', <method '__sizeof__' of 'object' objects>),\n",
       " ('__str__', <slot wrapper '__str__' of 'object' objects>),\n",
       " ('__subclasshook__', <function Printer.__subclasshook__>),\n",
       " ('__weakref__', <attribute '__weakref__' of 'Printer' objects>),\n",
       " ('_as_ordered_terms',\n",
       "  <function sympy.printing.printer.Printer._as_ordered_terms(self, expr, order=None)>),\n",
       " ('_default_settings', {}),\n",
       " ('_get_initial_settings',\n",
       "  <bound method Printer._get_initial_settings of <class 'sympy.printing.printer.Printer'>>),\n",
       " ('_global_settings', {}),\n",
       " ('_print',\n",
       "  <function sympy.printing.printer.Printer._print(self, expr, **kwargs)>),\n",
       " ('doprint', <function sympy.printing.printer.Printer.doprint(self, expr)>),\n",
       " ('emptyPrinter',\n",
       "  <function sympy.printing.printer.Printer.emptyPrinter(self, expr)>),\n",
       " ('order', <property at 0x18789122ae0>),\n",
       " ('printmethod', None),\n",
       " ('set_global_settings',\n",
       "  <bound method Printer.set_global_settings of <class 'sympy.printing.printer.Printer'>>)]"
      ]
     },
     "execution_count": 75,
     "metadata": {},
     "output_type": "execute_result"
    }
   ],
   "source": [
    "from sympy.printing.printer import Printer\n",
    "all_methods = inspect.getmembers(Printer)\n",
    "all_methods"
   ]
  },
  {
   "cell_type": "code",
   "execution_count": 77,
   "metadata": {},
   "outputs": [
    {
     "data": {
      "text/plain": [
       "[]"
      ]
     },
     "execution_count": 77,
     "metadata": {},
     "output_type": "execute_result"
    }
   ],
   "source": [
    "import inspect\n",
    "all_methods = inspect.getmembers(sym.Symbol)\n",
    "[i for i in all_methods if 'pri' in i]\n"
   ]
  },
  {
   "cell_type": "code",
   "execution_count": 2,
   "metadata": {},
   "outputs": [
    {
     "data": {
      "text/plain": [
       "<__main__.Parent at 0x18789ab1d60>"
      ]
     },
     "execution_count": 2,
     "metadata": {},
     "output_type": "execute_result"
    }
   ],
   "source": [
    "class Parent():\n",
    "    def __init__(self,a,b):\n",
    "        pass\n",
    "\n",
    "class Children():\n",
    "    def __init__(self,l):\n",
    "        pass\n",
    "Parent(1,2)"
   ]
  },
  {
   "cell_type": "code",
   "execution_count": 3,
   "metadata": {},
   "outputs": [],
   "source": [
    "from sympy import Eq, Symbol\n",
    "class DynamicEquation(Eq):\n",
    "    pass"
   ]
  },
  {
   "cell_type": "code",
   "execution_count": 8,
   "metadata": {},
   "outputs": [],
   "source": [
    "import sympy as sym"
   ]
  },
  {
   "cell_type": "code",
   "execution_count": 21,
   "metadata": {},
   "outputs": [],
   "source": [
    "eq = sym.Eq(sym.Indexed('x','t')+sym.Indexed('y','t'),0)"
   ]
  },
  {
   "cell_type": "code",
   "execution_count": 33,
   "metadata": {},
   "outputs": [
    {
     "data": {
      "text/latex": [
       "$\\displaystyle {x}_{3}$"
      ],
      "text/plain": [
       "x[3]"
      ]
     },
     "execution_count": 33,
     "metadata": {},
     "output_type": "execute_result"
    }
   ],
   "source": [
    "sym.Indexed('x','t').subs({'t':3})"
   ]
  },
  {
   "cell_type": "code",
   "execution_count": null,
   "metadata": {},
   "outputs": [],
   "source": [
    "eq.__dir__()"
   ]
  },
  {
   "cell_type": "code",
   "execution_count": 7,
   "metadata": {},
   "outputs": [
    {
     "data": {
      "text/latex": [
       "$\\displaystyle x = y$"
      ],
      "text/plain": [
       "Eq(x, y)"
      ]
     },
     "execution_count": 7,
     "metadata": {},
     "output_type": "execute_result"
    }
   ],
   "source": [
    "DynamicEquation(Symbol('x'),Symbol('y'))"
   ]
  },
  {
   "cell_type": "code",
   "execution_count": null,
   "metadata": {},
   "outputs": [],
   "source": [
    "from sympy import Eq\n",
    "class Children(Eq):\n",
    "    def __init__(self,l):\n",
    "        pass\n",
    "Children('1')"
   ]
  },
  {
   "cell_type": "code",
   "execution_count": 3,
   "metadata": {},
   "outputs": [
    {
     "data": {
      "text/plain": [
       "<__main__.Children at 0x1a4123a7eb0>"
      ]
     },
     "execution_count": 3,
     "metadata": {},
     "output_type": "execute_result"
    }
   ],
   "source": [
    "Children(['a','b'])"
   ]
  },
  {
   "cell_type": "code",
   "execution_count": 3,
   "metadata": {},
   "outputs": [
    {
     "name": "stdout",
     "output_type": "stream",
     "text": [
      "__new__ from Eq is called\n",
      "<class '__main__.A'> x y\n",
      "__new__ from Eq is called\n",
      "<class '__main__.A'> x y\n"
     ]
    },
    {
     "data": {
      "text/latex": [
       "$\\displaystyle x = y$"
      ],
      "text/plain": [
       "Eq(x, y)"
      ]
     },
     "execution_count": 3,
     "metadata": {},
     "output_type": "execute_result"
    }
   ],
   "source": [
    "from sympy import Symbol, Eq\n",
    "class A(Eq):\n",
    "    def __new__(cls, lhs=None, rhs=None, eq = None,  *args, **kwargs):\n",
    "        eq = utils.split(eq)\n",
    "        lhs = Symbol('x')\n",
    "        rhs = Symbol('y')\n",
    "        return super(A,cls).__new__(cls, lhs=lhs, rhs=rhs, *args, **kwargs)\n",
    "a = A(eq = 'x+y=3')\n",
    "a"
   ]
  },
  {
   "cell_type": "code",
   "execution_count": null,
   "metadata": {},
   "outputs": [],
   "source": [
    "from sympy import Symbol, Eq\n",
    "class A(Eq):\n",
    "    def __new__(cls,eq, *args, **kwargs):\n",
    "        lhs = sym.Symbol('x')\n",
    "        rhs = sym.Symbol('y')\n",
    "        return super(A,cls).__new__(cls, lhs=lhs, rhs=rhs, *args, **kwargs)\n",
    "        #return super(A,cls).__new__(cls, lhs=lhs, rhs=rhs, *args, **kwargs)\n",
    "\n",
    "a = A(eq=4)\n",
    "a"
   ]
  },
  {
   "cell_type": "code",
   "execution_count": 43,
   "metadata": {},
   "outputs": [],
   "source": [
    "\n",
    "class Parent:\n",
    "    def __new__(cls, a, b, **kwargs):\n",
    "        return object.__new__(cls)\n",
    "    #def __init__(self,a,b):\n",
    "    #    self.a = a\n",
    "    #    self.b = b\n",
    "\n",
    "class Children(Parent):\n",
    "    def __new__(cls, l):\n",
    "        a=l[0]\n",
    "        b=l[1]\n",
    "        return super(Children,cls).__new__(cls, a, b)"
   ]
  },
  {
   "cell_type": "code",
   "execution_count": 44,
   "metadata": {},
   "outputs": [],
   "source": [
    "p = Children(['a','b'])\n"
   ]
  },
  {
   "cell_type": "code",
   "execution_count": 45,
   "metadata": {},
   "outputs": [
    {
     "data": {
      "text/plain": [
       "<__main__.Children at 0x1623cf21250>"
      ]
     },
     "execution_count": 45,
     "metadata": {},
     "output_type": "execute_result"
    }
   ],
   "source": [
    "p"
   ]
  },
  {
   "cell_type": "code",
   "execution_count": 19,
   "metadata": {},
   "outputs": [
    {
     "data": {
      "text/latex": [
       "$\\displaystyle x = y$"
      ],
      "text/plain": [
       "Eq(x, y)"
      ]
     },
     "execution_count": 19,
     "metadata": {},
     "output_type": "execute_result"
    }
   ],
   "source": [
    "Eq.__new__(A, 1+Symbol('x'),3)"
   ]
  },
  {
   "cell_type": "code",
   "execution_count": 11,
   "metadata": {},
   "outputs": [],
   "source": [
    "from sympy import Symbol, Eq\n",
    "class A(Eq):\n",
    "    def __new__(cls, lhs, rhs):\n",
    "        return super(A,cls).__new__(cls, lhs=lhs, rhs=rhs)\n"
   ]
  },
  {
   "cell_type": "code",
   "execution_count": null,
   "metadata": {},
   "outputs": [],
   "source": [
    "a = A(sym.Symbol('x'), rhs=sym.Symbol('y'))"
   ]
  },
  {
   "cell_type": "code",
   "execution_count": 8,
   "metadata": {},
   "outputs": [
    {
     "data": {
      "text/plain": [
       "__main__.A"
      ]
     },
     "execution_count": 8,
     "metadata": {},
     "output_type": "execute_result"
    }
   ],
   "source": [
    "type(a)"
   ]
  },
  {
   "cell_type": "code",
   "execution_count": 39,
   "metadata": {},
   "outputs": [
    {
     "data": {
      "text/plain": [
       "<sympy.printing.printer.Printer at 0x1878b48f790>"
      ]
     },
     "execution_count": 39,
     "metadata": {},
     "output_type": "execute_result"
    }
   ],
   "source": [
    "from sympy.printing.printer import Printer\n",
    "Printer()"
   ]
  },
  {
   "cell_type": "code",
   "execution_count": 51,
   "metadata": {},
   "outputs": [
    {
     "data": {
      "text/plain": [
       "[sympy.core.basic.Atom,\n",
       " sympy.core.expr.Expr,\n",
       " sympy.core.operations.AssocOp,\n",
       " sympy.core.containers.Tuple,\n",
       " sympy.core.containers.Dict,\n",
       " Application,\n",
       " sympy.logic.boolalg.Boolean,\n",
       " sympy.polys.polytools.Poly,\n",
       " sympy.polys.polytools.GroebnerBasis,\n",
       " sympy.sets.sets.Set,\n",
       " sympy.sets.ordinals.OmegaPower,\n",
       " sympy.sets.ordinals.Ordinal,\n",
       " sympy.tensor.array.ndim_array.ImmutableNDimArray,\n",
       " sympy.tensor.array.array_comprehension.ArrayComprehension,\n",
       " sympy.series.sequences.SeqBase,\n",
       " sympy.geometry.entity.GeometryEntity,\n",
       " sympy.assumptions.wrapper.AssumptionsWrapper,\n",
       " sympy.combinatorics.prufer.Prufer,\n",
       " sympy.combinatorics.graycode.GrayCode,\n",
       " sympy.combinatorics.partitions.IntegerPartition,\n",
       " sympy.combinatorics.perm_groups.PermutationGroup,\n",
       " sympy.combinatorics.perm_groups.SymmetricPermutationGroup,\n",
       " sympy.combinatorics.perm_groups.Coset,\n",
       " sympy.combinatorics.polyhedron.Polyhedron,\n",
       " sympy.tensor.tensor.TensorIndexType,\n",
       " sympy.tensor.tensor.TensorIndex,\n",
       " sympy.tensor.tensor.TensorSymmetry,\n",
       " sympy.tensor.tensor.TensorType,\n",
       " sympy.tensor.tensor.TensorHead]"
      ]
     },
     "execution_count": 51,
     "metadata": {},
     "output_type": "execute_result"
    }
   ],
   "source": [
    "sym.Basic.__subclasses__()"
   ]
  },
  {
   "cell_type": "code",
   "execution_count": 48,
   "metadata": {},
   "outputs": [
    {
     "data": {
      "text/latex": [
       "$\\displaystyle \\operatorname{Atom}\\left(\\mathtt{\\text{x\\_t}}\\right)$"
      ],
      "text/plain": [
       "Atom(x_t)"
      ]
     },
     "execution_count": 48,
     "metadata": {},
     "output_type": "execute_result"
    }
   ],
   "source": [
    "sym.Atom('x_t')"
   ]
  },
  {
   "cell_type": "code",
   "execution_count": 50,
   "metadata": {},
   "outputs": [
    {
     "data": {
      "text/plain": [
       "[sympy.core.expr.AtomicExpr,\n",
       " sympy.core.symbol.Str,\n",
       " sympy.combinatorics.permutations.Permutation]"
      ]
     },
     "execution_count": 50,
     "metadata": {},
     "output_type": "execute_result"
    }
   ],
   "source": [
    "sym.Atom.__subclasses__()"
   ]
  },
  {
   "cell_type": "code",
   "execution_count": 42,
   "metadata": {},
   "outputs": [
    {
     "ename": "ValueError",
     "evalue": "dictionary update sequence element #0 has length 1; 2 is required",
     "output_type": "error",
     "traceback": [
      "\u001b[1;31m---------------------------------------------------------------------------\u001b[0m",
      "\u001b[1;31mValueError\u001b[0m                                Traceback (most recent call last)",
      "\u001b[1;32mc:\\Users\\MBBar\\OneDrive\\Escritorio\\git_local\\python_tutorial\\dissecting_sympy\\dissecting_sympy.ipynb Cell 21\u001b[0m in \u001b[0;36m<cell line: 3>\u001b[1;34m()\u001b[0m\n\u001b[0;32m      <a href='vscode-notebook-cell:/c%3A/Users/MBBar/OneDrive/Escritorio/git_local/python_tutorial/dissecting_sympy/dissecting_sympy.ipynb#Y120sZmlsZQ%3D%3D?line=0'>1</a>\u001b[0m \u001b[39mfrom\u001b[39;00m \u001b[39msympy\u001b[39;00m\u001b[39m.\u001b[39;00m\u001b[39mprinting\u001b[39;00m\u001b[39m.\u001b[39;00m\u001b[39mlatex\u001b[39;00m \u001b[39mimport\u001b[39;00m LatexPrinter\n\u001b[1;32m----> <a href='vscode-notebook-cell:/c%3A/Users/MBBar/OneDrive/Escritorio/git_local/python_tutorial/dissecting_sympy/dissecting_sympy.ipynb#Y120sZmlsZQ%3D%3D?line=2'>3</a>\u001b[0m LatexPrinter(\u001b[39m'\u001b[39;49m\u001b[39mx_t\u001b[39;49m\u001b[39m'\u001b[39;49m)\n",
      "File \u001b[1;32mc:\\Users\\MBBar\\OneDrive\\Escritorio\\git_local\\python_tutorial\\dissecting_sympy\\venv\\lib\\site-packages\\sympy\\printing\\latex.py:167\u001b[0m, in \u001b[0;36mLatexPrinter.__init__\u001b[1;34m(self, settings)\u001b[0m\n\u001b[0;32m    166\u001b[0m \u001b[39mdef\u001b[39;00m \u001b[39m__init__\u001b[39m(\u001b[39mself\u001b[39m, settings\u001b[39m=\u001b[39m\u001b[39mNone\u001b[39;00m):\n\u001b[1;32m--> 167\u001b[0m     Printer\u001b[39m.\u001b[39;49m\u001b[39m__init__\u001b[39;49m(\u001b[39mself\u001b[39;49m, settings)\n\u001b[0;32m    169\u001b[0m     \u001b[39mif\u001b[39;00m \u001b[39m'\u001b[39m\u001b[39mmode\u001b[39m\u001b[39m'\u001b[39m \u001b[39min\u001b[39;00m \u001b[39mself\u001b[39m\u001b[39m.\u001b[39m_settings:\n\u001b[0;32m    170\u001b[0m         valid_modes \u001b[39m=\u001b[39m [\u001b[39m'\u001b[39m\u001b[39minline\u001b[39m\u001b[39m'\u001b[39m, \u001b[39m'\u001b[39m\u001b[39mplain\u001b[39m\u001b[39m'\u001b[39m, \u001b[39m'\u001b[39m\u001b[39mequation\u001b[39m\u001b[39m'\u001b[39m,\n\u001b[0;32m    171\u001b[0m                        \u001b[39m'\u001b[39m\u001b[39mequation*\u001b[39m\u001b[39m'\u001b[39m]\n",
      "File \u001b[1;32mc:\\Users\\MBBar\\OneDrive\\Escritorio\\git_local\\python_tutorial\\dissecting_sympy\\venv\\lib\\site-packages\\sympy\\printing\\printer.py:265\u001b[0m, in \u001b[0;36mPrinter.__init__\u001b[1;34m(self, settings)\u001b[0m\n\u001b[0;32m    262\u001b[0m \u001b[39mself\u001b[39m\u001b[39m.\u001b[39m_context \u001b[39m=\u001b[39m \u001b[39mdict\u001b[39m()  \u001b[39m# mutable during printing\u001b[39;00m\n\u001b[0;32m    264\u001b[0m \u001b[39mif\u001b[39;00m settings \u001b[39mis\u001b[39;00m \u001b[39mnot\u001b[39;00m \u001b[39mNone\u001b[39;00m:\n\u001b[1;32m--> 265\u001b[0m     \u001b[39mself\u001b[39;49m\u001b[39m.\u001b[39;49m_settings\u001b[39m.\u001b[39;49mupdate(settings)\n\u001b[0;32m    267\u001b[0m     \u001b[39mif\u001b[39;00m \u001b[39mlen\u001b[39m(\u001b[39mself\u001b[39m\u001b[39m.\u001b[39m_settings) \u001b[39m>\u001b[39m \u001b[39mlen\u001b[39m(\u001b[39mself\u001b[39m\u001b[39m.\u001b[39m_default_settings):\n\u001b[0;32m    268\u001b[0m         \u001b[39mfor\u001b[39;00m key \u001b[39min\u001b[39;00m \u001b[39mself\u001b[39m\u001b[39m.\u001b[39m_settings:\n",
      "\u001b[1;31mValueError\u001b[0m: dictionary update sequence element #0 has length 1; 2 is required"
     ]
    }
   ],
   "source": [
    "from sympy.printing.latex import LatexPrinter\n",
    "\n",
    "LatexPrinter('x_t')"
   ]
  },
  {
   "cell_type": "code",
   "execution_count": 14,
   "metadata": {},
   "outputs": [
    {
     "name": "stdout",
     "output_type": "stream",
     "text": [
      "<class 'sympy.core.relational.Equality'>\n",
      "x y {}\n"
     ]
    },
    {
     "data": {
      "text/latex": [
       "$\\displaystyle x = y$"
      ],
      "text/plain": [
       "Eq(x, y)"
      ]
     },
     "execution_count": 14,
     "metadata": {},
     "output_type": "execute_result"
    }
   ],
   "source": [
    "Eq.__new__(sym.Eq, lhs=sym.Symbol('x'),rhs=sym.Symbol('y'))"
   ]
  },
  {
   "cell_type": "code",
   "execution_count": 2,
   "metadata": {},
   "outputs": [
    {
     "name": "stdout",
     "output_type": "stream",
     "text": [
      "<class 'sympy.core.relational.Equality'>\n",
      "1 x + 2 {}\n"
     ]
    },
    {
     "data": {
      "text/latex": [
       "$\\displaystyle 1 = x + 2$"
      ],
      "text/plain": [
       "Eq(1, x + 2)"
      ]
     },
     "execution_count": 2,
     "metadata": {},
     "output_type": "execute_result"
    }
   ],
   "source": [
    "sym.Eq(1,sym.Symbol('x')+2)"
   ]
  },
  {
   "cell_type": "code",
   "execution_count": 3,
   "metadata": {},
   "outputs": [
    {
     "name": "stdout",
     "output_type": "stream",
     "text": [
      "<class 'sympy.core.relational.Relational'>\n",
      "<class 'sympy.core.relational.Equality'>\n",
      "x 2 {}\n"
     ]
    },
    {
     "data": {
      "text/latex": [
       "$\\displaystyle x = 2$"
      ],
      "text/plain": [
       "Eq(x, 2)"
      ]
     },
     "execution_count": 3,
     "metadata": {},
     "output_type": "execute_result"
    }
   ],
   "source": [
    "x = sym.Symbol('x')\n",
    "sym.Rel(x,2)"
   ]
  },
  {
   "cell_type": "code",
   "execution_count": null,
   "metadata": {},
   "outputs": [],
   "source": [
    "sym.Basic.__subclasses__()"
   ]
  },
  {
   "cell_type": "code",
   "execution_count": 7,
   "metadata": {},
   "outputs": [
    {
     "data": {
      "text/latex": [
       "$\\displaystyle x = 2$"
      ],
      "text/plain": [
       "Eq(x, 2)"
      ]
     },
     "execution_count": 7,
     "metadata": {},
     "output_type": "execute_result"
    }
   ],
   "source": [
    "sym.Basic.__new__(sym.Eq,x,2)"
   ]
  },
  {
   "cell_type": "code",
   "execution_count": 6,
   "metadata": {},
   "outputs": [
    {
     "name": "stdout",
     "output_type": "stream",
     "text": [
      "<class 'sympy.core.relational.Equality'>\n"
     ]
    },
    {
     "data": {
      "text/latex": [
       "$\\displaystyle x = 2$"
      ],
      "text/plain": [
       "Eq(x, 2)"
      ]
     },
     "execution_count": 6,
     "metadata": {},
     "output_type": "execute_result"
    }
   ],
   "source": [
    "sym.Eq(x,2)"
   ]
  },
  {
   "cell_type": "code",
   "execution_count": 5,
   "metadata": {},
   "outputs": [
    {
     "name": "stdout",
     "output_type": "stream",
     "text": [
      "class Equality(Relational):\n",
      "    \"\"\"\n",
      "    An equal relation between two objects.\n",
      "\n",
      "    Explanation\n",
      "    ===========\n",
      "\n",
      "    Represents that two objects are equal.  If they can be easily shown\n",
      "    to be definitively equal (or unequal), this will reduce to True (or\n",
      "    False).  Otherwise, the relation is maintained as an unevaluated\n",
      "    Equality object.  Use the ``simplify`` function on this object for\n",
      "    more nontrivial evaluation of the equality relation.\n",
      "\n",
      "    As usual, the keyword argument ``evaluate=False`` can be used to\n",
      "    prevent any evaluation.\n",
      "\n",
      "    Examples\n",
      "    ========\n",
      "\n",
      "    >>> from sympy import Eq, simplify, exp, cos\n",
      "    >>> from sympy.abc import x, y\n",
      "    >>> Eq(y, x + x**2)\n",
      "    Eq(y, x**2 + x)\n",
      "    >>> Eq(2, 5)\n",
      "    False\n",
      "    >>> Eq(2, 5, evaluate=False)\n",
      "    Eq(2, 5)\n",
      "    >>> _.doit()\n",
      "    False\n",
      "    >>> Eq(exp(x), exp(x).rewrite(cos))\n",
      "    Eq(exp(x), sinh(x) + cosh(x))\n",
      "    >>> simplify(_)\n",
      "    True\n",
      "\n",
      "    See Also\n",
      "    ========\n",
      "\n",
      "    sympy.logic.boolalg.Equivalent : for representing equality between two\n",
      "        boolean expressions\n",
      "\n",
      "    Notes\n",
      "    =====\n",
      "\n",
      "    Python treats 1 and True (and 0 and False) as being equal; SymPy\n",
      "    does not. And integer will always compare as unequal to a Boolean:\n",
      "\n",
      "    >>> Eq(True, 1), True == 1\n",
      "    (False, True)\n",
      "\n",
      "    This class is not the same as the == operator.  The == operator tests\n",
      "    for exact structural equality between two expressions; this class\n",
      "    compares expressions mathematically.\n",
      "\n",
      "    If either object defines an ``_eval_Eq`` method, it can be used in place of\n",
      "    the default algorithm.  If ``lhs._eval_Eq(rhs)`` or ``rhs._eval_Eq(lhs)``\n",
      "    returns anything other than None, that return value will be substituted for\n",
      "    the Equality.  If None is returned by ``_eval_Eq``, an Equality object will\n",
      "    be created as usual.\n",
      "\n",
      "    Since this object is already an expression, it does not respond to\n",
      "    the method ``as_expr`` if one tries to create `x - y` from ``Eq(x, y)``.\n",
      "    This can be done with the ``rewrite(Add)`` method.\n",
      "\n",
      "    .. deprecated:: 1.5\n",
      "\n",
      "       ``Eq(expr)`` with a single argument is a shorthand for ``Eq(expr, 0)``,\n",
      "       but this behavior is deprecated and will be removed in a future version\n",
      "       of SymPy.\n",
      "\n",
      "    \"\"\"\n",
      "    rel_op = '=='\n",
      "\n",
      "    __slots__ = ()\n",
      "\n",
      "    is_Equality = True\n",
      "\n",
      "    def __new__(cls, lhs, rhs=None, **options):\n",
      "        if rhs is None:\n",
      "            sympy_deprecation_warning(\n",
      "                \"\"\"\n",
      "                Eq(expr) with a single argument with the right-hand side\n",
      "                defaulting to 0 is deprecated. Use Eq(expr, 0) instead.\n",
      "                \"\"\",\n",
      "                deprecated_since_version=\"1.5\",\n",
      "                active_deprecations_target=\"deprecated-eq-expr\",\n",
      "            )\n",
      "            rhs = 0\n",
      "        evaluate = options.pop('evaluate', global_parameters.evaluate)\n",
      "        lhs = _sympify(lhs)\n",
      "        rhs = _sympify(rhs)\n",
      "        if evaluate:\n",
      "            val = is_eq(lhs, rhs)\n",
      "            if val is None:\n",
      "                return cls(lhs, rhs, evaluate=False)\n",
      "            else:\n",
      "                return _sympify(val)\n",
      "\n",
      "        return Relational.__new__(cls, lhs, rhs)\n",
      "\n",
      "    @classmethod\n",
      "    def _eval_relation(cls, lhs, rhs):\n",
      "        return _sympify(lhs == rhs)\n",
      "\n",
      "    def _eval_rewrite_as_Add(self, *args, **kwargs):\n",
      "        \"\"\"\n",
      "        return Eq(L, R) as L - R. To control the evaluation of\n",
      "        the result set pass `evaluate=True` to give L - R;\n",
      "        if `evaluate=None` then terms in L and R will not cancel\n",
      "        but they will be listed in canonical order; otherwise\n",
      "        non-canonical args will be returned. If one side is 0, the\n",
      "        non-zero side will be returned.\n",
      "\n",
      "        Examples\n",
      "        ========\n",
      "\n",
      "        >>> from sympy import Eq, Add\n",
      "        >>> from sympy.abc import b, x\n",
      "        >>> eq = Eq(x + b, x - b)\n",
      "        >>> eq.rewrite(Add)\n",
      "        2*b\n",
      "        >>> eq.rewrite(Add, evaluate=None).args\n",
      "        (b, b, x, -x)\n",
      "        >>> eq.rewrite(Add, evaluate=False).args\n",
      "        (b, x, b, -x)\n",
      "        \"\"\"\n",
      "        from .add import _unevaluated_Add, Add\n",
      "        L, R = args\n",
      "        if L == 0:\n",
      "            return R\n",
      "        if R == 0:\n",
      "            return L\n",
      "        evaluate = kwargs.get('evaluate', True)\n",
      "        if evaluate:\n",
      "            # allow cancellation of args\n",
      "            return L - R\n",
      "        args = Add.make_args(L) + Add.make_args(-R)\n",
      "        if evaluate is None:\n",
      "            # no cancellation, but canonical\n",
      "            return _unevaluated_Add(*args)\n",
      "        # no cancellation, not canonical\n",
      "        return Add._from_args(args)\n",
      "\n",
      "    @property\n",
      "    def binary_symbols(self):\n",
      "        if S.true in self.args or S.false in self.args:\n",
      "            if self.lhs.is_Symbol:\n",
      "                return {self.lhs}\n",
      "            elif self.rhs.is_Symbol:\n",
      "                return {self.rhs}\n",
      "        return set()\n",
      "\n",
      "    def _eval_simplify(self, **kwargs):\n",
      "        # standard simplify\n",
      "        e = super()._eval_simplify(**kwargs)\n",
      "        if not isinstance(e, Equality):\n",
      "            return e\n",
      "        from .expr import Expr\n",
      "        if not isinstance(e.lhs, Expr) or not isinstance(e.rhs, Expr):\n",
      "            return e\n",
      "        free = self.free_symbols\n",
      "        if len(free) == 1:\n",
      "            try:\n",
      "                from .add import Add\n",
      "                from sympy.solvers.solveset import linear_coeffs\n",
      "                x = free.pop()\n",
      "                m, b = linear_coeffs(\n",
      "                    e.rewrite(Add, evaluate=False), x)\n",
      "                if m.is_zero is False:\n",
      "                    enew = e.func(x, -b / m)\n",
      "                else:\n",
      "                    enew = e.func(m * x, -b)\n",
      "                measure = kwargs['measure']\n",
      "                if measure(enew) <= kwargs['ratio'] * measure(e):\n",
      "                    e = enew\n",
      "            except ValueError:\n",
      "                pass\n",
      "        return e.canonical\n",
      "\n",
      "    def integrate(self, *args, **kwargs):\n",
      "        \"\"\"See the integrate function in sympy.integrals\"\"\"\n",
      "        from sympy.integrals.integrals import integrate\n",
      "        return integrate(self, *args, **kwargs)\n",
      "\n",
      "    def as_poly(self, *gens, **kwargs):\n",
      "        '''Returns lhs-rhs as a Poly\n",
      "\n",
      "        Examples\n",
      "        ========\n",
      "\n",
      "        >>> from sympy import Eq\n",
      "        >>> from sympy.abc import x\n",
      "        >>> Eq(x**2, 1).as_poly(x)\n",
      "        Poly(x**2 - 1, x, domain='ZZ')\n",
      "        '''\n",
      "        return (self.lhs - self.rhs).as_poly(*gens, **kwargs)\n",
      "\n"
     ]
    }
   ],
   "source": [
    "print(getsource(sym.Eq))"
   ]
  },
  {
   "cell_type": "code",
   "execution_count": 80,
   "metadata": {},
   "outputs": [
    {
     "data": {
      "text/plain": [
       "(sympy.tensor.indexed.Indexed,\n",
       " sympy.core.expr.Expr,\n",
       " sympy.core.basic.Basic,\n",
       " sympy.printing.defaults.Printable,\n",
       " sympy.core.evalf.EvalfMixin,\n",
       " object)"
      ]
     },
     "execution_count": 80,
     "metadata": {},
     "output_type": "execute_result"
    }
   ],
   "source": [
    "sym.Indexed.__mro__"
   ]
  },
  {
   "cell_type": "code",
   "execution_count": 84,
   "metadata": {},
   "outputs": [
    {
     "data": {
      "text/latex": [
       "$\\displaystyle {A}_{i,j,t}$"
      ],
      "text/plain": [
       "A[i, j, t]"
      ]
     },
     "execution_count": 84,
     "metadata": {},
     "output_type": "execute_result"
    }
   ],
   "source": [
    "sym.Indexed('A','i','j','t')"
   ]
  },
  {
   "cell_type": "code",
   "execution_count": 116,
   "metadata": {},
   "outputs": [
    {
     "name": "stdout",
     "output_type": "stream",
     "text": [
      "class Indexed(Expr):\n",
      "    \"\"\"Represents a mathematical object with indices.\n",
      "\n",
      "    >>> from sympy import Indexed, IndexedBase, Idx, symbols\n",
      "    >>> i, j = symbols('i j', cls=Idx)\n",
      "    >>> Indexed('A', i, j)\n",
      "    A[i, j]\n",
      "\n",
      "    It is recommended that ``Indexed`` objects be created by indexing ``IndexedBase``:\n",
      "    ``IndexedBase('A')[i, j]`` instead of ``Indexed(IndexedBase('A'), i, j)``.\n",
      "\n",
      "    >>> A = IndexedBase('A')\n",
      "    >>> a_ij = A[i, j]           # Prefer this,\n",
      "    >>> b_ij = Indexed(A, i, j)  # over this.\n",
      "    >>> a_ij == b_ij\n",
      "    True\n",
      "\n",
      "    \"\"\"\n",
      "    is_commutative = True\n",
      "    is_Indexed = True\n",
      "    is_symbol = True\n",
      "    is_Atom = True\n",
      "\n",
      "    def __new__(cls, base, *args, **kw_args):\n",
      "        from sympy.utilities.misc import filldedent\n",
      "        from sympy.tensor.array.ndim_array import NDimArray\n",
      "        from sympy.matrices.matrices import MatrixBase\n",
      "\n",
      "        if not args:\n",
      "            raise IndexException(\"Indexed needs at least one index.\")\n",
      "        if isinstance(base, (str, Symbol)):\n",
      "            base = IndexedBase(base)\n",
      "        elif not hasattr(base, '__getitem__') and not isinstance(base, IndexedBase):\n",
      "            raise TypeError(filldedent(\"\"\"\n",
      "                The base can only be replaced with a string, Symbol,\n",
      "                IndexedBase or an object with a method for getting\n",
      "                items (i.e. an object with a `__getitem__` method).\n",
      "                \"\"\"))\n",
      "        args = list(map(sympify, args))\n",
      "        if isinstance(base, (NDimArray, Iterable, Tuple, MatrixBase)) and all([i.is_number for i in args]):\n",
      "            if len(args) == 1:\n",
      "                return base[args[0]]\n",
      "            else:\n",
      "                return base[args]\n",
      "\n",
      "        obj = Expr.__new__(cls, base, *args, **kw_args)\n",
      "\n",
      "        try:\n",
      "            IndexedBase._set_assumptions(obj, base.assumptions0)\n",
      "        except AttributeError:\n",
      "            IndexedBase._set_assumptions(obj, {})\n",
      "        return obj\n",
      "\n",
      "    def _hashable_content(self):\n",
      "        return super()._hashable_content() + tuple(sorted(self.assumptions0.items()))\n",
      "\n",
      "    @property\n",
      "    def name(self):\n",
      "        return str(self)\n",
      "\n",
      "    @property\n",
      "    def _diff_wrt(self):\n",
      "        \"\"\"Allow derivatives with respect to an ``Indexed`` object.\"\"\"\n",
      "        return True\n",
      "\n",
      "    def _eval_derivative(self, wrt):\n",
      "        from sympy.tensor.array.ndim_array import NDimArray\n",
      "\n",
      "        if isinstance(wrt, Indexed) and wrt.base == self.base:\n",
      "            if len(self.indices) != len(wrt.indices):\n",
      "                msg = \"Different # of indices: d({!s})/d({!s})\".format(self,\n",
      "                                                                       wrt)\n",
      "                raise IndexException(msg)\n",
      "            result = S.One\n",
      "            for index1, index2 in zip(self.indices, wrt.indices):\n",
      "                result *= KroneckerDelta(index1, index2)\n",
      "            return result\n",
      "        elif isinstance(self.base, NDimArray):\n",
      "            from sympy.tensor.array import derive_by_array\n",
      "            return Indexed(derive_by_array(self.base, wrt), *self.args[1:])\n",
      "        else:\n",
      "            if Tuple(self.indices).has(wrt):\n",
      "                return S.NaN\n",
      "            return S.Zero\n",
      "\n",
      "    @property\n",
      "    def assumptions0(self):\n",
      "        return {k: v for k, v in self._assumptions.items() if v is not None}\n",
      "\n",
      "    @property\n",
      "    def base(self):\n",
      "        \"\"\"Returns the ``IndexedBase`` of the ``Indexed`` object.\n",
      "\n",
      "        Examples\n",
      "        ========\n",
      "\n",
      "        >>> from sympy import Indexed, IndexedBase, Idx, symbols\n",
      "        >>> i, j = symbols('i j', cls=Idx)\n",
      "        >>> Indexed('A', i, j).base\n",
      "        A\n",
      "        >>> B = IndexedBase('B')\n",
      "        >>> B == B[i, j].base\n",
      "        True\n",
      "\n",
      "        \"\"\"\n",
      "        return self.args[0]\n",
      "\n",
      "    @property\n",
      "    def indices(self):\n",
      "        \"\"\"\n",
      "        Returns the indices of the ``Indexed`` object.\n",
      "\n",
      "        Examples\n",
      "        ========\n",
      "\n",
      "        >>> from sympy import Indexed, Idx, symbols\n",
      "        >>> i, j = symbols('i j', cls=Idx)\n",
      "        >>> Indexed('A', i, j).indices\n",
      "        (i, j)\n",
      "\n",
      "        \"\"\"\n",
      "        return self.args[1:]\n",
      "\n",
      "    @property\n",
      "    def rank(self):\n",
      "        \"\"\"\n",
      "        Returns the rank of the ``Indexed`` object.\n",
      "\n",
      "        Examples\n",
      "        ========\n",
      "\n",
      "        >>> from sympy import Indexed, Idx, symbols\n",
      "        >>> i, j, k, l, m = symbols('i:m', cls=Idx)\n",
      "        >>> Indexed('A', i, j).rank\n",
      "        2\n",
      "        >>> q = Indexed('A', i, j, k, l, m)\n",
      "        >>> q.rank\n",
      "        5\n",
      "        >>> q.rank == len(q.indices)\n",
      "        True\n",
      "\n",
      "        \"\"\"\n",
      "        return len(self.args) - 1\n",
      "\n",
      "    @property\n",
      "    def shape(self):\n",
      "        \"\"\"Returns a list with dimensions of each index.\n",
      "\n",
      "        Dimensions is a property of the array, not of the indices.  Still, if\n",
      "        the ``IndexedBase`` does not define a shape attribute, it is assumed\n",
      "        that the ranges of the indices correspond to the shape of the array.\n",
      "\n",
      "        >>> from sympy import IndexedBase, Idx, symbols\n",
      "        >>> n, m = symbols('n m', integer=True)\n",
      "        >>> i = Idx('i', m)\n",
      "        >>> j = Idx('j', m)\n",
      "        >>> A = IndexedBase('A', shape=(n, n))\n",
      "        >>> B = IndexedBase('B')\n",
      "        >>> A[i, j].shape\n",
      "        (n, n)\n",
      "        >>> B[i, j].shape\n",
      "        (m, m)\n",
      "        \"\"\"\n",
      "        from sympy.utilities.misc import filldedent\n",
      "\n",
      "        if self.base.shape:\n",
      "            return self.base.shape\n",
      "        sizes = []\n",
      "        for i in self.indices:\n",
      "            upper = getattr(i, 'upper', None)\n",
      "            lower = getattr(i, 'lower', None)\n",
      "            if None in (upper, lower):\n",
      "                raise IndexException(filldedent(\"\"\"\n",
      "                    Range is not defined for all indices in: %s\"\"\" % self))\n",
      "            try:\n",
      "                size = upper - lower + 1\n",
      "            except TypeError:\n",
      "                raise IndexException(filldedent(\"\"\"\n",
      "                    Shape cannot be inferred from Idx with\n",
      "                    undefined range: %s\"\"\" % self))\n",
      "            sizes.append(size)\n",
      "        return Tuple(*sizes)\n",
      "\n",
      "    @property\n",
      "    def ranges(self):\n",
      "        \"\"\"Returns a list of tuples with lower and upper range of each index.\n",
      "\n",
      "        If an index does not define the data members upper and lower, the\n",
      "        corresponding slot in the list contains ``None`` instead of a tuple.\n",
      "\n",
      "        Examples\n",
      "        ========\n",
      "\n",
      "        >>> from sympy import Indexed,Idx, symbols\n",
      "        >>> Indexed('A', Idx('i', 2), Idx('j', 4), Idx('k', 8)).ranges\n",
      "        [(0, 1), (0, 3), (0, 7)]\n",
      "        >>> Indexed('A', Idx('i', 3), Idx('j', 3), Idx('k', 3)).ranges\n",
      "        [(0, 2), (0, 2), (0, 2)]\n",
      "        >>> x, y, z = symbols('x y z', integer=True)\n",
      "        >>> Indexed('A', x, y, z).ranges\n",
      "        [None, None, None]\n",
      "\n",
      "        \"\"\"\n",
      "        ranges = []\n",
      "        for i in self.indices:\n",
      "            sentinel = object()\n",
      "            upper = getattr(i, 'upper', sentinel)\n",
      "            lower = getattr(i, 'lower', sentinel)\n",
      "            if sentinel not in (upper, lower):\n",
      "                ranges.append(Tuple(lower, upper))\n",
      "            else:\n",
      "                ranges.append(None)\n",
      "        return ranges\n",
      "\n",
      "    def _sympystr(self, p):\n",
      "        indices = list(map(p.doprint, self.indices))\n",
      "        return \"%s[%s]\" % (p.doprint(self.base), \", \".join(indices))\n",
      "\n",
      "    @property\n",
      "    def free_symbols(self):\n",
      "        base_free_symbols = self.base.free_symbols\n",
      "        indices_free_symbols = {\n",
      "            fs for i in self.indices for fs in i.free_symbols}\n",
      "        if base_free_symbols:\n",
      "            return {self} | base_free_symbols | indices_free_symbols\n",
      "        else:\n",
      "            return indices_free_symbols\n",
      "\n",
      "    @property\n",
      "    def expr_free_symbols(self):\n",
      "        from sympy.utilities.exceptions import SymPyDeprecationWarning\n",
      "        SymPyDeprecationWarning(feature=\"expr_free_symbols method\",\n",
      "                                issue=21494,\n",
      "                                deprecated_since_version=\"1.9\").warn()\n",
      "        return {self}\n",
      "\n"
     ]
    }
   ],
   "source": [
    "print(getsource(sym.Indexed))"
   ]
  },
  {
   "cell_type": "code",
   "execution_count": 117,
   "metadata": {},
   "outputs": [
    {
     "name": "stdout",
     "output_type": "stream",
     "text": [
      "class Idx(Expr):\n",
      "    \"\"\"Represents an integer index as an ``Integer`` or integer expression.\n",
      "\n",
      "    There are a number of ways to create an ``Idx`` object.  The constructor\n",
      "    takes two arguments:\n",
      "\n",
      "    ``label``\n",
      "        An integer or a symbol that labels the index.\n",
      "    ``range``\n",
      "        Optionally you can specify a range as either\n",
      "\n",
      "        * ``Symbol`` or integer: This is interpreted as a dimension. Lower and\n",
      "          upper bounds are set to ``0`` and ``range - 1``, respectively.\n",
      "        * ``tuple``: The two elements are interpreted as the lower and upper\n",
      "          bounds of the range, respectively.\n",
      "\n",
      "    Note: bounds of the range are assumed to be either integer or infinite (oo\n",
      "    and -oo are allowed to specify an unbounded range). If ``n`` is given as a\n",
      "    bound, then ``n.is_integer`` must not return false.\n",
      "\n",
      "    For convenience, if the label is given as a string it is automatically\n",
      "    converted to an integer symbol.  (Note: this conversion is not done for\n",
      "    range or dimension arguments.)\n",
      "\n",
      "    Examples\n",
      "    ========\n",
      "\n",
      "    >>> from sympy import Idx, symbols, oo\n",
      "    >>> n, i, L, U = symbols('n i L U', integer=True)\n",
      "\n",
      "    If a string is given for the label an integer ``Symbol`` is created and the\n",
      "    bounds are both ``None``:\n",
      "\n",
      "    >>> idx = Idx('qwerty'); idx\n",
      "    qwerty\n",
      "    >>> idx.lower, idx.upper\n",
      "    (None, None)\n",
      "\n",
      "    Both upper and lower bounds can be specified:\n",
      "\n",
      "    >>> idx = Idx(i, (L, U)); idx\n",
      "    i\n",
      "    >>> idx.lower, idx.upper\n",
      "    (L, U)\n",
      "\n",
      "    When only a single bound is given it is interpreted as the dimension\n",
      "    and the lower bound defaults to 0:\n",
      "\n",
      "    >>> idx = Idx(i, n); idx.lower, idx.upper\n",
      "    (0, n - 1)\n",
      "    >>> idx = Idx(i, 4); idx.lower, idx.upper\n",
      "    (0, 3)\n",
      "    >>> idx = Idx(i, oo); idx.lower, idx.upper\n",
      "    (0, oo)\n",
      "\n",
      "    \"\"\"\n",
      "\n",
      "    is_integer = True\n",
      "    is_finite = True\n",
      "    is_real = True\n",
      "    is_symbol = True\n",
      "    is_Atom = True\n",
      "    _diff_wrt = True\n",
      "\n",
      "    def __new__(cls, label, range=None, **kw_args):\n",
      "        from sympy.utilities.misc import filldedent\n",
      "\n",
      "        if isinstance(label, str):\n",
      "            label = Symbol(label, integer=True)\n",
      "        label, range = list(map(sympify, (label, range)))\n",
      "\n",
      "        if label.is_Number:\n",
      "            if not label.is_integer:\n",
      "                raise TypeError(\"Index is not an integer number.\")\n",
      "            return label\n",
      "\n",
      "        if not label.is_integer:\n",
      "            raise TypeError(\"Idx object requires an integer label.\")\n",
      "\n",
      "        elif is_sequence(range):\n",
      "            if len(range) != 2:\n",
      "                raise ValueError(filldedent(\"\"\"\n",
      "                    Idx range tuple must have length 2, but got %s\"\"\" % len(range)))\n",
      "            for bound in range:\n",
      "                if (bound.is_integer is False and bound is not S.Infinity\n",
      "                        and bound is not S.NegativeInfinity):\n",
      "                    raise TypeError(\"Idx object requires integer bounds.\")\n",
      "            args = label, Tuple(*range)\n",
      "        elif isinstance(range, Expr):\n",
      "            if range is not S.Infinity and fuzzy_not(range.is_integer):\n",
      "                raise TypeError(\"Idx object requires an integer dimension.\")\n",
      "            args = label, Tuple(0, range - 1)\n",
      "        elif range:\n",
      "            raise TypeError(filldedent(\"\"\"\n",
      "                The range must be an ordered iterable or\n",
      "                integer SymPy expression.\"\"\"))\n",
      "        else:\n",
      "            args = label,\n",
      "\n",
      "        obj = Expr.__new__(cls, *args, **kw_args)\n",
      "        obj._assumptions[\"finite\"] = True\n",
      "        obj._assumptions[\"real\"] = True\n",
      "        return obj\n",
      "\n",
      "    @property\n",
      "    def label(self):\n",
      "        \"\"\"Returns the label (Integer or integer expression) of the Idx object.\n",
      "\n",
      "        Examples\n",
      "        ========\n",
      "\n",
      "        >>> from sympy import Idx, Symbol\n",
      "        >>> x = Symbol('x', integer=True)\n",
      "        >>> Idx(x).label\n",
      "        x\n",
      "        >>> j = Symbol('j', integer=True)\n",
      "        >>> Idx(j).label\n",
      "        j\n",
      "        >>> Idx(j + 1).label\n",
      "        j + 1\n",
      "\n",
      "        \"\"\"\n",
      "        return self.args[0]\n",
      "\n",
      "    @property\n",
      "    def lower(self):\n",
      "        \"\"\"Returns the lower bound of the ``Idx``.\n",
      "\n",
      "        Examples\n",
      "        ========\n",
      "\n",
      "        >>> from sympy import Idx\n",
      "        >>> Idx('j', 2).lower\n",
      "        0\n",
      "        >>> Idx('j', 5).lower\n",
      "        0\n",
      "        >>> Idx('j').lower is None\n",
      "        True\n",
      "\n",
      "        \"\"\"\n",
      "        try:\n",
      "            return self.args[1][0]\n",
      "        except IndexError:\n",
      "            return\n",
      "\n",
      "    @property\n",
      "    def upper(self):\n",
      "        \"\"\"Returns the upper bound of the ``Idx``.\n",
      "\n",
      "        Examples\n",
      "        ========\n",
      "\n",
      "        >>> from sympy import Idx\n",
      "        >>> Idx('j', 2).upper\n",
      "        1\n",
      "        >>> Idx('j', 5).upper\n",
      "        4\n",
      "        >>> Idx('j').upper is None\n",
      "        True\n",
      "\n",
      "        \"\"\"\n",
      "        try:\n",
      "            return self.args[1][1]\n",
      "        except IndexError:\n",
      "            return\n",
      "\n",
      "    def _sympystr(self, p):\n",
      "        return p.doprint(self.label)\n",
      "\n",
      "    @property\n",
      "    def name(self):\n",
      "        return self.label.name if self.label.is_Symbol else str(self.label)\n",
      "\n",
      "    @property\n",
      "    def free_symbols(self):\n",
      "        return {self}\n",
      "\n"
     ]
    }
   ],
   "source": [
    "print(getsource(sym.Idx))"
   ]
  },
  {
   "cell_type": "code",
   "execution_count": null,
   "metadata": {},
   "outputs": [],
   "source": [
    "print(getsource(sym.Symbol))"
   ]
  },
  {
   "cell_type": "code",
   "execution_count": 101,
   "metadata": {},
   "outputs": [],
   "source": [
    "import re\n",
    "\n",
    "class Variable(sym.Indexed):\n",
    "    def __new__(cls, name):\n",
    "        base = sym.IndexedBase(re.sub('_{.*?}','',name))\n",
    "        index = re.search('(?<=_{).+?(?=})',name).group()\n",
    "        return super(Variable, cls).__new__(cls, base, index)\n",
    "\n",
    "Var = Variable"
   ]
  },
  {
   "cell_type": "code",
   "execution_count": 103,
   "metadata": {},
   "outputs": [
    {
     "data": {
      "text/latex": [
       "$\\displaystyle {x}_{t}$"
      ],
      "text/plain": [
       "x[t]"
      ]
     },
     "execution_count": 103,
     "metadata": {},
     "output_type": "execute_result"
    }
   ],
   "source": [
    "Var('x_{t}')"
   ]
  },
  {
   "cell_type": "code",
   "execution_count": 115,
   "metadata": {},
   "outputs": [
    {
     "ename": "AttributeError",
     "evalue": "'NoneType' object has no attribute 'group'",
     "output_type": "error",
     "traceback": [
      "\u001b[1;31m---------------------------------------------------------------------------\u001b[0m",
      "\u001b[1;31mAttributeError\u001b[0m                            Traceback (most recent call last)",
      "\u001b[1;32m~\\AppData\\Local\\Temp/ipykernel_22880/3697383304.py\u001b[0m in \u001b[0;36m<module>\u001b[1;34m\u001b[0m\n\u001b[1;32m----> 1\u001b[1;33m \u001b[0mVar\u001b[0m\u001b[1;33m(\u001b[0m\u001b[1;34m'x_t'\u001b[0m\u001b[1;33m)\u001b[0m\u001b[1;33m.\u001b[0m\u001b[0mname\u001b[0m\u001b[1;33m\u001b[0m\u001b[1;33m\u001b[0m\u001b[0m\n\u001b[0m",
      "\u001b[1;32m~\\AppData\\Local\\Temp/ipykernel_22880/3177450654.py\u001b[0m in \u001b[0;36m__new__\u001b[1;34m(cls, name)\u001b[0m\n\u001b[0;32m      4\u001b[0m     \u001b[1;32mdef\u001b[0m \u001b[0m__new__\u001b[0m\u001b[1;33m(\u001b[0m\u001b[0mcls\u001b[0m\u001b[1;33m,\u001b[0m \u001b[0mname\u001b[0m\u001b[1;33m)\u001b[0m\u001b[1;33m:\u001b[0m\u001b[1;33m\u001b[0m\u001b[1;33m\u001b[0m\u001b[0m\n\u001b[0;32m      5\u001b[0m         \u001b[0mbase\u001b[0m \u001b[1;33m=\u001b[0m \u001b[0msym\u001b[0m\u001b[1;33m.\u001b[0m\u001b[0mIndexedBase\u001b[0m\u001b[1;33m(\u001b[0m\u001b[0mre\u001b[0m\u001b[1;33m.\u001b[0m\u001b[0msub\u001b[0m\u001b[1;33m(\u001b[0m\u001b[1;34m'_{.*?}'\u001b[0m\u001b[1;33m,\u001b[0m\u001b[1;34m''\u001b[0m\u001b[1;33m,\u001b[0m\u001b[0mname\u001b[0m\u001b[1;33m)\u001b[0m\u001b[1;33m)\u001b[0m\u001b[1;33m\u001b[0m\u001b[1;33m\u001b[0m\u001b[0m\n\u001b[1;32m----> 6\u001b[1;33m         \u001b[0mindex\u001b[0m \u001b[1;33m=\u001b[0m \u001b[0mre\u001b[0m\u001b[1;33m.\u001b[0m\u001b[0msearch\u001b[0m\u001b[1;33m(\u001b[0m\u001b[1;34m'(?<=_{).+?(?=})'\u001b[0m\u001b[1;33m,\u001b[0m\u001b[0mname\u001b[0m\u001b[1;33m)\u001b[0m\u001b[1;33m.\u001b[0m\u001b[0mgroup\u001b[0m\u001b[1;33m(\u001b[0m\u001b[1;33m)\u001b[0m\u001b[1;33m\u001b[0m\u001b[1;33m\u001b[0m\u001b[0m\n\u001b[0m\u001b[0;32m      7\u001b[0m         \u001b[1;32mreturn\u001b[0m \u001b[0msuper\u001b[0m\u001b[1;33m(\u001b[0m\u001b[0mVariable\u001b[0m\u001b[1;33m,\u001b[0m \u001b[0mcls\u001b[0m\u001b[1;33m)\u001b[0m\u001b[1;33m.\u001b[0m\u001b[0m__new__\u001b[0m\u001b[1;33m(\u001b[0m\u001b[0mcls\u001b[0m\u001b[1;33m,\u001b[0m \u001b[0mbase\u001b[0m\u001b[1;33m,\u001b[0m \u001b[0mindex\u001b[0m\u001b[1;33m)\u001b[0m\u001b[1;33m\u001b[0m\u001b[1;33m\u001b[0m\u001b[0m\n\u001b[0;32m      8\u001b[0m \u001b[1;33m\u001b[0m\u001b[0m\n",
      "\u001b[1;31mAttributeError\u001b[0m: 'NoneType' object has no attribute 'group'"
     ]
    }
   ],
   "source": [
    "Var('x_t').name"
   ]
  },
  {
   "cell_type": "code",
   "execution_count": 113,
   "metadata": {},
   "outputs": [
    {
     "name": "stdout",
     "output_type": "stream",
     "text": [
      "class Indexed(Expr):\n",
      "    \"\"\"Represents a mathematical object with indices.\n",
      "\n",
      "    >>> from sympy import Indexed, IndexedBase, Idx, symbols\n",
      "    >>> i, j = symbols('i j', cls=Idx)\n",
      "    >>> Indexed('A', i, j)\n",
      "    A[i, j]\n",
      "\n",
      "    It is recommended that ``Indexed`` objects be created by indexing ``IndexedBase``:\n",
      "    ``IndexedBase('A')[i, j]`` instead of ``Indexed(IndexedBase('A'), i, j)``.\n",
      "\n",
      "    >>> A = IndexedBase('A')\n",
      "    >>> a_ij = A[i, j]           # Prefer this,\n",
      "    >>> b_ij = Indexed(A, i, j)  # over this.\n",
      "    >>> a_ij == b_ij\n",
      "    True\n",
      "\n",
      "    \"\"\"\n",
      "    is_commutative = True\n",
      "    is_Indexed = True\n",
      "    is_symbol = True\n",
      "    is_Atom = True\n",
      "\n",
      "    def __new__(cls, base, *args, **kw_args):\n",
      "        from sympy.utilities.misc import filldedent\n",
      "        from sympy.tensor.array.ndim_array import NDimArray\n",
      "        from sympy.matrices.matrices import MatrixBase\n",
      "\n",
      "        if not args:\n",
      "            raise IndexException(\"Indexed needs at least one index.\")\n",
      "        if isinstance(base, (str, Symbol)):\n",
      "            base = IndexedBase(base)\n",
      "        elif not hasattr(base, '__getitem__') and not isinstance(base, IndexedBase):\n",
      "            raise TypeError(filldedent(\"\"\"\n",
      "                The base can only be replaced with a string, Symbol,\n",
      "                IndexedBase or an object with a method for getting\n",
      "                items (i.e. an object with a `__getitem__` method).\n",
      "                \"\"\"))\n",
      "        args = list(map(sympify, args))\n",
      "        if isinstance(base, (NDimArray, Iterable, Tuple, MatrixBase)) and all([i.is_number for i in args]):\n",
      "            if len(args) == 1:\n",
      "                return base[args[0]]\n",
      "            else:\n",
      "                return base[args]\n",
      "\n",
      "        obj = Expr.__new__(cls, base, *args, **kw_args)\n",
      "\n",
      "        try:\n",
      "            IndexedBase._set_assumptions(obj, base.assumptions0)\n",
      "        except AttributeError:\n",
      "            IndexedBase._set_assumptions(obj, {})\n",
      "        return obj\n",
      "\n",
      "    def _hashable_content(self):\n",
      "        return super()._hashable_content() + tuple(sorted(self.assumptions0.items()))\n",
      "\n",
      "    @property\n",
      "    def name(self):\n",
      "        return str(self)\n",
      "\n",
      "    @property\n",
      "    def _diff_wrt(self):\n",
      "        \"\"\"Allow derivatives with respect to an ``Indexed`` object.\"\"\"\n",
      "        return True\n",
      "\n",
      "    def _eval_derivative(self, wrt):\n",
      "        from sympy.tensor.array.ndim_array import NDimArray\n",
      "\n",
      "        if isinstance(wrt, Indexed) and wrt.base == self.base:\n",
      "            if len(self.indices) != len(wrt.indices):\n",
      "                msg = \"Different # of indices: d({!s})/d({!s})\".format(self,\n",
      "                                                                       wrt)\n",
      "                raise IndexException(msg)\n",
      "            result = S.One\n",
      "            for index1, index2 in zip(self.indices, wrt.indices):\n",
      "                result *= KroneckerDelta(index1, index2)\n",
      "            return result\n",
      "        elif isinstance(self.base, NDimArray):\n",
      "            from sympy.tensor.array import derive_by_array\n",
      "            return Indexed(derive_by_array(self.base, wrt), *self.args[1:])\n",
      "        else:\n",
      "            if Tuple(self.indices).has(wrt):\n",
      "                return S.NaN\n",
      "            return S.Zero\n",
      "\n",
      "    @property\n",
      "    def assumptions0(self):\n",
      "        return {k: v for k, v in self._assumptions.items() if v is not None}\n",
      "\n",
      "    @property\n",
      "    def base(self):\n",
      "        \"\"\"Returns the ``IndexedBase`` of the ``Indexed`` object.\n",
      "\n",
      "        Examples\n",
      "        ========\n",
      "\n",
      "        >>> from sympy import Indexed, IndexedBase, Idx, symbols\n",
      "        >>> i, j = symbols('i j', cls=Idx)\n",
      "        >>> Indexed('A', i, j).base\n",
      "        A\n",
      "        >>> B = IndexedBase('B')\n",
      "        >>> B == B[i, j].base\n",
      "        True\n",
      "\n",
      "        \"\"\"\n",
      "        return self.args[0]\n",
      "\n",
      "    @property\n",
      "    def indices(self):\n",
      "        \"\"\"\n",
      "        Returns the indices of the ``Indexed`` object.\n",
      "\n",
      "        Examples\n",
      "        ========\n",
      "\n",
      "        >>> from sympy import Indexed, Idx, symbols\n",
      "        >>> i, j = symbols('i j', cls=Idx)\n",
      "        >>> Indexed('A', i, j).indices\n",
      "        (i, j)\n",
      "\n",
      "        \"\"\"\n",
      "        return self.args[1:]\n",
      "\n",
      "    @property\n",
      "    def rank(self):\n",
      "        \"\"\"\n",
      "        Returns the rank of the ``Indexed`` object.\n",
      "\n",
      "        Examples\n",
      "        ========\n",
      "\n",
      "        >>> from sympy import Indexed, Idx, symbols\n",
      "        >>> i, j, k, l, m = symbols('i:m', cls=Idx)\n",
      "        >>> Indexed('A', i, j).rank\n",
      "        2\n",
      "        >>> q = Indexed('A', i, j, k, l, m)\n",
      "        >>> q.rank\n",
      "        5\n",
      "        >>> q.rank == len(q.indices)\n",
      "        True\n",
      "\n",
      "        \"\"\"\n",
      "        return len(self.args) - 1\n",
      "\n",
      "    @property\n",
      "    def shape(self):\n",
      "        \"\"\"Returns a list with dimensions of each index.\n",
      "\n",
      "        Dimensions is a property of the array, not of the indices.  Still, if\n",
      "        the ``IndexedBase`` does not define a shape attribute, it is assumed\n",
      "        that the ranges of the indices correspond to the shape of the array.\n",
      "\n",
      "        >>> from sympy import IndexedBase, Idx, symbols\n",
      "        >>> n, m = symbols('n m', integer=True)\n",
      "        >>> i = Idx('i', m)\n",
      "        >>> j = Idx('j', m)\n",
      "        >>> A = IndexedBase('A', shape=(n, n))\n",
      "        >>> B = IndexedBase('B')\n",
      "        >>> A[i, j].shape\n",
      "        (n, n)\n",
      "        >>> B[i, j].shape\n",
      "        (m, m)\n",
      "        \"\"\"\n",
      "        from sympy.utilities.misc import filldedent\n",
      "\n",
      "        if self.base.shape:\n",
      "            return self.base.shape\n",
      "        sizes = []\n",
      "        for i in self.indices:\n",
      "            upper = getattr(i, 'upper', None)\n",
      "            lower = getattr(i, 'lower', None)\n",
      "            if None in (upper, lower):\n",
      "                raise IndexException(filldedent(\"\"\"\n",
      "                    Range is not defined for all indices in: %s\"\"\" % self))\n",
      "            try:\n",
      "                size = upper - lower + 1\n",
      "            except TypeError:\n",
      "                raise IndexException(filldedent(\"\"\"\n",
      "                    Shape cannot be inferred from Idx with\n",
      "                    undefined range: %s\"\"\" % self))\n",
      "            sizes.append(size)\n",
      "        return Tuple(*sizes)\n",
      "\n",
      "    @property\n",
      "    def ranges(self):\n",
      "        \"\"\"Returns a list of tuples with lower and upper range of each index.\n",
      "\n",
      "        If an index does not define the data members upper and lower, the\n",
      "        corresponding slot in the list contains ``None`` instead of a tuple.\n",
      "\n",
      "        Examples\n",
      "        ========\n",
      "\n",
      "        >>> from sympy import Indexed,Idx, symbols\n",
      "        >>> Indexed('A', Idx('i', 2), Idx('j', 4), Idx('k', 8)).ranges\n",
      "        [(0, 1), (0, 3), (0, 7)]\n",
      "        >>> Indexed('A', Idx('i', 3), Idx('j', 3), Idx('k', 3)).ranges\n",
      "        [(0, 2), (0, 2), (0, 2)]\n",
      "        >>> x, y, z = symbols('x y z', integer=True)\n",
      "        >>> Indexed('A', x, y, z).ranges\n",
      "        [None, None, None]\n",
      "\n",
      "        \"\"\"\n",
      "        ranges = []\n",
      "        for i in self.indices:\n",
      "            sentinel = object()\n",
      "            upper = getattr(i, 'upper', sentinel)\n",
      "            lower = getattr(i, 'lower', sentinel)\n",
      "            if sentinel not in (upper, lower):\n",
      "                ranges.append(Tuple(lower, upper))\n",
      "            else:\n",
      "                ranges.append(None)\n",
      "        return ranges\n",
      "\n",
      "    def _sympystr(self, p):\n",
      "        indices = list(map(p.doprint, self.indices))\n",
      "        return \"%s[%s]\" % (p.doprint(self.base), \", \".join(indices))\n",
      "\n",
      "    @property\n",
      "    def free_symbols(self):\n",
      "        base_free_symbols = self.base.free_symbols\n",
      "        indices_free_symbols = {\n",
      "            fs for i in self.indices for fs in i.free_symbols}\n",
      "        if base_free_symbols:\n",
      "            return {self} | base_free_symbols | indices_free_symbols\n",
      "        else:\n",
      "            return indices_free_symbols\n",
      "\n",
      "    @property\n",
      "    def expr_free_symbols(self):\n",
      "        from sympy.utilities.exceptions import SymPyDeprecationWarning\n",
      "        SymPyDeprecationWarning(feature=\"expr_free_symbols method\",\n",
      "                                issue=21494,\n",
      "                                deprecated_since_version=\"1.9\").warn()\n",
      "        return {self}\n",
      "\n"
     ]
    }
   ],
   "source": [
    "print(getsource(sym.Indexed))"
   ]
  },
  {
   "cell_type": "code",
   "execution_count": 2,
   "metadata": {},
   "outputs": [
    {
     "data": {
      "text/plain": [
       "(sympy.core.symbol.Symbol,\n",
       " sympy.core.expr.AtomicExpr,\n",
       " sympy.core.basic.Atom,\n",
       " sympy.core.expr.Expr,\n",
       " sympy.logic.boolalg.Boolean,\n",
       " sympy.core.basic.Basic,\n",
       " sympy.printing.defaults.Printable,\n",
       " sympy.core.evalf.EvalfMixin,\n",
       " object)"
      ]
     },
     "execution_count": 2,
     "metadata": {},
     "output_type": "execute_result"
    }
   ],
   "source": [
    "sym.Symbol.__mro__"
   ]
  },
  {
   "cell_type": "code",
   "execution_count": 3,
   "metadata": {},
   "outputs": [
    {
     "data": {
      "text/plain": [
       "(sympy.core.relational.Equality,\n",
       " sympy.core.relational.Relational,\n",
       " sympy.logic.boolalg.Boolean,\n",
       " sympy.core.basic.Basic,\n",
       " sympy.printing.defaults.Printable,\n",
       " sympy.core.evalf.EvalfMixin,\n",
       " object)"
      ]
     },
     "execution_count": 3,
     "metadata": {},
     "output_type": "execute_result"
    }
   ],
   "source": [
    "sym.Eq.__mro__"
   ]
  },
  {
   "cell_type": "code",
   "execution_count": 4,
   "metadata": {},
   "outputs": [
    {
     "data": {
      "text/latex": [
       "$\\displaystyle \\beta$"
      ],
      "text/plain": [
       "\\beta"
      ]
     },
     "metadata": {},
     "output_type": "display_data"
    },
    {
     "data": {
      "text/latex": [
       "$\\displaystyle \\beta$"
      ],
      "text/plain": [
       "\\beta"
      ]
     },
     "metadata": {},
     "output_type": "display_data"
    }
   ],
   "source": [
    "display(sym.Symbol(r'\\beta'))\n",
    "display(sym.Symbol('\\\\beta'))\n"
   ]
  },
  {
   "cell_type": "code",
   "execution_count": 5,
   "metadata": {},
   "outputs": [
    {
     "data": {
      "text/latex": [
       "$\\displaystyle y_{t+1}$"
      ],
      "text/plain": [
       "y_{t+1}"
      ]
     },
     "execution_count": 5,
     "metadata": {},
     "output_type": "execute_result"
    }
   ],
   "source": [
    "sym.Symbol('y_{t+1}')"
   ]
  },
  {
   "cell_type": "code",
   "execution_count": 18,
   "metadata": {},
   "outputs": [
    {
     "data": {
      "text/plain": [
       "[x_t, '+', '1']"
      ]
     },
     "execution_count": 18,
     "metadata": {},
     "output_type": "execute_result"
    }
   ],
   "source": [
    "[sym.Symbol('x_t'),'+','1']"
   ]
  },
  {
   "cell_type": "code",
   "execution_count": 20,
   "metadata": {},
   "outputs": [
    {
     "data": {
      "text/latex": [
       "$\\displaystyle 1$"
      ],
      "text/plain": [
       "1"
      ]
     },
     "execution_count": 20,
     "metadata": {},
     "output_type": "execute_result"
    }
   ],
   "source": [
    "sym.sympify('1')"
   ]
  },
  {
   "cell_type": "code",
   "execution_count": 15,
   "metadata": {},
   "outputs": [
    {
     "ename": "AttributeError",
     "evalue": "module 'sympy' has no attribute 'stringify_expr'",
     "output_type": "error",
     "traceback": [
      "\u001b[1;31m---------------------------------------------------------------------------\u001b[0m",
      "\u001b[1;31mAttributeError\u001b[0m                            Traceback (most recent call last)",
      "\u001b[1;32m~\\AppData\\Local\\Temp/ipykernel_22880/2330637075.py\u001b[0m in \u001b[0;36m<module>\u001b[1;34m\u001b[0m\n\u001b[1;32m----> 1\u001b[1;33m \u001b[0mprint\u001b[0m\u001b[1;33m(\u001b[0m\u001b[0mgetsource\u001b[0m\u001b[1;33m(\u001b[0m\u001b[0msym\u001b[0m\u001b[1;33m.\u001b[0m\u001b[0mstringify_expr\u001b[0m\u001b[1;33m)\u001b[0m\u001b[1;33m)\u001b[0m\u001b[1;33m\u001b[0m\u001b[1;33m\u001b[0m\u001b[0m\n\u001b[0m",
      "\u001b[1;31mAttributeError\u001b[0m: module 'sympy' has no attribute 'stringify_expr'"
     ]
    }
   ],
   "source": [
    "print(getsource(sym.stringify_expr))"
   ]
  },
  {
   "cell_type": "code",
   "execution_count": 79,
   "metadata": {},
   "outputs": [
    {
     "data": {
      "text/plain": [
       "(sympy.core.symbol.Symbol,\n",
       " sympy.core.expr.AtomicExpr,\n",
       " sympy.core.basic.Atom,\n",
       " sympy.core.expr.Expr,\n",
       " sympy.logic.boolalg.Boolean,\n",
       " sympy.core.basic.Basic,\n",
       " sympy.printing.defaults.Printable,\n",
       " sympy.core.evalf.EvalfMixin,\n",
       " object)"
      ]
     },
     "execution_count": 79,
     "metadata": {},
     "output_type": "execute_result"
    }
   ],
   "source": [
    "sym.Symbol.__mro__"
   ]
  },
  {
   "cell_type": "code",
   "execution_count": 78,
   "metadata": {},
   "outputs": [
    {
     "name": "stdout",
     "output_type": "stream",
     "text": [
      "class IndexedBase(Expr, NotIterable):\n",
      "    \"\"\"Represent the base or stem of an indexed object\n",
      "\n",
      "    The IndexedBase class represent an array that contains elements. The main purpose\n",
      "    of this class is to allow the convenient creation of objects of the Indexed\n",
      "    class.  The __getitem__ method of IndexedBase returns an instance of\n",
      "    Indexed.  Alone, without indices, the IndexedBase class can be used as a\n",
      "    notation for e.g. matrix equations, resembling what you could do with the\n",
      "    Symbol class.  But, the IndexedBase class adds functionality that is not\n",
      "    available for Symbol instances:\n",
      "\n",
      "      -  An IndexedBase object can optionally store shape information.  This can\n",
      "         be used in to check array conformance and conditions for numpy\n",
      "         broadcasting.  (TODO)\n",
      "      -  An IndexedBase object implements syntactic sugar that allows easy symbolic\n",
      "         representation of array operations, using implicit summation of\n",
      "         repeated indices.\n",
      "      -  The IndexedBase object symbolizes a mathematical structure equivalent\n",
      "         to arrays, and is recognized as such for code generation and automatic\n",
      "         compilation and wrapping.\n",
      "\n",
      "    >>> from sympy.tensor import IndexedBase, Idx\n",
      "    >>> from sympy import symbols\n",
      "    >>> A = IndexedBase('A'); A\n",
      "    A\n",
      "    >>> type(A)\n",
      "    <class 'sympy.tensor.indexed.IndexedBase'>\n",
      "\n",
      "    When an IndexedBase object receives indices, it returns an array with named\n",
      "    axes, represented by an Indexed object:\n",
      "\n",
      "    >>> i, j = symbols('i j', integer=True)\n",
      "    >>> A[i, j, 2]\n",
      "    A[i, j, 2]\n",
      "    >>> type(A[i, j, 2])\n",
      "    <class 'sympy.tensor.indexed.Indexed'>\n",
      "\n",
      "    The IndexedBase constructor takes an optional shape argument.  If given,\n",
      "    it overrides any shape information in the indices. (But not the index\n",
      "    ranges!)\n",
      "\n",
      "    >>> m, n, o, p = symbols('m n o p', integer=True)\n",
      "    >>> i = Idx('i', m)\n",
      "    >>> j = Idx('j', n)\n",
      "    >>> A[i, j].shape\n",
      "    (m, n)\n",
      "    >>> B = IndexedBase('B', shape=(o, p))\n",
      "    >>> B[i, j].shape\n",
      "    (o, p)\n",
      "\n",
      "    Assumptions can be specified with keyword arguments the same way as for Symbol:\n",
      "\n",
      "    >>> A_real = IndexedBase('A', real=True)\n",
      "    >>> A_real.is_real\n",
      "    True\n",
      "    >>> A != A_real\n",
      "    True\n",
      "\n",
      "    Assumptions can also be inherited if a Symbol is used to initialize the IndexedBase:\n",
      "\n",
      "    >>> I = symbols('I', integer=True)\n",
      "    >>> C_inherit = IndexedBase(I)\n",
      "    >>> C_explicit = IndexedBase('I', integer=True)\n",
      "    >>> C_inherit == C_explicit\n",
      "    True\n",
      "    \"\"\"\n",
      "    is_commutative = True\n",
      "    is_symbol = True\n",
      "    is_Atom = True\n",
      "\n",
      "    @staticmethod\n",
      "    def _set_assumptions(obj, assumptions):\n",
      "        \"\"\"Set assumptions on obj, making sure to apply consistent values.\"\"\"\n",
      "        tmp_asm_copy = assumptions.copy()\n",
      "        is_commutative = fuzzy_bool(assumptions.get('commutative', True))\n",
      "        assumptions['commutative'] = is_commutative\n",
      "        obj._assumptions = StdFactKB(assumptions)\n",
      "        obj._assumptions._generator = tmp_asm_copy  # Issue #8873\n",
      "\n",
      "    def __new__(cls, label, shape=None, *, offset=S.Zero, strides=None, **kw_args):\n",
      "        from sympy import MatrixBase, NDimArray\n",
      "\n",
      "        assumptions, kw_args = _filter_assumptions(kw_args)\n",
      "        if isinstance(label, str):\n",
      "            label = Symbol(label, **assumptions)\n",
      "        elif isinstance(label, Symbol):\n",
      "            assumptions = label._merge(assumptions)\n",
      "        elif isinstance(label, (MatrixBase, NDimArray)):\n",
      "            return label\n",
      "        elif isinstance(label, Iterable):\n",
      "            return _sympify(label)\n",
      "        else:\n",
      "            label = _sympify(label)\n",
      "\n",
      "        if is_sequence(shape):\n",
      "            shape = Tuple(*shape)\n",
      "        elif shape is not None:\n",
      "            shape = Tuple(shape)\n",
      "\n",
      "        if shape is not None:\n",
      "            obj = Expr.__new__(cls, label, shape)\n",
      "        else:\n",
      "            obj = Expr.__new__(cls, label)\n",
      "        obj._shape = shape\n",
      "        obj._offset = offset\n",
      "        obj._strides = strides\n",
      "        obj._name = str(label)\n",
      "\n",
      "        IndexedBase._set_assumptions(obj, assumptions)\n",
      "        return obj\n",
      "\n",
      "    @property\n",
      "    def name(self):\n",
      "        return self._name\n",
      "\n",
      "    def _hashable_content(self):\n",
      "        return super()._hashable_content() + tuple(sorted(self.assumptions0.items()))\n",
      "\n",
      "    @property\n",
      "    def assumptions0(self):\n",
      "        return {k: v for k, v in self._assumptions.items() if v is not None}\n",
      "\n",
      "    def __getitem__(self, indices, **kw_args):\n",
      "        if is_sequence(indices):\n",
      "            # Special case needed because M[*my_tuple] is a syntax error.\n",
      "            if self.shape and len(self.shape) != len(indices):\n",
      "                raise IndexException(\"Rank mismatch.\")\n",
      "            return Indexed(self, *indices, **kw_args)\n",
      "        else:\n",
      "            if self.shape and len(self.shape) != 1:\n",
      "                raise IndexException(\"Rank mismatch.\")\n",
      "            return Indexed(self, indices, **kw_args)\n",
      "\n",
      "    @property\n",
      "    def shape(self):\n",
      "        \"\"\"Returns the shape of the ``IndexedBase`` object.\n",
      "\n",
      "        Examples\n",
      "        ========\n",
      "\n",
      "        >>> from sympy import IndexedBase, Idx\n",
      "        >>> from sympy.abc import x, y\n",
      "        >>> IndexedBase('A', shape=(x, y)).shape\n",
      "        (x, y)\n",
      "\n",
      "        Note: If the shape of the ``IndexedBase`` is specified, it will override\n",
      "        any shape information given by the indices.\n",
      "\n",
      "        >>> A = IndexedBase('A', shape=(x, y))\n",
      "        >>> B = IndexedBase('B')\n",
      "        >>> i = Idx('i', 2)\n",
      "        >>> j = Idx('j', 1)\n",
      "        >>> A[i, j].shape\n",
      "        (x, y)\n",
      "        >>> B[i, j].shape\n",
      "        (2, 1)\n",
      "\n",
      "        \"\"\"\n",
      "        return self._shape\n",
      "\n",
      "    @property\n",
      "    def strides(self):\n",
      "        \"\"\"Returns the strided scheme for the ``IndexedBase`` object.\n",
      "\n",
      "        Normally this is a tuple denoting the number of\n",
      "        steps to take in the respective dimension when traversing\n",
      "        an array. For code generation purposes strides='C' and\n",
      "        strides='F' can also be used.\n",
      "\n",
      "        strides='C' would mean that code printer would unroll\n",
      "        in row-major order and 'F' means unroll in column major\n",
      "        order.\n",
      "\n",
      "        \"\"\"\n",
      "\n",
      "        return self._strides\n",
      "\n",
      "    @property\n",
      "    def offset(self):\n",
      "        \"\"\"Returns the offset for the ``IndexedBase`` object.\n",
      "\n",
      "        This is the value added to the resulting index when the\n",
      "        2D Indexed object is unrolled to a 1D form. Used in code\n",
      "        generation.\n",
      "\n",
      "        Examples\n",
      "        ==========\n",
      "        >>> from sympy.printing import ccode\n",
      "        >>> from sympy.tensor import IndexedBase, Idx\n",
      "        >>> from sympy import symbols\n",
      "        >>> l, m, n, o = symbols('l m n o', integer=True)\n",
      "        >>> A = IndexedBase('A', strides=(l, m, n), offset=o)\n",
      "        >>> i, j, k = map(Idx, 'ijk')\n",
      "        >>> ccode(A[i, j, k])\n",
      "        'A[l*i + m*j + n*k + o]'\n",
      "\n",
      "        \"\"\"\n",
      "        return self._offset\n",
      "\n",
      "    @property\n",
      "    def label(self):\n",
      "        \"\"\"Returns the label of the ``IndexedBase`` object.\n",
      "\n",
      "        Examples\n",
      "        ========\n",
      "\n",
      "        >>> from sympy import IndexedBase\n",
      "        >>> from sympy.abc import x, y\n",
      "        >>> IndexedBase('A', shape=(x, y)).label\n",
      "        A\n",
      "\n",
      "        \"\"\"\n",
      "        return self.args[0]\n",
      "\n",
      "    def _sympystr(self, p):\n",
      "        return p.doprint(self.label)\n",
      "\n"
     ]
    }
   ],
   "source": [
    "print(getsource(sym.IndexedBase))"
   ]
  },
  {
   "cell_type": "code",
   "execution_count": null,
   "metadata": {},
   "outputs": [],
   "source": [
    "print(getsource(sym.parse_expr))"
   ]
  },
  {
   "cell_type": "code",
   "execution_count": null,
   "metadata": {},
   "outputs": [],
   "source": [
    "sym.sympify('x_{t+1}')"
   ]
  },
  {
   "cell_type": "code",
   "execution_count": null,
   "metadata": {},
   "outputs": [],
   "source": [
    "eq = 'y_{t+1}'\n",
    "sym.sympify(eq, {'y_{t+1}':'e'})"
   ]
  },
  {
   "cell_type": "code",
   "execution_count": null,
   "metadata": {},
   "outputs": [],
   "source": [
    "print(getsource(sym.sympify))"
   ]
  },
  {
   "cell_type": "code",
   "execution_count": 77,
   "metadata": {},
   "outputs": [
    {
     "name": "stdout",
     "output_type": "stream",
     "text": [
      "class Symbol(AtomicExpr, Boolean):\n",
      "    \"\"\"\n",
      "    Assumptions:\n",
      "       commutative = True\n",
      "\n",
      "    You can override the default assumptions in the constructor.\n",
      "\n",
      "    Examples\n",
      "    ========\n",
      "\n",
      "    >>> from sympy import symbols\n",
      "    >>> A,B = symbols('A,B', commutative = False)\n",
      "    >>> bool(A*B != B*A)\n",
      "    True\n",
      "    >>> bool(A*B*2 == 2*A*B) == True # multiplication by scalars is commutative\n",
      "    True\n",
      "\n",
      "    \"\"\"\n",
      "\n",
      "    is_comparable = False\n",
      "\n",
      "    __slots__ = ('name',)\n",
      "\n",
      "    is_Symbol = True\n",
      "    is_symbol = True\n",
      "\n",
      "    @property\n",
      "    def kind(self):\n",
      "        if self.is_commutative:\n",
      "            return NumberKind\n",
      "        return UndefinedKind\n",
      "\n",
      "    @property\n",
      "    def _diff_wrt(self):\n",
      "        \"\"\"Allow derivatives wrt Symbols.\n",
      "\n",
      "        Examples\n",
      "        ========\n",
      "\n",
      "            >>> from sympy import Symbol\n",
      "            >>> x = Symbol('x')\n",
      "            >>> x._diff_wrt\n",
      "            True\n",
      "        \"\"\"\n",
      "        return True\n",
      "\n",
      "    @staticmethod\n",
      "    def _sanitize(assumptions, obj=None):\n",
      "        \"\"\"Remove None, covert values to bool, check commutativity *in place*.\n",
      "        \"\"\"\n",
      "\n",
      "        # be strict about commutativity: cannot be None\n",
      "        is_commutative = fuzzy_bool(assumptions.get('commutative', True))\n",
      "        if is_commutative is None:\n",
      "            whose = '%s ' % obj.__name__ if obj else ''\n",
      "            raise ValueError(\n",
      "                '%scommutativity must be True or False.' % whose)\n",
      "\n",
      "        # sanitize other assumptions so 1 -> True and 0 -> False\n",
      "        for key in list(assumptions.keys()):\n",
      "            v = assumptions[key]\n",
      "            if v is None:\n",
      "                assumptions.pop(key)\n",
      "                continue\n",
      "            assumptions[key] = bool(v)\n",
      "\n",
      "    def _merge(self, assumptions):\n",
      "        base = self.assumptions0\n",
      "        for k in set(assumptions) & set(base):\n",
      "            if assumptions[k] != base[k]:\n",
      "                from sympy.utilities.misc import filldedent\n",
      "                raise ValueError(filldedent('''\n",
      "                    non-matching assumptions for %s: existing value\n",
      "                    is %s and new value is %s''' % (\n",
      "                    k, base[k], assumptions[k])))\n",
      "        base.update(assumptions)\n",
      "        return base\n",
      "\n",
      "    def __new__(cls, name, **assumptions):\n",
      "        \"\"\"Symbols are identified by name and assumptions::\n",
      "\n",
      "        >>> from sympy import Symbol\n",
      "        >>> Symbol(\"x\") == Symbol(\"x\")\n",
      "        True\n",
      "        >>> Symbol(\"x\", real=True) == Symbol(\"x\", real=False)\n",
      "        False\n",
      "\n",
      "        \"\"\"\n",
      "        cls._sanitize(assumptions, cls)\n",
      "        return Symbol.__xnew_cached_(cls, name, **assumptions)\n",
      "\n",
      "    def __new_stage2__(cls, name, **assumptions):\n",
      "        if not isinstance(name, str):\n",
      "            raise TypeError(\"name should be a string, not %s\" % repr(type(name)))\n",
      "\n",
      "        obj = Expr.__new__(cls)\n",
      "        obj.name = name\n",
      "\n",
      "        # TODO: Issue #8873: Forcing the commutative assumption here means\n",
      "        # later code such as ``srepr()`` cannot tell whether the user\n",
      "        # specified ``commutative=True`` or omitted it.  To workaround this,\n",
      "        # we keep a copy of the assumptions dict, then create the StdFactKB,\n",
      "        # and finally overwrite its ``._generator`` with the dict copy.  This\n",
      "        # is a bit of a hack because we assume StdFactKB merely copies the\n",
      "        # given dict as ``._generator``, but future modification might, e.g.,\n",
      "        # compute a minimal equivalent assumption set.\n",
      "        tmp_asm_copy = assumptions.copy()\n",
      "\n",
      "        # be strict about commutativity\n",
      "        is_commutative = fuzzy_bool(assumptions.get('commutative', True))\n",
      "        assumptions['commutative'] = is_commutative\n",
      "        obj._assumptions = StdFactKB(assumptions)\n",
      "        obj._assumptions._generator = tmp_asm_copy  # Issue #8873\n",
      "        return obj\n",
      "\n",
      "    __xnew__ = staticmethod(\n",
      "        __new_stage2__)            # never cached (e.g. dummy)\n",
      "    __xnew_cached_ = staticmethod(\n",
      "        cacheit(__new_stage2__))   # symbols are always cached\n",
      "\n",
      "    def __getnewargs_ex__(self):\n",
      "        return ((self.name,), self.assumptions0)\n",
      "\n",
      "    def _hashable_content(self):\n",
      "        # Note: user-specified assumptions not hashed, just derived ones\n",
      "        return (self.name,) + tuple(sorted(self.assumptions0.items()))\n",
      "\n",
      "    def _eval_subs(self, old, new):\n",
      "        from sympy.core.power import Pow\n",
      "        if old.is_Pow:\n",
      "            return Pow(self, S.One, evaluate=False)._eval_subs(old, new)\n",
      "\n",
      "    def _eval_refine(self, assumptions):\n",
      "        return self\n",
      "\n",
      "    @property\n",
      "    def assumptions0(self):\n",
      "        return {key: value for key, value\n",
      "                in self._assumptions.items() if value is not None}\n",
      "\n",
      "    @cacheit\n",
      "    def sort_key(self, order=None):\n",
      "        return self.class_key(), (1, (self.name,)), S.One.sort_key(), S.One\n",
      "\n",
      "    def as_dummy(self):\n",
      "        # only put commutativity in explicitly if it is False\n",
      "        return Dummy(self.name) if self.is_commutative is not False \\\n",
      "            else Dummy(self.name, commutative=self.is_commutative)\n",
      "\n",
      "    def as_real_imag(self, deep=True, **hints):\n",
      "        from sympy import im, re\n",
      "        if hints.get('ignore') == self:\n",
      "            return None\n",
      "        else:\n",
      "            return (re(self), im(self))\n",
      "\n",
      "    def is_constant(self, *wrt, **flags):\n",
      "        if not wrt:\n",
      "            return False\n",
      "        return not self in wrt\n",
      "\n",
      "    @property\n",
      "    def free_symbols(self):\n",
      "        return {self}\n",
      "\n",
      "    binary_symbols = free_symbols  # in this case, not always\n",
      "\n",
      "    def as_set(self):\n",
      "        return S.UniversalSet\n",
      "\n"
     ]
    }
   ],
   "source": [
    "print(getsource(sym.Symbol))"
   ]
  },
  {
   "cell_type": "code",
   "execution_count": 52,
   "metadata": {},
   "outputs": [
    {
     "data": {
      "text/latex": [
       "$\\displaystyle x + 1 = 2$"
      ],
      "text/plain": [
       "Eq(x + 1, 2)"
      ]
     },
     "execution_count": 52,
     "metadata": {},
     "output_type": "execute_result"
    }
   ],
   "source": [
    "sym.Eq(1+sym.Symbol('x'),2)"
   ]
  },
  {
   "cell_type": "code",
   "execution_count": 75,
   "metadata": {},
   "outputs": [],
   "source": [
    "class Variable(sym.Symbol):\n",
    "    def __init__(self,name):\n",
    "        self.name='x'"
   ]
  },
  {
   "cell_type": "code",
   "execution_count": null,
   "metadata": {},
   "outputs": [],
   "source": []
  },
  {
   "cell_type": "code",
   "execution_count": 76,
   "metadata": {},
   "outputs": [
    {
     "data": {
      "text/latex": [
       "$\\displaystyle x + 1 = 0$"
      ],
      "text/plain": [
       "Eq(x + 1, 0)"
      ]
     },
     "execution_count": 76,
     "metadata": {},
     "output_type": "execute_result"
    }
   ],
   "source": [
    "sym.Eq(1+Variable('x'),0)"
   ]
  },
  {
   "cell_type": "code",
   "execution_count": 61,
   "metadata": {},
   "outputs": [],
   "source": [
    "class Variable():\n",
    "    def __init__(self,s):\n",
    "        self.symbol = sym.Symbol(s)"
   ]
  },
  {
   "cell_type": "code",
   "execution_count": 62,
   "metadata": {},
   "outputs": [
    {
     "data": {
      "text/latex": [
       "$\\displaystyle x + 1 = 2$"
      ],
      "text/plain": [
       "Eq(x + 1, 2)"
      ]
     },
     "execution_count": 62,
     "metadata": {},
     "output_type": "execute_result"
    }
   ],
   "source": [
    "expr = '1+x'\n",
    "l = ['1','+','x']\n",
    "l = ['1','+','Variable(\"x\").symbol']\n",
    "sym.Eq(eval(''.join(l)),2)"
   ]
  },
  {
   "cell_type": "code",
   "execution_count": 49,
   "metadata": {},
   "outputs": [
    {
     "ename": "SympifyError",
     "evalue": "Sympify of expression 'could not parse 'x_{t}+z'' failed, because of exception being raised:\nSyntaxError: invalid syntax (<string>, line 1)",
     "output_type": "error",
     "traceback": [
      "\u001b[1;31m---------------------------------------------------------------------------\u001b[0m",
      "\u001b[1;31mValueError\u001b[0m                                Traceback (most recent call last)",
      "\u001b[1;31mValueError\u001b[0m: Error from parse_expr with transformed code: \"Symbol ('x_' ){Symbol ('t' )}+Symbol ('z' )\"",
      "\nThe above exception was the direct cause of the following exception:\n",
      "\u001b[1;31mSyntaxError\u001b[0m                               Traceback (most recent call last)",
      "\u001b[1;32m~\\AppData\\Local\\Packages\\PythonSoftwareFoundation.Python.3.9_qbz5n2kfra8p0\\LocalCache\\local-packages\\Python39\\site-packages\\sympy\\core\\sympify.py\u001b[0m in \u001b[0;36msympify\u001b[1;34m(a, locals, convert_xor, strict, rational, evaluate)\u001b[0m\n\u001b[0;32m    471\u001b[0m         \u001b[0ma\u001b[0m \u001b[1;33m=\u001b[0m \u001b[0ma\u001b[0m\u001b[1;33m.\u001b[0m\u001b[0mreplace\u001b[0m\u001b[1;33m(\u001b[0m\u001b[1;34m'\\n'\u001b[0m\u001b[1;33m,\u001b[0m \u001b[1;34m''\u001b[0m\u001b[1;33m)\u001b[0m\u001b[1;33m\u001b[0m\u001b[1;33m\u001b[0m\u001b[0m\n\u001b[1;32m--> 472\u001b[1;33m         \u001b[0mexpr\u001b[0m \u001b[1;33m=\u001b[0m \u001b[0mparse_expr\u001b[0m\u001b[1;33m(\u001b[0m\u001b[0ma\u001b[0m\u001b[1;33m,\u001b[0m \u001b[0mlocal_dict\u001b[0m\u001b[1;33m=\u001b[0m\u001b[0mlocals\u001b[0m\u001b[1;33m,\u001b[0m \u001b[0mtransformations\u001b[0m\u001b[1;33m=\u001b[0m\u001b[0mtransformations\u001b[0m\u001b[1;33m,\u001b[0m \u001b[0mevaluate\u001b[0m\u001b[1;33m=\u001b[0m\u001b[0mevaluate\u001b[0m\u001b[1;33m)\u001b[0m\u001b[1;33m\u001b[0m\u001b[1;33m\u001b[0m\u001b[0m\n\u001b[0m\u001b[0;32m    473\u001b[0m     \u001b[1;32mexcept\u001b[0m \u001b[1;33m(\u001b[0m\u001b[0mTokenError\u001b[0m\u001b[1;33m,\u001b[0m \u001b[0mSyntaxError\u001b[0m\u001b[1;33m)\u001b[0m \u001b[1;32mas\u001b[0m \u001b[0mexc\u001b[0m\u001b[1;33m:\u001b[0m\u001b[1;33m\u001b[0m\u001b[1;33m\u001b[0m\u001b[0m\n",
      "\u001b[1;32m~\\AppData\\Local\\Packages\\PythonSoftwareFoundation.Python.3.9_qbz5n2kfra8p0\\LocalCache\\local-packages\\Python39\\site-packages\\sympy\\parsing\\sympy_parser.py\u001b[0m in \u001b[0;36mparse_expr\u001b[1;34m(s, local_dict, transformations, global_dict, evaluate)\u001b[0m\n\u001b[0;32m   1025\u001b[0m             \u001b[0mlocal_dict\u001b[0m\u001b[1;33m[\u001b[0m\u001b[0mi\u001b[0m\u001b[1;33m]\u001b[0m \u001b[1;33m=\u001b[0m \u001b[1;32mNone\u001b[0m\u001b[1;33m\u001b[0m\u001b[1;33m\u001b[0m\u001b[0m\n\u001b[1;32m-> 1026\u001b[1;33m         \u001b[1;32mraise\u001b[0m \u001b[0me\u001b[0m \u001b[1;32mfrom\u001b[0m \u001b[0mValueError\u001b[0m\u001b[1;33m(\u001b[0m\u001b[1;34mf\"Error from parse_expr with transformed code: {code!r}\"\u001b[0m\u001b[1;33m)\u001b[0m\u001b[1;33m\u001b[0m\u001b[1;33m\u001b[0m\u001b[0m\n\u001b[0m\u001b[0;32m   1027\u001b[0m \u001b[1;33m\u001b[0m\u001b[0m\n",
      "\u001b[1;32m~\\AppData\\Local\\Packages\\PythonSoftwareFoundation.Python.3.9_qbz5n2kfra8p0\\LocalCache\\local-packages\\Python39\\site-packages\\sympy\\parsing\\sympy_parser.py\u001b[0m in \u001b[0;36mparse_expr\u001b[1;34m(s, local_dict, transformations, global_dict, evaluate)\u001b[0m\n\u001b[0;32m   1016\u001b[0m     \u001b[1;32mtry\u001b[0m\u001b[1;33m:\u001b[0m\u001b[1;33m\u001b[0m\u001b[1;33m\u001b[0m\u001b[0m\n\u001b[1;32m-> 1017\u001b[1;33m         \u001b[0mrv\u001b[0m \u001b[1;33m=\u001b[0m \u001b[0meval_expr\u001b[0m\u001b[1;33m(\u001b[0m\u001b[0mcode\u001b[0m\u001b[1;33m,\u001b[0m \u001b[0mlocal_dict\u001b[0m\u001b[1;33m,\u001b[0m \u001b[0mglobal_dict\u001b[0m\u001b[1;33m)\u001b[0m\u001b[1;33m\u001b[0m\u001b[1;33m\u001b[0m\u001b[0m\n\u001b[0m\u001b[0;32m   1018\u001b[0m         \u001b[1;31m# restore neutral definitions for names\u001b[0m\u001b[1;33m\u001b[0m\u001b[1;33m\u001b[0m\u001b[0m\n",
      "\u001b[1;32m~\\AppData\\Local\\Packages\\PythonSoftwareFoundation.Python.3.9_qbz5n2kfra8p0\\LocalCache\\local-packages\\Python39\\site-packages\\sympy\\parsing\\sympy_parser.py\u001b[0m in \u001b[0;36meval_expr\u001b[1;34m(code, local_dict, global_dict)\u001b[0m\n\u001b[0;32m    910\u001b[0m     \"\"\"\n\u001b[1;32m--> 911\u001b[1;33m     expr = eval(\n\u001b[0m\u001b[0;32m    912\u001b[0m         code, global_dict, local_dict)  # take local objects in preference\n",
      "\u001b[1;31mSyntaxError\u001b[0m: invalid syntax (<string>, line 1)",
      "\nDuring handling of the above exception, another exception occurred:\n",
      "\u001b[1;31mSympifyError\u001b[0m                              Traceback (most recent call last)",
      "\u001b[1;32m~\\AppData\\Local\\Temp/ipykernel_22880/3252843879.py\u001b[0m in \u001b[0;36m<module>\u001b[1;34m\u001b[0m\n\u001b[1;32m----> 1\u001b[1;33m \u001b[0msym\u001b[0m\u001b[1;33m.\u001b[0m\u001b[0msympify\u001b[0m\u001b[1;33m(\u001b[0m\u001b[1;34m'x_{t}+z'\u001b[0m\u001b[1;33m,\u001b[0m\u001b[0mlocals\u001b[0m\u001b[1;33m=\u001b[0m\u001b[1;33m{\u001b[0m\u001b[1;34m'x_{t}'\u001b[0m\u001b[1;33m:\u001b[0m\u001b[0msym\u001b[0m\u001b[1;33m.\u001b[0m\u001b[0mSymbol\u001b[0m\u001b[1;33m(\u001b[0m\u001b[1;34m'y'\u001b[0m\u001b[1;33m)\u001b[0m\u001b[1;33m}\u001b[0m\u001b[1;33m,\u001b[0m\u001b[0mstrict\u001b[0m\u001b[1;33m=\u001b[0m\u001b[1;32mFalse\u001b[0m\u001b[1;33m)\u001b[0m\u001b[1;33m\u001b[0m\u001b[1;33m\u001b[0m\u001b[0m\n\u001b[0m",
      "\u001b[1;32m~\\AppData\\Local\\Packages\\PythonSoftwareFoundation.Python.3.9_qbz5n2kfra8p0\\LocalCache\\local-packages\\Python39\\site-packages\\sympy\\core\\sympify.py\u001b[0m in \u001b[0;36msympify\u001b[1;34m(a, locals, convert_xor, strict, rational, evaluate)\u001b[0m\n\u001b[0;32m    472\u001b[0m         \u001b[0mexpr\u001b[0m \u001b[1;33m=\u001b[0m \u001b[0mparse_expr\u001b[0m\u001b[1;33m(\u001b[0m\u001b[0ma\u001b[0m\u001b[1;33m,\u001b[0m \u001b[0mlocal_dict\u001b[0m\u001b[1;33m=\u001b[0m\u001b[0mlocals\u001b[0m\u001b[1;33m,\u001b[0m \u001b[0mtransformations\u001b[0m\u001b[1;33m=\u001b[0m\u001b[0mtransformations\u001b[0m\u001b[1;33m,\u001b[0m \u001b[0mevaluate\u001b[0m\u001b[1;33m=\u001b[0m\u001b[0mevaluate\u001b[0m\u001b[1;33m)\u001b[0m\u001b[1;33m\u001b[0m\u001b[1;33m\u001b[0m\u001b[0m\n\u001b[0;32m    473\u001b[0m     \u001b[1;32mexcept\u001b[0m \u001b[1;33m(\u001b[0m\u001b[0mTokenError\u001b[0m\u001b[1;33m,\u001b[0m \u001b[0mSyntaxError\u001b[0m\u001b[1;33m)\u001b[0m \u001b[1;32mas\u001b[0m \u001b[0mexc\u001b[0m\u001b[1;33m:\u001b[0m\u001b[1;33m\u001b[0m\u001b[1;33m\u001b[0m\u001b[0m\n\u001b[1;32m--> 474\u001b[1;33m         \u001b[1;32mraise\u001b[0m \u001b[0mSympifyError\u001b[0m\u001b[1;33m(\u001b[0m\u001b[1;34m'could not parse %r'\u001b[0m \u001b[1;33m%\u001b[0m \u001b[0ma\u001b[0m\u001b[1;33m,\u001b[0m \u001b[0mexc\u001b[0m\u001b[1;33m)\u001b[0m\u001b[1;33m\u001b[0m\u001b[1;33m\u001b[0m\u001b[0m\n\u001b[0m\u001b[0;32m    475\u001b[0m \u001b[1;33m\u001b[0m\u001b[0m\n\u001b[0;32m    476\u001b[0m     \u001b[1;32mreturn\u001b[0m \u001b[0mexpr\u001b[0m\u001b[1;33m\u001b[0m\u001b[1;33m\u001b[0m\u001b[0m\n",
      "\u001b[1;31mSympifyError\u001b[0m: Sympify of expression 'could not parse 'x_{t}+z'' failed, because of exception being raised:\nSyntaxError: invalid syntax (<string>, line 1)"
     ]
    }
   ],
   "source": [
    "sym.sympify('x_{t}+z',locals={'x_{t}':sym.Symbol('y')},strict=False)"
   ]
  },
  {
   "cell_type": "code",
   "execution_count": 44,
   "metadata": {},
   "outputs": [
    {
     "ename": "TypeError",
     "evalue": "can only concatenate str (not \"Symbol\") to str",
     "output_type": "error",
     "traceback": [
      "\u001b[1;31m---------------------------------------------------------------------------\u001b[0m",
      "\u001b[1;31mValueError\u001b[0m                                Traceback (most recent call last)",
      "\u001b[1;31mValueError\u001b[0m: Error from parse_expr with transformed code: \"x +Symbol ('z' )\"",
      "\nThe above exception was the direct cause of the following exception:\n",
      "\u001b[1;31mTypeError\u001b[0m                                 Traceback (most recent call last)",
      "\u001b[1;32m~\\AppData\\Local\\Temp/ipykernel_22880/4058743189.py\u001b[0m in \u001b[0;36m<module>\u001b[1;34m\u001b[0m\n\u001b[1;32m----> 1\u001b[1;33m \u001b[0msym\u001b[0m\u001b[1;33m.\u001b[0m\u001b[0msympify\u001b[0m\u001b[1;33m(\u001b[0m\u001b[1;34m'x+z'\u001b[0m\u001b[1;33m,\u001b[0m\u001b[0mlocals\u001b[0m\u001b[1;33m=\u001b[0m\u001b[1;33m{\u001b[0m\u001b[1;34m'x'\u001b[0m\u001b[1;33m:\u001b[0m\u001b[1;34m'y'\u001b[0m\u001b[1;33m}\u001b[0m\u001b[1;33m,\u001b[0m\u001b[0mstrict\u001b[0m\u001b[1;33m=\u001b[0m\u001b[1;32mFalse\u001b[0m\u001b[1;33m)\u001b[0m\u001b[1;33m\u001b[0m\u001b[1;33m\u001b[0m\u001b[0m\n\u001b[0m",
      "\u001b[1;32m~\\AppData\\Local\\Packages\\PythonSoftwareFoundation.Python.3.9_qbz5n2kfra8p0\\LocalCache\\local-packages\\Python39\\site-packages\\sympy\\core\\sympify.py\u001b[0m in \u001b[0;36msympify\u001b[1;34m(a, locals, convert_xor, strict, rational, evaluate)\u001b[0m\n\u001b[0;32m    470\u001b[0m     \u001b[1;32mtry\u001b[0m\u001b[1;33m:\u001b[0m\u001b[1;33m\u001b[0m\u001b[1;33m\u001b[0m\u001b[0m\n\u001b[0;32m    471\u001b[0m         \u001b[0ma\u001b[0m \u001b[1;33m=\u001b[0m \u001b[0ma\u001b[0m\u001b[1;33m.\u001b[0m\u001b[0mreplace\u001b[0m\u001b[1;33m(\u001b[0m\u001b[1;34m'\\n'\u001b[0m\u001b[1;33m,\u001b[0m \u001b[1;34m''\u001b[0m\u001b[1;33m)\u001b[0m\u001b[1;33m\u001b[0m\u001b[1;33m\u001b[0m\u001b[0m\n\u001b[1;32m--> 472\u001b[1;33m         \u001b[0mexpr\u001b[0m \u001b[1;33m=\u001b[0m \u001b[0mparse_expr\u001b[0m\u001b[1;33m(\u001b[0m\u001b[0ma\u001b[0m\u001b[1;33m,\u001b[0m \u001b[0mlocal_dict\u001b[0m\u001b[1;33m=\u001b[0m\u001b[0mlocals\u001b[0m\u001b[1;33m,\u001b[0m \u001b[0mtransformations\u001b[0m\u001b[1;33m=\u001b[0m\u001b[0mtransformations\u001b[0m\u001b[1;33m,\u001b[0m \u001b[0mevaluate\u001b[0m\u001b[1;33m=\u001b[0m\u001b[0mevaluate\u001b[0m\u001b[1;33m)\u001b[0m\u001b[1;33m\u001b[0m\u001b[1;33m\u001b[0m\u001b[0m\n\u001b[0m\u001b[0;32m    473\u001b[0m     \u001b[1;32mexcept\u001b[0m \u001b[1;33m(\u001b[0m\u001b[0mTokenError\u001b[0m\u001b[1;33m,\u001b[0m \u001b[0mSyntaxError\u001b[0m\u001b[1;33m)\u001b[0m \u001b[1;32mas\u001b[0m \u001b[0mexc\u001b[0m\u001b[1;33m:\u001b[0m\u001b[1;33m\u001b[0m\u001b[1;33m\u001b[0m\u001b[0m\n\u001b[0;32m    474\u001b[0m         \u001b[1;32mraise\u001b[0m \u001b[0mSympifyError\u001b[0m\u001b[1;33m(\u001b[0m\u001b[1;34m'could not parse %r'\u001b[0m \u001b[1;33m%\u001b[0m \u001b[0ma\u001b[0m\u001b[1;33m,\u001b[0m \u001b[0mexc\u001b[0m\u001b[1;33m)\u001b[0m\u001b[1;33m\u001b[0m\u001b[1;33m\u001b[0m\u001b[0m\n",
      "\u001b[1;32m~\\AppData\\Local\\Packages\\PythonSoftwareFoundation.Python.3.9_qbz5n2kfra8p0\\LocalCache\\local-packages\\Python39\\site-packages\\sympy\\parsing\\sympy_parser.py\u001b[0m in \u001b[0;36mparse_expr\u001b[1;34m(s, local_dict, transformations, global_dict, evaluate)\u001b[0m\n\u001b[0;32m   1024\u001b[0m         \u001b[1;32mfor\u001b[0m \u001b[0mi\u001b[0m \u001b[1;32min\u001b[0m \u001b[0mlocal_dict\u001b[0m\u001b[1;33m.\u001b[0m\u001b[0mpop\u001b[0m\u001b[1;33m(\u001b[0m\u001b[1;32mNone\u001b[0m\u001b[1;33m,\u001b[0m \u001b[1;33m(\u001b[0m\u001b[1;33m)\u001b[0m\u001b[1;33m)\u001b[0m\u001b[1;33m:\u001b[0m\u001b[1;33m\u001b[0m\u001b[1;33m\u001b[0m\u001b[0m\n\u001b[0;32m   1025\u001b[0m             \u001b[0mlocal_dict\u001b[0m\u001b[1;33m[\u001b[0m\u001b[0mi\u001b[0m\u001b[1;33m]\u001b[0m \u001b[1;33m=\u001b[0m \u001b[1;32mNone\u001b[0m\u001b[1;33m\u001b[0m\u001b[1;33m\u001b[0m\u001b[0m\n\u001b[1;32m-> 1026\u001b[1;33m         \u001b[1;32mraise\u001b[0m \u001b[0me\u001b[0m \u001b[1;32mfrom\u001b[0m \u001b[0mValueError\u001b[0m\u001b[1;33m(\u001b[0m\u001b[1;34mf\"Error from parse_expr with transformed code: {code!r}\"\u001b[0m\u001b[1;33m)\u001b[0m\u001b[1;33m\u001b[0m\u001b[1;33m\u001b[0m\u001b[0m\n\u001b[0m\u001b[0;32m   1027\u001b[0m \u001b[1;33m\u001b[0m\u001b[0m\n\u001b[0;32m   1028\u001b[0m \u001b[1;33m\u001b[0m\u001b[0m\n",
      "\u001b[1;32m~\\AppData\\Local\\Packages\\PythonSoftwareFoundation.Python.3.9_qbz5n2kfra8p0\\LocalCache\\local-packages\\Python39\\site-packages\\sympy\\parsing\\sympy_parser.py\u001b[0m in \u001b[0;36mparse_expr\u001b[1;34m(s, local_dict, transformations, global_dict, evaluate)\u001b[0m\n\u001b[0;32m   1015\u001b[0m \u001b[1;33m\u001b[0m\u001b[0m\n\u001b[0;32m   1016\u001b[0m     \u001b[1;32mtry\u001b[0m\u001b[1;33m:\u001b[0m\u001b[1;33m\u001b[0m\u001b[1;33m\u001b[0m\u001b[0m\n\u001b[1;32m-> 1017\u001b[1;33m         \u001b[0mrv\u001b[0m \u001b[1;33m=\u001b[0m \u001b[0meval_expr\u001b[0m\u001b[1;33m(\u001b[0m\u001b[0mcode\u001b[0m\u001b[1;33m,\u001b[0m \u001b[0mlocal_dict\u001b[0m\u001b[1;33m,\u001b[0m \u001b[0mglobal_dict\u001b[0m\u001b[1;33m)\u001b[0m\u001b[1;33m\u001b[0m\u001b[1;33m\u001b[0m\u001b[0m\n\u001b[0m\u001b[0;32m   1018\u001b[0m         \u001b[1;31m# restore neutral definitions for names\u001b[0m\u001b[1;33m\u001b[0m\u001b[1;33m\u001b[0m\u001b[0m\n\u001b[0;32m   1019\u001b[0m         \u001b[1;32mfor\u001b[0m \u001b[0mi\u001b[0m \u001b[1;32min\u001b[0m \u001b[0mlocal_dict\u001b[0m\u001b[1;33m.\u001b[0m\u001b[0mpop\u001b[0m\u001b[1;33m(\u001b[0m\u001b[1;32mNone\u001b[0m\u001b[1;33m,\u001b[0m \u001b[1;33m(\u001b[0m\u001b[1;33m)\u001b[0m\u001b[1;33m)\u001b[0m\u001b[1;33m:\u001b[0m\u001b[1;33m\u001b[0m\u001b[1;33m\u001b[0m\u001b[0m\n",
      "\u001b[1;32m~\\AppData\\Local\\Packages\\PythonSoftwareFoundation.Python.3.9_qbz5n2kfra8p0\\LocalCache\\local-packages\\Python39\\site-packages\\sympy\\parsing\\sympy_parser.py\u001b[0m in \u001b[0;36meval_expr\u001b[1;34m(code, local_dict, global_dict)\u001b[0m\n\u001b[0;32m    909\u001b[0m     \u001b[0mGenerally\u001b[0m\u001b[1;33m,\u001b[0m\u001b[0;31m \u001b[0m\u001b[0;31m`\u001b[0m\u001b[0;31m`\u001b[0m\u001b[0mparse_expr\u001b[0m\u001b[0;31m`\u001b[0m\u001b[0;31m`\u001b[0m \u001b[0mshould\u001b[0m \u001b[0mbe\u001b[0m \u001b[0mused\u001b[0m\u001b[1;33m.\u001b[0m\u001b[1;33m\u001b[0m\u001b[1;33m\u001b[0m\u001b[0m\n\u001b[0;32m    910\u001b[0m     \"\"\"\n\u001b[1;32m--> 911\u001b[1;33m     expr = eval(\n\u001b[0m\u001b[0;32m    912\u001b[0m         code, global_dict, local_dict)  # take local objects in preference\n\u001b[0;32m    913\u001b[0m     \u001b[1;32mreturn\u001b[0m \u001b[0mexpr\u001b[0m\u001b[1;33m\u001b[0m\u001b[1;33m\u001b[0m\u001b[0m\n",
      "\u001b[1;32m<string>\u001b[0m in \u001b[0;36m<module>\u001b[1;34m\u001b[0m\n",
      "\u001b[1;31mTypeError\u001b[0m: can only concatenate str (not \"Symbol\") to str"
     ]
    }
   ],
   "source": [
    "sym.sympify('x+z',locals={'x':'y'},strict=False)"
   ]
  },
  {
   "cell_type": "code",
   "execution_count": 31,
   "metadata": {},
   "outputs": [
    {
     "data": {
      "text/plain": [
       "{}"
      ]
     },
     "execution_count": 31,
     "metadata": {},
     "output_type": "execute_result"
    }
   ],
   "source": [
    "ns = {}\n",
    "ns"
   ]
  },
  {
   "cell_type": "code",
   "execution_count": 34,
   "metadata": {},
   "outputs": [],
   "source": [
    "exec('a=3',ns)"
   ]
  },
  {
   "cell_type": "code",
   "execution_count": 21,
   "metadata": {},
   "outputs": [
    {
     "ename": "SympifyError",
     "evalue": "SympifyError: '2+x'",
     "output_type": "error",
     "traceback": [
      "\u001b[1;31m---------------------------------------------------------------------------\u001b[0m",
      "\u001b[1;31mSympifyError\u001b[0m                              Traceback (most recent call last)",
      "\u001b[1;32m~\\AppData\\Local\\Temp/ipykernel_22880/4185411587.py\u001b[0m in \u001b[0;36m<module>\u001b[1;34m\u001b[0m\n\u001b[1;32m----> 1\u001b[1;33m \u001b[0msym\u001b[0m\u001b[1;33m.\u001b[0m\u001b[0mEq\u001b[0m\u001b[1;33m(\u001b[0m\u001b[1;34m'2+x'\u001b[0m\u001b[1;33m,\u001b[0m\u001b[1;34m'y'\u001b[0m\u001b[1;33m)\u001b[0m\u001b[1;33m\u001b[0m\u001b[1;33m\u001b[0m\u001b[0m\n\u001b[0m",
      "\u001b[1;32m~\\AppData\\Local\\Packages\\PythonSoftwareFoundation.Python.3.9_qbz5n2kfra8p0\\LocalCache\\local-packages\\Python39\\site-packages\\sympy\\core\\relational.py\u001b[0m in \u001b[0;36m__new__\u001b[1;34m(cls, lhs, rhs, **options)\u001b[0m\n\u001b[0;32m    501\u001b[0m             \u001b[0mrhs\u001b[0m \u001b[1;33m=\u001b[0m \u001b[1;36m0\u001b[0m\u001b[1;33m\u001b[0m\u001b[1;33m\u001b[0m\u001b[0m\n\u001b[0;32m    502\u001b[0m         \u001b[0mevaluate\u001b[0m \u001b[1;33m=\u001b[0m \u001b[0moptions\u001b[0m\u001b[1;33m.\u001b[0m\u001b[0mpop\u001b[0m\u001b[1;33m(\u001b[0m\u001b[1;34m'evaluate'\u001b[0m\u001b[1;33m,\u001b[0m \u001b[0mglobal_parameters\u001b[0m\u001b[1;33m.\u001b[0m\u001b[0mevaluate\u001b[0m\u001b[1;33m)\u001b[0m\u001b[1;33m\u001b[0m\u001b[1;33m\u001b[0m\u001b[0m\n\u001b[1;32m--> 503\u001b[1;33m         \u001b[0mlhs\u001b[0m \u001b[1;33m=\u001b[0m \u001b[0m_sympify\u001b[0m\u001b[1;33m(\u001b[0m\u001b[0mlhs\u001b[0m\u001b[1;33m)\u001b[0m\u001b[1;33m\u001b[0m\u001b[1;33m\u001b[0m\u001b[0m\n\u001b[0m\u001b[0;32m    504\u001b[0m         \u001b[0mrhs\u001b[0m \u001b[1;33m=\u001b[0m \u001b[0m_sympify\u001b[0m\u001b[1;33m(\u001b[0m\u001b[0mrhs\u001b[0m\u001b[1;33m)\u001b[0m\u001b[1;33m\u001b[0m\u001b[1;33m\u001b[0m\u001b[0m\n\u001b[0;32m    505\u001b[0m         \u001b[1;32mif\u001b[0m \u001b[0mevaluate\u001b[0m\u001b[1;33m:\u001b[0m\u001b[1;33m\u001b[0m\u001b[1;33m\u001b[0m\u001b[0m\n",
      "\u001b[1;32m~\\AppData\\Local\\Packages\\PythonSoftwareFoundation.Python.3.9_qbz5n2kfra8p0\\LocalCache\\local-packages\\Python39\\site-packages\\sympy\\core\\sympify.py\u001b[0m in \u001b[0;36m_sympify\u001b[1;34m(a)\u001b[0m\n\u001b[0;32m    503\u001b[0m \u001b[1;33m\u001b[0m\u001b[0m\n\u001b[0;32m    504\u001b[0m     \"\"\"\n\u001b[1;32m--> 505\u001b[1;33m     \u001b[1;32mreturn\u001b[0m \u001b[0msympify\u001b[0m\u001b[1;33m(\u001b[0m\u001b[0ma\u001b[0m\u001b[1;33m,\u001b[0m \u001b[0mstrict\u001b[0m\u001b[1;33m=\u001b[0m\u001b[1;32mTrue\u001b[0m\u001b[1;33m)\u001b[0m\u001b[1;33m\u001b[0m\u001b[1;33m\u001b[0m\u001b[0m\n\u001b[0m\u001b[0;32m    506\u001b[0m \u001b[1;33m\u001b[0m\u001b[0m\n\u001b[0;32m    507\u001b[0m \u001b[1;33m\u001b[0m\u001b[0m\n",
      "\u001b[1;32m~\\AppData\\Local\\Packages\\PythonSoftwareFoundation.Python.3.9_qbz5n2kfra8p0\\LocalCache\\local-packages\\Python39\\site-packages\\sympy\\core\\sympify.py\u001b[0m in \u001b[0;36msympify\u001b[1;34m(a, locals, convert_xor, strict, rational, evaluate)\u001b[0m\n\u001b[0;32m    431\u001b[0m \u001b[1;33m\u001b[0m\u001b[0m\n\u001b[0;32m    432\u001b[0m     \u001b[1;32mif\u001b[0m \u001b[0mstrict\u001b[0m\u001b[1;33m:\u001b[0m\u001b[1;33m\u001b[0m\u001b[1;33m\u001b[0m\u001b[0m\n\u001b[1;32m--> 433\u001b[1;33m         \u001b[1;32mraise\u001b[0m \u001b[0mSympifyError\u001b[0m\u001b[1;33m(\u001b[0m\u001b[0ma\u001b[0m\u001b[1;33m)\u001b[0m\u001b[1;33m\u001b[0m\u001b[1;33m\u001b[0m\u001b[0m\n\u001b[0m\u001b[0;32m    434\u001b[0m \u001b[1;33m\u001b[0m\u001b[0m\n\u001b[0;32m    435\u001b[0m     \u001b[1;32mif\u001b[0m \u001b[0miterable\u001b[0m\u001b[1;33m(\u001b[0m\u001b[0ma\u001b[0m\u001b[1;33m)\u001b[0m\u001b[1;33m:\u001b[0m\u001b[1;33m\u001b[0m\u001b[1;33m\u001b[0m\u001b[0m\n",
      "\u001b[1;31mSympifyError\u001b[0m: SympifyError: '2+x'"
     ]
    }
   ],
   "source": [
    "sym.Eq('2+x','y')"
   ]
  },
  {
   "cell_type": "code",
   "execution_count": 4,
   "metadata": {},
   "outputs": [
    {
     "name": "stdout",
     "output_type": "stream",
     "text": [
      "class Equality(Relational):\n",
      "    \"\"\"An equal relation between two objects.\n",
      "\n",
      "    Explanation\n",
      "    ===========\n",
      "\n",
      "    Represents that two objects are equal.  If they can be easily shown\n",
      "    to be definitively equal (or unequal), this will reduce to True (or\n",
      "    False).  Otherwise, the relation is maintained as an unevaluated\n",
      "    Equality object.  Use the ``simplify`` function on this object for\n",
      "    more nontrivial evaluation of the equality relation.\n",
      "\n",
      "    As usual, the keyword argument ``evaluate=False`` can be used to\n",
      "    prevent any evaluation.\n",
      "\n",
      "    Examples\n",
      "    ========\n",
      "\n",
      "    >>> from sympy import Eq, simplify, exp, cos\n",
      "    >>> from sympy.abc import x, y\n",
      "    >>> Eq(y, x + x**2)\n",
      "    Eq(y, x**2 + x)\n",
      "    >>> Eq(2, 5)\n",
      "    False\n",
      "    >>> Eq(2, 5, evaluate=False)\n",
      "    Eq(2, 5)\n",
      "    >>> _.doit()\n",
      "    False\n",
      "    >>> Eq(exp(x), exp(x).rewrite(cos))\n",
      "    Eq(exp(x), sinh(x) + cosh(x))\n",
      "    >>> simplify(_)\n",
      "    True\n",
      "\n",
      "    See Also\n",
      "    ========\n",
      "\n",
      "    sympy.logic.boolalg.Equivalent : for representing equality between two\n",
      "        boolean expressions\n",
      "\n",
      "    Notes\n",
      "    =====\n",
      "\n",
      "    Python treats 1 and True (and 0 and False) as being equal; SymPy\n",
      "    does not. And integer will always compare as unequal to a Boolean:\n",
      "\n",
      "    >>> Eq(True, 1), True == 1\n",
      "    (False, True)\n",
      "\n",
      "    This class is not the same as the == operator.  The == operator tests\n",
      "    for exact structural equality between two expressions; this class\n",
      "    compares expressions mathematically.\n",
      "\n",
      "    If either object defines an ``_eval_Eq`` method, it can be used in place of\n",
      "    the default algorithm.  If ``lhs._eval_Eq(rhs)`` or ``rhs._eval_Eq(lhs)``\n",
      "    returns anything other than None, that return value will be substituted for\n",
      "    the Equality.  If None is returned by ``_eval_Eq``, an Equality object will\n",
      "    be created as usual.\n",
      "\n",
      "    Since this object is already an expression, it does not respond to\n",
      "    the method ``as_expr`` if one tries to create `x - y` from ``Eq(x, y)``.\n",
      "    This can be done with the ``rewrite(Add)`` method.\n",
      "    \"\"\"\n",
      "    rel_op = '=='\n",
      "\n",
      "    __slots__ = ()\n",
      "\n",
      "    is_Equality = True\n",
      "\n",
      "    def __new__(cls, lhs, rhs=None, **options):\n",
      "\n",
      "        if rhs is None:\n",
      "            SymPyDeprecationWarning(\n",
      "                feature=\"Eq(expr) with rhs default to 0\",\n",
      "                useinstead=\"Eq(expr, 0)\",\n",
      "                issue=16587,\n",
      "                deprecated_since_version=\"1.5\"\n",
      "            ).warn()\n",
      "            rhs = 0\n",
      "        evaluate = options.pop('evaluate', global_parameters.evaluate)\n",
      "        lhs = _sympify(lhs)\n",
      "        rhs = _sympify(rhs)\n",
      "        if evaluate:\n",
      "            val = is_eq(lhs, rhs)\n",
      "            if val is None:\n",
      "                return cls(lhs, rhs, evaluate=False)\n",
      "            else:\n",
      "                return _sympify(val)\n",
      "\n",
      "        return Relational.__new__(cls, lhs, rhs)\n",
      "\n",
      "    @classmethod\n",
      "    def _eval_relation(cls, lhs, rhs):\n",
      "        return _sympify(lhs == rhs)\n",
      "\n",
      "    def _eval_rewrite_as_Add(self, *args, **kwargs):\n",
      "        \"\"\"\n",
      "        return Eq(L, R) as L - R. To control the evaluation of\n",
      "        the result set pass `evaluate=True` to give L - R;\n",
      "        if `evaluate=None` then terms in L and R will not cancel\n",
      "        but they will be listed in canonical order; otherwise\n",
      "        non-canonical args will be returned.\n",
      "\n",
      "        Examples\n",
      "        ========\n",
      "\n",
      "        >>> from sympy import Eq, Add\n",
      "        >>> from sympy.abc import b, x\n",
      "        >>> eq = Eq(x + b, x - b)\n",
      "        >>> eq.rewrite(Add)\n",
      "        2*b\n",
      "        >>> eq.rewrite(Add, evaluate=None).args\n",
      "        (b, b, x, -x)\n",
      "        >>> eq.rewrite(Add, evaluate=False).args\n",
      "        (b, x, b, -x)\n",
      "        \"\"\"\n",
      "        from .add import _unevaluated_Add, Add\n",
      "        L, R = args\n",
      "        evaluate = kwargs.get('evaluate', True)\n",
      "        if evaluate:\n",
      "            # allow cancellation of args\n",
      "            return L - R\n",
      "        args = Add.make_args(L) + Add.make_args(-R)\n",
      "        if evaluate is None:\n",
      "            # no cancellation, but canonical\n",
      "            return _unevaluated_Add(*args)\n",
      "        # no cancellation, not canonical\n",
      "        return Add._from_args(args)\n",
      "\n",
      "    @property\n",
      "    def binary_symbols(self):\n",
      "        if S.true in self.args or S.false in self.args:\n",
      "            if self.lhs.is_Symbol:\n",
      "                return {self.lhs}\n",
      "            elif self.rhs.is_Symbol:\n",
      "                return {self.rhs}\n",
      "        return set()\n",
      "\n",
      "    def _eval_simplify(self, **kwargs):\n",
      "        from .add import Add\n",
      "        from sympy.core.expr import Expr\n",
      "        from sympy.solvers.solveset import linear_coeffs\n",
      "        # standard simplify\n",
      "        e = super()._eval_simplify(**kwargs)\n",
      "        if not isinstance(e, Equality):\n",
      "            return e\n",
      "        if not isinstance(e.lhs, Expr) or not isinstance(e.rhs, Expr):\n",
      "            return e\n",
      "        free = self.free_symbols\n",
      "        if len(free) == 1:\n",
      "            try:\n",
      "                x = free.pop()\n",
      "                m, b = linear_coeffs(\n",
      "                    e.rewrite(Add, evaluate=False), x)\n",
      "                if m.is_zero is False:\n",
      "                    enew = e.func(x, -b / m)\n",
      "                else:\n",
      "                    enew = e.func(m * x, -b)\n",
      "                measure = kwargs['measure']\n",
      "                if measure(enew) <= kwargs['ratio'] * measure(e):\n",
      "                    e = enew\n",
      "            except ValueError:\n",
      "                pass\n",
      "        return e.canonical\n",
      "\n",
      "    def integrate(self, *args, **kwargs):\n",
      "        \"\"\"See the integrate function in sympy.integrals\"\"\"\n",
      "        from sympy.integrals import integrate\n",
      "        return integrate(self, *args, **kwargs)\n",
      "\n",
      "    def as_poly(self, *gens, **kwargs):\n",
      "        '''Returns lhs-rhs as a Poly\n",
      "\n",
      "        Examples\n",
      "        ========\n",
      "\n",
      "        >>> from sympy import Eq\n",
      "        >>> from sympy.abc import x\n",
      "        >>> Eq(x**2, 1).as_poly(x)\n",
      "        Poly(x**2 - 1, x, domain='ZZ')\n",
      "        '''\n",
      "        return (self.lhs - self.rhs).as_poly(*gens, **kwargs)\n",
      "\n"
     ]
    }
   ],
   "source": [
    "print(getsource(sym.Eq))"
   ]
  },
  {
   "cell_type": "code",
   "execution_count": null,
   "metadata": {},
   "outputs": [],
   "source": []
  }
 ],
 "metadata": {
  "kernelspec": {
   "display_name": "Python 3.9.13 ('venv': venv)",
   "language": "python",
   "name": "python3"
  },
  "language_info": {
   "codemirror_mode": {
    "name": "ipython",
    "version": 3
   },
   "file_extension": ".py",
   "mimetype": "text/x-python",
   "name": "python",
   "nbconvert_exporter": "python",
   "pygments_lexer": "ipython3",
   "version": "3.9.13"
  },
  "orig_nbformat": 4,
  "vscode": {
   "interpreter": {
    "hash": "3073fcd6807683c50fde901c1352bbe376e7513925b8e0c0fcab304aa16222cb"
   }
  }
 },
 "nbformat": 4,
 "nbformat_minor": 2
}
